{
 "cells": [
  {
   "cell_type": "markdown",
   "metadata": {},
   "source": [
    "# Úkol č. 2 - Využití neuronových sítí\n",
    "\n",
    "  * **Deadline je 13. 5. 2024, 23:59:59**, pokud odevzdáte úkol do 20. 5. 2024, 23:59:59, budete penalizování -12 body, pozdější odevzdání je bez bodu.\n",
    "  * V rámci tohoto úkolu musíte sestrojit vhodný model neuronové sítě pro vícetřídou klasifikaci.\n",
    "  * Část bodů získáte za správné vypracování a část bodů získáte za výslednou přesnost Vašeho modelu na evaluačních datech.\n",
    "    \n",
    "> **Úkoly jsou zadány tak, aby Vám daly prostor pro invenci. Vymyslet _jak přesně_ budete úkol řešit, je důležitou součástí zadání a originalita či nápaditost bude také hodnocena!**\n",
    "\n",
    "Využívejte buňky typu `Markdown` k vysvětlování Vašeho postupu. Za nepřehlednost budou strhávány body.\n",
    "\n",
    "## Zdroj dat\n",
    "\n",
    " * Zdrojem dat jsou soubory `train.csv` a `evaluate.csv`.\n",
    " * Jedná se o obrázky 32x32 pixelů ve stupních šedi, které byly nějakým způsobem vyrobeny z [Fashion Mnist datasetu](https://www.kaggle.com/datasets/zalando-research/fashionmnist).\n",
    " * Soubor `train.csv` obsahuje trénovací data.\n",
    " * Cílová (vysvětlovaná) proměnná se jmenuje **label**.\n",
    " * Soubor `evaluate.csv` obsahuje testovací data bez hodnot skutečných labelů.\n",
    "\n",
    "## Pokyny k vypracování (max 18 bodů)\n",
    "\n",
    "**Body zadání**, za jejichž (poctivé) vypracování získáte **18 bodů**:\n",
    "  * V notebooku načtěte data ze souboru `train.csv`. Vhodným způsobem si je rozdělte na podmnožiny, které Vám poslouží pro trénování, porovnávání modelů a následnou predikci výkonnosti finálního modelu.\n",
    "  * Proveďte základní průzkum dat a svá pozorování diskutujte. Některé obrázky také zobrazte.\n",
    "  * Sestrojte a natrénujte několik variant modelu dopředné neuronové sítě. Přitom v rámci výpočetních možností:\n",
    "      * Okomentujte vhodnost daného modelu pro daný typ úlohy.\n",
    "      * Experimentujte s různými hloubkami a velikosmi vrstev.\n",
    "      * Experimentujte se standardizací/normalizací dat.\n",
    "      * Experimentujte s různými optimalizačními metodami.\n",
    "      * Experimentujte s různými regularizačními technikami.\n",
    "      * Získané výsledky vždy řádně okomentujte.\n",
    "\n",
    "  * Sestrojte model konvoluční neuronové sítě. Přitom v rámci výpočetních možností:\n",
    "      * Okomentujte vhodnost daného modelu pro daný typ úlohy.\n",
    "      * Experimentujte s různými hloubkami a velikosmi vrstev.\n",
    "      * Experimentujte se standardizací/normalizací dat.\n",
    "      * Experimentujte s různými optimalizačními metodami.\n",
    "      * Experimentujte s různými regularizačními technikami.\n",
    "      * Získané výsledky vždy řádně okomentujte.\n",
    "    \n",
    "  * Ze všech zkoušených možností vyberte finální model a odhadněte, jakou přesnost můžete očekávat na nových datech, která jste doposud neměli k dispozici.\n",
    "  \n",
    "  * Nakonec načtěte vyhodnocovací data ze souboru`evaluate.csv`. Pomocí finálního modelu napočítejte predikce pro tyto data (vysvětlovaná proměnná v nich již není). Vytvořte soubor `results.csv`, ve kterém získané predikce uložíte do sloupce **label** a identifikátory do sloupce **ID**. Tento soubor též odevzdejte (uložte do projektu vedle notebooku).\n",
    "   \n",
    "   * Ukázka prvních řádků souboru `results.csv`:\n",
    "  \n",
    "```\n",
    "ID,label\n",
    "0,0\n",
    "1,1\n",
    "...\n",
    "```\n",
    "\n",
    "## Vyhodnocovací část (max 7 bodů)\n",
    "Za přesnost (accuraccy) na odevzdaných predikcích pro vyhodnocovací množnu získáte dalších max **7 bodů**.\n",
    "\n",
    "Označíme-li $A$ přesnost, které jste dosáhli, zaokrouhlenou na 2 desetinná místa, akumulují se výsledné body podle následujících pravidel:\n",
    "* pokud $A \\geq 0.80$ obdržíte +1 bod\n",
    "* pokud $A \\geq 0.83$ obdržíte +1 bod\n",
    "* pokud $A \\geq 0.86$ obdržíte +1 bod\n",
    "* pokud $A \\geq 0.87$ obdržíte +1 bod\n",
    "* pokud $A \\geq 0.88$ obdržíte +1 bod\n",
    "* pokud $A \\geq 0.89$ obdržíte +1 bod\n",
    "* pokud $A \\geq 0.90$ obdržíte +1 bod\n",
    "\n",
    "**Příklad:** Pokud bude Vaše přesnost 0.856, vyjde A = 0.86 a vy získáte 3 body.\n",
    "\n",
    "\n",
    "## Poznámky k odevzdání\n",
    "\n",
    "  * Řiďte se pokyny ze stránky https://courses.fit.cvut.cz/BI-ML2/homeworks/index.html.\n",
    "  * Vytvořte i csv soubor `results.csv` s predikcemi a uložte ho v rámci projektu vedle ipython notebooku."
   ]
  },
  {
   "cell_type": "code",
   "execution_count": 1,
   "metadata": {},
   "outputs": [],
   "source": [
    "### odtud už je to Vaše\n",
    "\n"
   ]
  },
  {
   "cell_type": "markdown",
   "metadata": {},
   "source": [
    "# ŘEŠENÍ"
   ]
  },
  {
   "cell_type": "markdown",
   "metadata": {},
   "source": [
    "## I. Předzpracování dat"
   ]
  },
  {
   "cell_type": "markdown",
   "metadata": {},
   "source": [
    "Importuju potřebné knihovny"
   ]
  },
  {
   "cell_type": "code",
   "execution_count": 2,
   "metadata": {},
   "outputs": [],
   "source": [
    "import numpy as np\n",
    "import pandas as pd\n",
    "import matplotlib.pyplot as plt\n",
    "import seaborn as sns\n",
    "import math"
   ]
  },
  {
   "cell_type": "markdown",
   "metadata": {},
   "source": [
    "Načítam si dataset ze csv-souboru a podívám se na informace o něm"
   ]
  },
  {
   "cell_type": "code",
   "execution_count": 3,
   "metadata": {},
   "outputs": [
    {
     "data": {
      "text/plain": [
       "(52500, 1025)"
      ]
     },
     "metadata": {},
     "output_type": "display_data"
    },
    {
     "data": {
      "text/html": [
       "<div>\n",
       "<style scoped>\n",
       "    .dataframe tbody tr th:only-of-type {\n",
       "        vertical-align: middle;\n",
       "    }\n",
       "\n",
       "    .dataframe tbody tr th {\n",
       "        vertical-align: top;\n",
       "    }\n",
       "\n",
       "    .dataframe thead th {\n",
       "        text-align: right;\n",
       "    }\n",
       "</style>\n",
       "<table border=\"1\" class=\"dataframe\">\n",
       "  <thead>\n",
       "    <tr style=\"text-align: right;\">\n",
       "      <th></th>\n",
       "      <th>pix1</th>\n",
       "      <th>pix2</th>\n",
       "      <th>pix3</th>\n",
       "      <th>pix4</th>\n",
       "      <th>pix5</th>\n",
       "      <th>pix6</th>\n",
       "      <th>pix7</th>\n",
       "      <th>pix8</th>\n",
       "      <th>pix9</th>\n",
       "      <th>pix10</th>\n",
       "      <th>...</th>\n",
       "      <th>pix1016</th>\n",
       "      <th>pix1017</th>\n",
       "      <th>pix1018</th>\n",
       "      <th>pix1019</th>\n",
       "      <th>pix1020</th>\n",
       "      <th>pix1021</th>\n",
       "      <th>pix1022</th>\n",
       "      <th>pix1023</th>\n",
       "      <th>pix1024</th>\n",
       "      <th>label</th>\n",
       "    </tr>\n",
       "  </thead>\n",
       "  <tbody>\n",
       "    <tr>\n",
       "      <th>0</th>\n",
       "      <td>0</td>\n",
       "      <td>0</td>\n",
       "      <td>0</td>\n",
       "      <td>0</td>\n",
       "      <td>0</td>\n",
       "      <td>0</td>\n",
       "      <td>0</td>\n",
       "      <td>0</td>\n",
       "      <td>0</td>\n",
       "      <td>0</td>\n",
       "      <td>...</td>\n",
       "      <td>0</td>\n",
       "      <td>0</td>\n",
       "      <td>0</td>\n",
       "      <td>0</td>\n",
       "      <td>0</td>\n",
       "      <td>0</td>\n",
       "      <td>0</td>\n",
       "      <td>0</td>\n",
       "      <td>0</td>\n",
       "      <td>3</td>\n",
       "    </tr>\n",
       "    <tr>\n",
       "      <th>1</th>\n",
       "      <td>1</td>\n",
       "      <td>1</td>\n",
       "      <td>1</td>\n",
       "      <td>1</td>\n",
       "      <td>1</td>\n",
       "      <td>1</td>\n",
       "      <td>1</td>\n",
       "      <td>1</td>\n",
       "      <td>1</td>\n",
       "      <td>1</td>\n",
       "      <td>...</td>\n",
       "      <td>1</td>\n",
       "      <td>1</td>\n",
       "      <td>1</td>\n",
       "      <td>1</td>\n",
       "      <td>1</td>\n",
       "      <td>1</td>\n",
       "      <td>1</td>\n",
       "      <td>1</td>\n",
       "      <td>1</td>\n",
       "      <td>3</td>\n",
       "    </tr>\n",
       "    <tr>\n",
       "      <th>2</th>\n",
       "      <td>1</td>\n",
       "      <td>1</td>\n",
       "      <td>1</td>\n",
       "      <td>1</td>\n",
       "      <td>1</td>\n",
       "      <td>1</td>\n",
       "      <td>1</td>\n",
       "      <td>1</td>\n",
       "      <td>1</td>\n",
       "      <td>1</td>\n",
       "      <td>...</td>\n",
       "      <td>1</td>\n",
       "      <td>1</td>\n",
       "      <td>1</td>\n",
       "      <td>1</td>\n",
       "      <td>1</td>\n",
       "      <td>1</td>\n",
       "      <td>1</td>\n",
       "      <td>1</td>\n",
       "      <td>1</td>\n",
       "      <td>7</td>\n",
       "    </tr>\n",
       "    <tr>\n",
       "      <th>3</th>\n",
       "      <td>0</td>\n",
       "      <td>0</td>\n",
       "      <td>0</td>\n",
       "      <td>0</td>\n",
       "      <td>0</td>\n",
       "      <td>0</td>\n",
       "      <td>0</td>\n",
       "      <td>0</td>\n",
       "      <td>0</td>\n",
       "      <td>0</td>\n",
       "      <td>...</td>\n",
       "      <td>0</td>\n",
       "      <td>0</td>\n",
       "      <td>0</td>\n",
       "      <td>0</td>\n",
       "      <td>0</td>\n",
       "      <td>0</td>\n",
       "      <td>0</td>\n",
       "      <td>0</td>\n",
       "      <td>0</td>\n",
       "      <td>9</td>\n",
       "    </tr>\n",
       "    <tr>\n",
       "      <th>4</th>\n",
       "      <td>1</td>\n",
       "      <td>1</td>\n",
       "      <td>1</td>\n",
       "      <td>1</td>\n",
       "      <td>1</td>\n",
       "      <td>1</td>\n",
       "      <td>1</td>\n",
       "      <td>1</td>\n",
       "      <td>1</td>\n",
       "      <td>1</td>\n",
       "      <td>...</td>\n",
       "      <td>1</td>\n",
       "      <td>1</td>\n",
       "      <td>1</td>\n",
       "      <td>1</td>\n",
       "      <td>1</td>\n",
       "      <td>1</td>\n",
       "      <td>1</td>\n",
       "      <td>1</td>\n",
       "      <td>1</td>\n",
       "      <td>5</td>\n",
       "    </tr>\n",
       "  </tbody>\n",
       "</table>\n",
       "<p>5 rows × 1025 columns</p>\n",
       "</div>"
      ],
      "text/plain": [
       "   pix1  pix2  pix3  pix4  pix5  pix6  pix7  pix8  pix9  pix10  ...  pix1016  \\\n",
       "0     0     0     0     0     0     0     0     0     0      0  ...        0   \n",
       "1     1     1     1     1     1     1     1     1     1      1  ...        1   \n",
       "2     1     1     1     1     1     1     1     1     1      1  ...        1   \n",
       "3     0     0     0     0     0     0     0     0     0      0  ...        0   \n",
       "4     1     1     1     1     1     1     1     1     1      1  ...        1   \n",
       "\n",
       "   pix1017  pix1018  pix1019  pix1020  pix1021  pix1022  pix1023  pix1024  \\\n",
       "0        0        0        0        0        0        0        0        0   \n",
       "1        1        1        1        1        1        1        1        1   \n",
       "2        1        1        1        1        1        1        1        1   \n",
       "3        0        0        0        0        0        0        0        0   \n",
       "4        1        1        1        1        1        1        1        1   \n",
       "\n",
       "   label  \n",
       "0      3  \n",
       "1      3  \n",
       "2      7  \n",
       "3      9  \n",
       "4      5  \n",
       "\n",
       "[5 rows x 1025 columns]"
      ]
     },
     "metadata": {},
     "output_type": "display_data"
    },
    {
     "name": "stdout",
     "output_type": "stream",
     "text": [
      "<class 'pandas.core.frame.DataFrame'>\n",
      "RangeIndex: 52500 entries, 0 to 52499\n",
      "Columns: 1025 entries, pix1 to label\n",
      "dtypes: int64(1025)\n",
      "memory usage: 410.6 MB\n"
     ]
    },
    {
     "data": {
      "text/plain": [
       "None"
      ]
     },
     "metadata": {},
     "output_type": "display_data"
    },
    {
     "data": {
      "text/plain": [
       "pix1       12\n",
       "pix2       12\n",
       "pix3       12\n",
       "pix4       12\n",
       "pix5       12\n",
       "           ..\n",
       "pix1021    12\n",
       "pix1022    12\n",
       "pix1023    12\n",
       "pix1024    12\n",
       "label      10\n",
       "Length: 1025, dtype: int64"
      ]
     },
     "metadata": {},
     "output_type": "display_data"
    },
    {
     "data": {
      "text/html": [
       "<div>\n",
       "<style scoped>\n",
       "    .dataframe tbody tr th:only-of-type {\n",
       "        vertical-align: middle;\n",
       "    }\n",
       "\n",
       "    .dataframe tbody tr th {\n",
       "        vertical-align: top;\n",
       "    }\n",
       "\n",
       "    .dataframe thead th {\n",
       "        text-align: right;\n",
       "    }\n",
       "</style>\n",
       "<table border=\"1\" class=\"dataframe\">\n",
       "  <thead>\n",
       "    <tr style=\"text-align: right;\">\n",
       "      <th></th>\n",
       "      <th>pix1</th>\n",
       "      <th>pix2</th>\n",
       "      <th>pix3</th>\n",
       "      <th>pix4</th>\n",
       "      <th>pix5</th>\n",
       "      <th>pix6</th>\n",
       "      <th>pix7</th>\n",
       "      <th>pix8</th>\n",
       "      <th>pix9</th>\n",
       "      <th>pix10</th>\n",
       "      <th>...</th>\n",
       "      <th>pix1016</th>\n",
       "      <th>pix1017</th>\n",
       "      <th>pix1018</th>\n",
       "      <th>pix1019</th>\n",
       "      <th>pix1020</th>\n",
       "      <th>pix1021</th>\n",
       "      <th>pix1022</th>\n",
       "      <th>pix1023</th>\n",
       "      <th>pix1024</th>\n",
       "      <th>label</th>\n",
       "    </tr>\n",
       "  </thead>\n",
       "  <tbody>\n",
       "    <tr>\n",
       "      <th>count</th>\n",
       "      <td>52500.000000</td>\n",
       "      <td>52500.000000</td>\n",
       "      <td>52500.000000</td>\n",
       "      <td>52500.000000</td>\n",
       "      <td>52500.000000</td>\n",
       "      <td>52500.000000</td>\n",
       "      <td>52500.000000</td>\n",
       "      <td>52500.000000</td>\n",
       "      <td>52500.000000</td>\n",
       "      <td>52500.000000</td>\n",
       "      <td>...</td>\n",
       "      <td>52500.000000</td>\n",
       "      <td>52500.000000</td>\n",
       "      <td>52500.000000</td>\n",
       "      <td>52500.000000</td>\n",
       "      <td>52500.000000</td>\n",
       "      <td>52500.000000</td>\n",
       "      <td>52500.000000</td>\n",
       "      <td>52500.000000</td>\n",
       "      <td>52500.000000</td>\n",
       "      <td>52500.000000</td>\n",
       "    </tr>\n",
       "    <tr>\n",
       "      <th>mean</th>\n",
       "      <td>0.877390</td>\n",
       "      <td>0.877390</td>\n",
       "      <td>0.877390</td>\n",
       "      <td>0.877390</td>\n",
       "      <td>0.877410</td>\n",
       "      <td>0.877429</td>\n",
       "      <td>0.877429</td>\n",
       "      <td>0.877543</td>\n",
       "      <td>0.878038</td>\n",
       "      <td>0.880648</td>\n",
       "      <td>...</td>\n",
       "      <td>0.929867</td>\n",
       "      <td>0.909143</td>\n",
       "      <td>0.893524</td>\n",
       "      <td>0.883505</td>\n",
       "      <td>0.878952</td>\n",
       "      <td>0.877467</td>\n",
       "      <td>0.877410</td>\n",
       "      <td>0.877390</td>\n",
       "      <td>0.877390</td>\n",
       "      <td>4.509752</td>\n",
       "    </tr>\n",
       "    <tr>\n",
       "      <th>std</th>\n",
       "      <td>1.493605</td>\n",
       "      <td>1.493605</td>\n",
       "      <td>1.493605</td>\n",
       "      <td>1.493605</td>\n",
       "      <td>1.493601</td>\n",
       "      <td>1.493596</td>\n",
       "      <td>1.493596</td>\n",
       "      <td>1.493682</td>\n",
       "      <td>1.494258</td>\n",
       "      <td>1.528912</td>\n",
       "      <td>...</td>\n",
       "      <td>2.835341</td>\n",
       "      <td>2.224631</td>\n",
       "      <td>1.794160</td>\n",
       "      <td>1.615415</td>\n",
       "      <td>1.505722</td>\n",
       "      <td>1.493854</td>\n",
       "      <td>1.493677</td>\n",
       "      <td>1.493605</td>\n",
       "      <td>1.493605</td>\n",
       "      <td>2.872106</td>\n",
       "    </tr>\n",
       "    <tr>\n",
       "      <th>min</th>\n",
       "      <td>0.000000</td>\n",
       "      <td>0.000000</td>\n",
       "      <td>0.000000</td>\n",
       "      <td>0.000000</td>\n",
       "      <td>0.000000</td>\n",
       "      <td>0.000000</td>\n",
       "      <td>0.000000</td>\n",
       "      <td>0.000000</td>\n",
       "      <td>0.000000</td>\n",
       "      <td>0.000000</td>\n",
       "      <td>...</td>\n",
       "      <td>0.000000</td>\n",
       "      <td>0.000000</td>\n",
       "      <td>0.000000</td>\n",
       "      <td>0.000000</td>\n",
       "      <td>0.000000</td>\n",
       "      <td>0.000000</td>\n",
       "      <td>0.000000</td>\n",
       "      <td>0.000000</td>\n",
       "      <td>0.000000</td>\n",
       "      <td>0.000000</td>\n",
       "    </tr>\n",
       "    <tr>\n",
       "      <th>25%</th>\n",
       "      <td>0.000000</td>\n",
       "      <td>0.000000</td>\n",
       "      <td>0.000000</td>\n",
       "      <td>0.000000</td>\n",
       "      <td>0.000000</td>\n",
       "      <td>0.000000</td>\n",
       "      <td>0.000000</td>\n",
       "      <td>0.000000</td>\n",
       "      <td>0.000000</td>\n",
       "      <td>0.000000</td>\n",
       "      <td>...</td>\n",
       "      <td>0.000000</td>\n",
       "      <td>0.000000</td>\n",
       "      <td>0.000000</td>\n",
       "      <td>0.000000</td>\n",
       "      <td>0.000000</td>\n",
       "      <td>0.000000</td>\n",
       "      <td>0.000000</td>\n",
       "      <td>0.000000</td>\n",
       "      <td>0.000000</td>\n",
       "      <td>2.000000</td>\n",
       "    </tr>\n",
       "    <tr>\n",
       "      <th>50%</th>\n",
       "      <td>0.000000</td>\n",
       "      <td>0.000000</td>\n",
       "      <td>0.000000</td>\n",
       "      <td>0.000000</td>\n",
       "      <td>0.000000</td>\n",
       "      <td>0.000000</td>\n",
       "      <td>0.000000</td>\n",
       "      <td>0.000000</td>\n",
       "      <td>0.000000</td>\n",
       "      <td>0.000000</td>\n",
       "      <td>...</td>\n",
       "      <td>0.000000</td>\n",
       "      <td>0.000000</td>\n",
       "      <td>0.000000</td>\n",
       "      <td>0.000000</td>\n",
       "      <td>0.000000</td>\n",
       "      <td>0.000000</td>\n",
       "      <td>0.000000</td>\n",
       "      <td>0.000000</td>\n",
       "      <td>0.000000</td>\n",
       "      <td>5.000000</td>\n",
       "    </tr>\n",
       "    <tr>\n",
       "      <th>75%</th>\n",
       "      <td>1.000000</td>\n",
       "      <td>1.000000</td>\n",
       "      <td>1.000000</td>\n",
       "      <td>1.000000</td>\n",
       "      <td>1.000000</td>\n",
       "      <td>1.000000</td>\n",
       "      <td>1.000000</td>\n",
       "      <td>1.000000</td>\n",
       "      <td>1.000000</td>\n",
       "      <td>1.000000</td>\n",
       "      <td>...</td>\n",
       "      <td>1.000000</td>\n",
       "      <td>1.000000</td>\n",
       "      <td>1.000000</td>\n",
       "      <td>1.000000</td>\n",
       "      <td>1.000000</td>\n",
       "      <td>1.000000</td>\n",
       "      <td>1.000000</td>\n",
       "      <td>1.000000</td>\n",
       "      <td>1.000000</td>\n",
       "      <td>7.000000</td>\n",
       "    </tr>\n",
       "    <tr>\n",
       "      <th>max</th>\n",
       "      <td>11.000000</td>\n",
       "      <td>11.000000</td>\n",
       "      <td>11.000000</td>\n",
       "      <td>11.000000</td>\n",
       "      <td>11.000000</td>\n",
       "      <td>11.000000</td>\n",
       "      <td>11.000000</td>\n",
       "      <td>11.000000</td>\n",
       "      <td>11.000000</td>\n",
       "      <td>73.000000</td>\n",
       "      <td>...</td>\n",
       "      <td>187.000000</td>\n",
       "      <td>172.000000</td>\n",
       "      <td>134.000000</td>\n",
       "      <td>116.000000</td>\n",
       "      <td>41.000000</td>\n",
       "      <td>11.000000</td>\n",
       "      <td>11.000000</td>\n",
       "      <td>11.000000</td>\n",
       "      <td>11.000000</td>\n",
       "      <td>9.000000</td>\n",
       "    </tr>\n",
       "  </tbody>\n",
       "</table>\n",
       "<p>8 rows × 1025 columns</p>\n",
       "</div>"
      ],
      "text/plain": [
       "               pix1          pix2          pix3          pix4          pix5  \\\n",
       "count  52500.000000  52500.000000  52500.000000  52500.000000  52500.000000   \n",
       "mean       0.877390      0.877390      0.877390      0.877390      0.877410   \n",
       "std        1.493605      1.493605      1.493605      1.493605      1.493601   \n",
       "min        0.000000      0.000000      0.000000      0.000000      0.000000   \n",
       "25%        0.000000      0.000000      0.000000      0.000000      0.000000   \n",
       "50%        0.000000      0.000000      0.000000      0.000000      0.000000   \n",
       "75%        1.000000      1.000000      1.000000      1.000000      1.000000   \n",
       "max       11.000000     11.000000     11.000000     11.000000     11.000000   \n",
       "\n",
       "               pix6          pix7          pix8          pix9         pix10  \\\n",
       "count  52500.000000  52500.000000  52500.000000  52500.000000  52500.000000   \n",
       "mean       0.877429      0.877429      0.877543      0.878038      0.880648   \n",
       "std        1.493596      1.493596      1.493682      1.494258      1.528912   \n",
       "min        0.000000      0.000000      0.000000      0.000000      0.000000   \n",
       "25%        0.000000      0.000000      0.000000      0.000000      0.000000   \n",
       "50%        0.000000      0.000000      0.000000      0.000000      0.000000   \n",
       "75%        1.000000      1.000000      1.000000      1.000000      1.000000   \n",
       "max       11.000000     11.000000     11.000000     11.000000     73.000000   \n",
       "\n",
       "       ...       pix1016       pix1017       pix1018       pix1019  \\\n",
       "count  ...  52500.000000  52500.000000  52500.000000  52500.000000   \n",
       "mean   ...      0.929867      0.909143      0.893524      0.883505   \n",
       "std    ...      2.835341      2.224631      1.794160      1.615415   \n",
       "min    ...      0.000000      0.000000      0.000000      0.000000   \n",
       "25%    ...      0.000000      0.000000      0.000000      0.000000   \n",
       "50%    ...      0.000000      0.000000      0.000000      0.000000   \n",
       "75%    ...      1.000000      1.000000      1.000000      1.000000   \n",
       "max    ...    187.000000    172.000000    134.000000    116.000000   \n",
       "\n",
       "            pix1020       pix1021       pix1022       pix1023       pix1024  \\\n",
       "count  52500.000000  52500.000000  52500.000000  52500.000000  52500.000000   \n",
       "mean       0.878952      0.877467      0.877410      0.877390      0.877390   \n",
       "std        1.505722      1.493854      1.493677      1.493605      1.493605   \n",
       "min        0.000000      0.000000      0.000000      0.000000      0.000000   \n",
       "25%        0.000000      0.000000      0.000000      0.000000      0.000000   \n",
       "50%        0.000000      0.000000      0.000000      0.000000      0.000000   \n",
       "75%        1.000000      1.000000      1.000000      1.000000      1.000000   \n",
       "max       41.000000     11.000000     11.000000     11.000000     11.000000   \n",
       "\n",
       "              label  \n",
       "count  52500.000000  \n",
       "mean       4.509752  \n",
       "std        2.872106  \n",
       "min        0.000000  \n",
       "25%        2.000000  \n",
       "50%        5.000000  \n",
       "75%        7.000000  \n",
       "max        9.000000  \n",
       "\n",
       "[8 rows x 1025 columns]"
      ]
     },
     "metadata": {},
     "output_type": "display_data"
    }
   ],
   "source": [
    "df = pd.read_csv('train.csv')\n",
    "display(df.shape)\n",
    "display(df.head())\n",
    "display(df.info())\n",
    "display(df.nunique())\n",
    "display(df.describe())"
   ]
  },
  {
   "cell_type": "code",
   "execution_count": 4,
   "metadata": {},
   "outputs": [
    {
     "data": {
      "text/plain": [
       "Index(['pix1', 'pix2', 'pix3', 'pix4', 'pix5', 'pix6', 'pix7', 'pix8', 'pix9',\n",
       "       'pix10',\n",
       "       ...\n",
       "       'pix1016', 'pix1017', 'pix1018', 'pix1019', 'pix1020', 'pix1021',\n",
       "       'pix1022', 'pix1023', 'pix1024', 'label'],\n",
       "      dtype='object', length=1025)"
      ]
     },
     "execution_count": 4,
     "metadata": {},
     "output_type": "execute_result"
    }
   ],
   "source": [
    "df.columns"
   ]
  },
  {
   "cell_type": "code",
   "execution_count": 5,
   "metadata": {},
   "outputs": [
    {
     "data": {
      "text/plain": [
       "pix1       0\n",
       "pix2       0\n",
       "pix3       0\n",
       "pix4       0\n",
       "pix5       0\n",
       "          ..\n",
       "pix1021    0\n",
       "pix1022    0\n",
       "pix1023    0\n",
       "pix1024    0\n",
       "label      0\n",
       "Length: 1025, dtype: int64"
      ]
     },
     "execution_count": 5,
     "metadata": {},
     "output_type": "execute_result"
    }
   ],
   "source": [
    "df.isnull().sum(axis=0)"
   ]
  },
  {
   "cell_type": "markdown",
   "metadata": {},
   "source": [
    "Jak my můžeme vidět náš dataset neobsahuje žádná nullová data. Proto můžu klidně pracovat s daty dále."
   ]
  },
  {
   "cell_type": "markdown",
   "metadata": {},
   "source": [
    "Zobrazím několik prvních obrázků z našeho datasetu "
   ]
  },
  {
   "cell_type": "code",
   "execution_count": 6,
   "metadata": {},
   "outputs": [
    {
     "data": {
      "image/png": "[encoded data removed]",
      "text/plain": [
       "<Figure size 800x800 with 16 Axes>"
      ]
     },
     "metadata": {},
     "output_type": "display_data"
    }
   ],
   "source": [
    "fig, axs = plt.subplots(4, 4, figsize=(8,8))\n",
    "axs = axs.flatten()\n",
    "\n",
    "for image_index, ax in enumerate(axs):\n",
    "    image_pixels = df.iloc[image_index, 1:].values\n",
    "    # Reshape the pixel values into a 32x32 image\n",
    "    image = image_pixels.reshape(32,32)\n",
    "    label_image = df['label'][image_index]\n",
    "    \n",
    "    ax.imshow(image, cmap='gray', extent=[0, 1, 0, 1])\n",
    "    ax.set_title(f\"Label: {label_image}\")\n",
    "    ax.axis('off')\n",
    "\n",
    "plt.tight_layout()  # Adjust layout to prevent overlapping\n",
    "plt.show()"
   ]
  },
  {
   "cell_type": "markdown",
   "metadata": {},
   "source": [
    "## II. Použítí modelů machine learningu"
   ]
  },
  {
   "cell_type": "markdown",
   "metadata": {},
   "source": [
    "### II(a). Rozdělení dat"
   ]
  },
  {
   "cell_type": "code",
   "execution_count": 7,
   "metadata": {},
   "outputs": [],
   "source": [
    "import torch\n",
    "from torch.utils.data import DataLoader\n",
    "from torch import nn\n",
    "import torch.nn.functional as F\n",
    "from tqdm import tqdm"
   ]
  },
  {
   "cell_type": "markdown",
   "metadata": {},
   "source": [
    "Nejprve, podívám se, je-li grafická karta k dispozici. Pokud ano, tak budeme trénovat pomocí ní, jinak pomocí procesoru."
   ]
  },
  {
   "cell_type": "code",
   "execution_count": 8,
   "metadata": {},
   "outputs": [
    {
     "name": "stdout",
     "output_type": "stream",
     "text": [
      "cuda\n"
     ]
    }
   ],
   "source": [
    "device = torch.device(\"cuda\" if torch.cuda.is_available() else \"cpu\")\n",
    "print(device)"
   ]
  },
  {
   "cell_type": "markdown",
   "metadata": {},
   "source": [
    "Rozdělím si dataset na cílovou proměnnou (v našem případě to je 'Label'), kterou chci predikovat, a na matici pixelů, pomocí kterou budu predikovat."
   ]
  },
  {
   "cell_type": "code",
   "execution_count": 9,
   "metadata": {},
   "outputs": [],
   "source": [
    "from sklearn.model_selection import train_test_split\n",
    "\n",
    "Xdata = df.drop('label', axis=1)\n",
    "ydata = df['label']"
   ]
  },
  {
   "cell_type": "markdown",
   "metadata": {},
   "source": [
    "Ted' už rozdělím data na trénovací a testovací množiny v poměru 60:40."
   ]
  },
  {
   "cell_type": "code",
   "execution_count": 10,
   "metadata": {},
   "outputs": [
    {
     "data": {
      "text/plain": [
       "(31500, 1024)"
      ]
     },
     "metadata": {},
     "output_type": "display_data"
    },
    {
     "data": {
      "text/plain": [
       "(31500,)"
      ]
     },
     "metadata": {},
     "output_type": "display_data"
    },
    {
     "data": {
      "text/plain": [
       "(21000, 1024)"
      ]
     },
     "metadata": {},
     "output_type": "display_data"
    },
    {
     "data": {
      "text/plain": [
       "(21000,)"
      ]
     },
     "metadata": {},
     "output_type": "display_data"
    }
   ],
   "source": [
    "rd_seed = 100\n",
    "\n",
    "Xtrain, Xtest, ytrain, ytest = train_test_split(Xdata, ydata, test_size=0.4, random_state=rd_seed) \n",
    "display(Xtrain.shape)\n",
    "display(ytrain.shape)\n",
    "display(Xtest.shape)\n",
    "display(ytest.shape)"
   ]
  },
  {
   "cell_type": "markdown",
   "metadata": {},
   "source": [
    "Rozdělím testovací množinu na validační a testovací."
   ]
  },
  {
   "cell_type": "code",
   "execution_count": 11,
   "metadata": {},
   "outputs": [
    {
     "data": {
      "text/plain": [
       "(10500, 1024)"
      ]
     },
     "metadata": {},
     "output_type": "display_data"
    },
    {
     "data": {
      "text/plain": [
       "(10500,)"
      ]
     },
     "metadata": {},
     "output_type": "display_data"
    },
    {
     "data": {
      "text/plain": [
       "(10500, 1024)"
      ]
     },
     "metadata": {},
     "output_type": "display_data"
    },
    {
     "data": {
      "text/plain": [
       "(10500,)"
      ]
     },
     "metadata": {},
     "output_type": "display_data"
    }
   ],
   "source": [
    "Xval, Xtest, yval, ytest = train_test_split(Xtest, ytest, test_size=0.5, random_state=rd_seed) \n",
    "display(Xval.shape)\n",
    "display(yval.shape)\n",
    "display(Xtest.shape)\n",
    "display(ytest.shape)"
   ]
  },
  {
   "cell_type": "markdown",
   "metadata": {},
   "source": [
    "Applikuju metody standardizace a normalizace dat"
   ]
  },
  {
   "cell_type": "code",
   "execution_count": 12,
   "metadata": {},
   "outputs": [],
   "source": [
    "from sklearn.preprocessing import StandardScaler\n",
    "from sklearn.preprocessing import MinMaxScaler\n",
    "\n",
    "scaler_standard = StandardScaler()\n",
    "Xtrain_standard = scaler_standard.fit_transform(Xtrain)\n",
    "Xval_standard = scaler_standard.transform(Xval)\n",
    "Xtest_standard = scaler_standard.transform(Xtest)\n",
    "\n",
    "scaler_min_max = MinMaxScaler()\n",
    "Xtrain_min_max = scaler_min_max.fit_transform(Xtrain)\n",
    "Xval_min_max = scaler_min_max.transform(Xval)\n",
    "Xtest_min_max = scaler_min_max.transform(Xtest)"
   ]
  },
  {
   "cell_type": "markdown",
   "metadata": {},
   "source": [
    "Vytvořím tensory a dataloadery našich dat pro snadné trénování neuronových sítí"
   ]
  },
  {
   "cell_type": "code",
   "execution_count": 13,
   "metadata": {},
   "outputs": [],
   "source": [
    "from torch.utils.data import TensorDataset, DataLoader\n",
    "\n",
    "def create_tensor_dataset(X, y, device=torch.device(device)):\n",
    "    X_tensor = torch.tensor(X, dtype=torch.float).to(device)\n",
    "    y_tensor = torch.tensor(y, dtype=torch.long).to(device)\n",
    "    dataset = TensorDataset(X_tensor, y_tensor)\n",
    "    return dataset\n",
    "\n",
    "def create_data_loaders(train_dataset, val_dataset, test_dataset, batch_size_train=64, batch_size_val=128, batch_size_test=128):\n",
    "    train_loader = DataLoader(train_dataset, batch_size=batch_size_train, shuffle=True)\n",
    "    val_loader = DataLoader(val_dataset, batch_size=batch_size_val, shuffle=False)\n",
    "    test_loader = DataLoader(test_dataset, batch_size=batch_size_test, shuffle=False)\n",
    "    return train_loader, val_loader, test_loader"
   ]
  },
  {
   "cell_type": "code",
   "execution_count": 14,
   "metadata": {},
   "outputs": [],
   "source": [
    "train_dataset = create_tensor_dataset(Xtrain.values.reshape(-1, 1, 32, 32), ytrain.values, device)\n",
    "val_dataset = create_tensor_dataset(Xval.values.reshape(-1, 1, 32, 32), yval.values, device)\n",
    "test_dataset = create_tensor_dataset(Xtest.values.reshape(-1, 1, 32, 32), ytest.values, device)\n",
    "\n",
    "train_loader, val_loader, test_loader = create_data_loaders(train_dataset, val_dataset, test_dataset)"
   ]
  },
  {
   "cell_type": "code",
   "execution_count": 15,
   "metadata": {},
   "outputs": [],
   "source": [
    "train_dataset_stand = create_tensor_dataset(Xtrain_standard.reshape(-1, 1, 32, 32), ytrain.values, device)\n",
    "val_dataset_stand = create_tensor_dataset(Xval_standard.reshape(-1, 1, 32, 32), yval.values, device)\n",
    "test_dataset_stand = create_tensor_dataset(Xtest_standard.reshape(-1, 1, 32, 32), ytest.values, device)\n",
    "\n",
    "train_loader_stand, val_loader_stand, test_loader_stand = create_data_loaders(train_dataset_stand, val_dataset_stand, test_dataset_stand)"
   ]
  },
  {
   "cell_type": "code",
   "execution_count": 16,
   "metadata": {},
   "outputs": [],
   "source": [
    "train_dataset_min_max = create_tensor_dataset(Xtrain_min_max.reshape(-1, 1, 32, 32), ytrain.values, device)\n",
    "val_dataset_min_max = create_tensor_dataset(Xval_min_max.reshape(-1, 1, 32, 32), yval.values, device)\n",
    "test_dataset_min_max = create_tensor_dataset(Xtest_min_max.reshape(-1, 1, 32, 32), ytest.values, device)\n",
    "\n",
    "train_loader_min_max, val_loader_min_max, test_loader_min_max = create_data_loaders(train_dataset_min_max, val_dataset_min_max, test_dataset_min_max)"
   ]
  },
  {
   "cell_type": "markdown",
   "metadata": {},
   "source": [
    "Vytvořím slovník pro naše modely a metody ladění modelů"
   ]
  },
  {
   "cell_type": "code",
   "execution_count": 17,
   "metadata": {},
   "outputs": [],
   "source": [
    "accuracy = {\n",
    "    'MLP': [],\n",
    "    'CNN': []\n",
    "}"
   ]
  },
  {
   "cell_type": "markdown",
   "metadata": {},
   "source": [
    "### II(b). Implementace a použití modelů FeedForward Neural Network"
   ]
  },
  {
   "cell_type": "markdown",
   "metadata": {},
   "source": [
    "Použiju model dopředné neuronové sítě a budu ho ladit pomocí různých technik"
   ]
  },
  {
   "cell_type": "markdown",
   "metadata": {},
   "source": [
    "#### II(b). Original"
   ]
  },
  {
   "cell_type": "markdown",
   "metadata": {},
   "source": [
    "Nejprve, zkusím model dopředné neuronové sítě na původních datech a zároven vyladím model na různých hloubkách a velikostech vrstev"
   ]
  },
  {
   "cell_type": "markdown",
   "metadata": {},
   "source": [
    "Vytvořím dávky dat pro snadné trénování a menší zatížení paměti grafické karty"
   ]
  },
  {
   "cell_type": "code",
   "execution_count": 18,
   "metadata": {},
   "outputs": [
    {
     "name": "stdout",
     "output_type": "stream",
     "text": [
      "torch.Size([64, 1, 32, 32])\n",
      "torch.Size([64])\n"
     ]
    }
   ],
   "source": [
    "dataiter = iter(train_loader)\n",
    "pixels, labels = next(dataiter)\n",
    "batch = next(dataiter)\n",
    "\n",
    "print(pixels.shape)\n",
    "print(labels.shape)"
   ]
  },
  {
   "cell_type": "markdown",
   "metadata": {},
   "source": [
    "Vytvořím mřížku parametrů pro ladění dopředné neuronové síti"
   ]
  },
  {
   "cell_type": "code",
   "execution_count": 19,
   "metadata": {},
   "outputs": [],
   "source": [
    "networks = [\n",
    "    {'hidden_layers': [64, 32], 'output_size': 10},  # Network with 2 hidden layers, 64 and 32 units\n",
    "    {'hidden_layers': [128, 64, 32], 'output_size': 10},  # Network with 3 hidden layers, 128, 64, and 32 units\n",
    "    {'hidden_layers': [256, 128, 64], 'output_size': 20},\n",
    "    {'hidden_layers': [512, 256, 128, 64], 'output_size': 20},\n",
    "    {'hidden_layers': [1024, 512, 256, 128], 'output_size': 40}\n",
    "]"
   ]
  },
  {
   "cell_type": "markdown",
   "metadata": {},
   "source": [
    "Napíšu třídu dopředné neuronové síti s nastavitelnou hloubkou a velikostmi každou vrstvy"
   ]
  },
  {
   "cell_type": "code",
   "execution_count": null,
   "metadata": {},
   "outputs": [],
   "source": [
    "class MLP(nn.Module):\n",
    "    def __init__(self, input_size, hidden_layers, output_size):\n",
    "        super(MLP, self).__init__()\n",
    "        self.fc1 = nn.Linear(input_size, hidden_layers[0])\n",
    "        self.hidden_layers = nn.ModuleList([nn.Linear(hidden_layers[i], hidden_layers[i+1]) for i in range(len(hidden_layers)-1)])\n",
    "        self.output = nn.Linear(hidden_layers[-1], output_size)\n",
    "\n",
    "    def forward(self, x):\n",
    "        x = x.view(x.shape[0], -1)\n",
    "        x = F.relu(self.fc1(x))\n",
    "        for layer in self.hidden_layers:\n",
    "            x = F.relu(layer(x))\n",
    "        x = self.output(x)\n",
    "        return x\n",
    "\n",
    "model = MLP(32*32, [64,32], 10).to(device)"
   ]
  },
  {
   "cell_type": "code",
   "execution_count": 21,
   "metadata": {},
   "outputs": [
    {
     "name": "stdout",
     "output_type": "stream",
     "text": [
      "torch.Size([64, 1, 32, 32]) torch.Size([64, 10])\n"
     ]
    }
   ],
   "source": [
    "outputs = model(pixels)\n",
    "print(pixels.shape, outputs.shape)"
   ]
  },
  {
   "cell_type": "markdown",
   "metadata": {},
   "source": [
    "Použiju kategorickou relativní entropii a kouknu se na průměrnou chybu predikcí"
   ]
  },
  {
   "cell_type": "code",
   "execution_count": 22,
   "metadata": {},
   "outputs": [
    {
     "name": "stdout",
     "output_type": "stream",
     "text": [
      "Total loss for this batch: 8.4452486038208\n"
     ]
    }
   ],
   "source": [
    "loss_fn = torch.nn.CrossEntropyLoss()\n",
    "\n",
    "outputs = model(pixels)\n",
    "loss = loss_fn(outputs, labels)\n",
    "print('Total loss for this batch: {}'.format(loss.item()))"
   ]
  },
  {
   "cell_type": "markdown",
   "metadata": {},
   "source": [
    "Jako první optimizer použiju algoritmus Adam"
   ]
  },
  {
   "cell_type": "code",
   "execution_count": 23,
   "metadata": {},
   "outputs": [],
   "source": [
    "# Optimizers specified in the torch.optim package\n",
    "optimizer = torch.optim.Adam(model.parameters())"
   ]
  },
  {
   "cell_type": "markdown",
   "metadata": {},
   "source": [
    "Napíšu funkci pro trénování jedne epochy"
   ]
  },
  {
   "cell_type": "code",
   "execution_count": 24,
   "metadata": {},
   "outputs": [],
   "source": [
    "def train_one_epoch(model, loss_fn, optimizer, train_loader):\n",
    "    running_cum_loss = 0.\n",
    "\n",
    "    for i, data in enumerate(train_loader):\n",
    "        inputs, labels = data\n",
    "    \n",
    "        # Reshape the pixels to match the input size expected by the model\n",
    "        inputs = inputs.view(-1, 32, 32)  # Assuming input size is 32x32\n",
    "        \n",
    "        optimizer.zero_grad()\n",
    "        outputs = model(inputs)\n",
    "        loss = loss_fn(outputs, labels)\n",
    "\n",
    "        loss.backward()\n",
    "        optimizer.step()\n",
    "\n",
    "        running_cum_loss += loss.item() * inputs.shape[0]\n",
    "            \n",
    "    return running_cum_loss / len(train_loader.dataset)"
   ]
  },
  {
   "cell_type": "markdown",
   "metadata": {},
   "source": [
    "Podívám se na celkovou chybu predikcí"
   ]
  },
  {
   "cell_type": "code",
   "execution_count": 25,
   "metadata": {},
   "outputs": [
    {
     "name": "stdout",
     "output_type": "stream",
     "text": [
      "Total training loss: 1.0360088359212118\n"
     ]
    }
   ],
   "source": [
    "loss = train_one_epoch(model, loss_fn, optimizer, train_loader)\n",
    "print(f\"Total training loss: {loss}\")"
   ]
  },
  {
   "cell_type": "markdown",
   "metadata": {},
   "source": [
    "Ted, už začnu trénování modelů na různých parametrech na 15 epochách s technikou předčasné zastavení, zjistím nejlepší parametry modelu na původních datech a uložím model do složky"
   ]
  },
  {
   "cell_type": "code",
   "execution_count": 27,
   "metadata": {
    "scrolled": true
   },
   "outputs": [],
   "source": [
    "# Initialize the best validation loss\n",
    "best_vloss = float('inf')  # Positive infinity to ensure the first validation loss is always better\n",
    "best_mlp = {}\n",
    "\n",
    "# Loop through each network configuration\n",
    "for index, network in enumerate(networks):\n",
    "    input_size = 32 * 32  # Input image size\n",
    "    output_size = network['output_size']  # Output size for classification\n",
    "    hidden_layers = network['hidden_layers']  # Hidden layer sizes\n",
    "    \n",
    "    # Create an instance of MyNet with the specified architecture\n",
    "    model = MLP(input_size, hidden_layers, output_size).to(device)\n",
    "    loss_fn = torch.nn.CrossEntropyLoss()\n",
    "    optimizer = torch.optim.Adam(model.parameters())\n",
    "\n",
    "    MAX_EPOCHS = 15\n",
    "    K_EPOCHS = 5\n",
    "    \n",
    "    epochs = []\n",
    "    train_loss = []\n",
    "    validation_loss = []\n",
    "    epochs_from_best = 0\n",
    "    \n",
    "    for epoch in range(MAX_EPOCHS):    \n",
    "        model.train(True)\n",
    "    \n",
    "        # One training step\n",
    "        avg_loss = train_one_epoch(model, loss_fn, optimizer, train_loader)\n",
    "\n",
    "        model.train(False)\n",
    "    \n",
    "        # Validation performance\n",
    "        running_cum_vloss = 0.0\n",
    "        vcorrect = 0\n",
    "        for i, vdata in enumerate(val_loader):\n",
    "            vinputs, vlabels = vdata\n",
    "            with torch.no_grad():\n",
    "                voutputs = model(vinputs)\n",
    "                vloss = loss_fn(voutputs, vlabels)\n",
    "            running_cum_vloss += vloss * vinputs.shape[0]\n",
    "            # count the correctly classified samples\n",
    "            vcorrect += (voutputs.argmax(1) == vlabels).float().sum()\n",
    "        # Get average loss and accuracy\n",
    "        avg_vloss = running_cum_vloss / len(val_dataset)\n",
    "        vacc = vcorrect / len(val_dataset)\n",
    "    \n",
    "        # Save the model if the validation loss improves\n",
    "        if avg_vloss < best_vloss:\n",
    "            best_vloss = avg_vloss\n",
    "            model_path = f\"saves/best_model_mlp.pt\"  # Save models with different output sizes separately\n",
    "            torch.save(model.state_dict(), model_path)\n",
    "            best_mlp[index] = round(best_vloss.item(), 3)\n",
    "            epochs_from_best = 0\n",
    "        else:\n",
    "            epochs_from_best += 1\n",
    "            \n",
    "        # EARLY STOPPING\n",
    "        if epochs_from_best > K_EPOCHS:\n",
    "            break"
   ]
  },
  {
   "cell_type": "code",
   "execution_count": 29,
   "metadata": {},
   "outputs": [
    {
     "name": "stdout",
     "output_type": "stream",
     "text": [
      "{0: 0.506, 1: 0.48, 3: 0.454}\n",
      "{'hidden_layers': [512, 256, 128, 64], 'output_size': 20}\n",
      "0.454\n"
     ]
    },
    {
     "data": {
      "text/plain": [
       "<All keys matched successfully>"
      ]
     },
     "execution_count": 29,
     "metadata": {},
     "output_type": "execute_result"
    }
   ],
   "source": [
    "print(best_mlp)\n",
    "index = min(best_mlp, key=best_mlp.get)\n",
    "print(networks[index])\n",
    "print(best_mlp[index])\n",
    "\n",
    "model_path = \"saves/best_model_mlp.pt\"\n",
    "# načteme nejlepší model\n",
    "model_mlp = MLP(input_size=32*32, hidden_layers=networks[index]['hidden_layers'], output_size=networks[index]['output_size']).to(device)\n",
    "    \n",
    "# Load the model's state dictionary\n",
    "model_mlp.load_state_dict(torch.load(model_path))"
   ]
  },
  {
   "cell_type": "markdown",
   "metadata": {},
   "source": [
    "Jsou to nejlepší parametry modelu dopředné neuronové síti na originálních datech"
   ]
  },
  {
   "cell_type": "markdown",
   "metadata": {},
   "source": [
    "Podívám se na predikce pravděpodobností"
   ]
  },
  {
   "cell_type": "code",
   "execution_count": 30,
   "metadata": {},
   "outputs": [
    {
     "name": "stdout",
     "output_type": "stream",
     "text": [
      "tensor([ True,  True,  True, False,  True,  True,  True,  True,  True,  True,\n",
      "         True,  True,  True, False,  True,  True,  True,  True,  True,  True,\n",
      "         True,  True,  True,  True,  True,  True, False,  True,  True,  True,\n",
      "         True, False,  True,  True,  True,  True,  True,  True,  True,  True,\n",
      "         True,  True,  True,  True,  True,  True,  True,  True, False,  True,\n",
      "         True,  True,  True,  True,  True,  True,  True,  True,  True,  True,\n",
      "         True,  True,  True,  True], device='cuda:0')\n",
      "tensor([3, 6, 1, 2, 0, 9, 7, 5, 8, 1, 9, 8, 3, 2, 9, 9, 6, 2, 7, 3, 8, 9, 2, 0,\n",
      "        2, 5, 2, 5, 9, 9, 5, 3, 8, 0, 3, 0, 7, 0, 3, 3, 7, 1, 7, 7, 3, 1, 1, 9,\n",
      "        3, 7, 1, 4, 5, 1, 0, 6, 3, 6, 2, 5, 9, 3, 5, 0], device='cuda:0')\n",
      "tensor([3, 6, 1, 6, 0, 9, 7, 5, 8, 1, 9, 8, 3, 6, 9, 9, 6, 2, 7, 3, 8, 9, 2, 0,\n",
      "        2, 5, 4, 5, 9, 9, 5, 6, 8, 0, 3, 0, 7, 0, 3, 3, 7, 1, 7, 7, 3, 1, 1, 9,\n",
      "        4, 7, 1, 4, 5, 1, 0, 6, 3, 6, 2, 5, 9, 3, 5, 0], device='cuda:0')\n"
     ]
    }
   ],
   "source": [
    "with torch.no_grad():\n",
    "    print(model_mlp(pixels).argmax(1) == labels.flatten())\n",
    "    print(model_mlp(pixels).argmax(1))\n",
    "\n",
    "print(labels.flatten())"
   ]
  },
  {
   "cell_type": "markdown",
   "metadata": {},
   "source": [
    "Podívám se na přesnost na validačních datech a matici záměn a uložím přesnost tohoto modelu do slovníku"
   ]
  },
  {
   "cell_type": "code",
   "execution_count": 31,
   "metadata": {},
   "outputs": [
    {
     "name": "stdout",
     "output_type": "stream",
     "text": [
      "Validacni přesnost: 0.8404761904761905\n",
      "[[ 952    3   24   48    2    0   41    0   10    0]\n",
      " [  11 1059    3   16    2    0    1    0    0    0]\n",
      " [   7    7  804   11  112    0   79    0   16    0]\n",
      " [  59   12   19  856   53    0   10    0    5    0]\n",
      " [   4    2  151   29  687    0  105    0   11    0]\n",
      " [   1    3    0    0    0  959    0   69    6   42]\n",
      " [ 273    3  140   34   62    1  492    0   24    0]\n",
      " [   0    0    0    0    0   18    0  960    1   63]\n",
      " [   4    1    8    7    3    3    8    5 1046    0]\n",
      " [   0    1    1    1    0    8    0   31    1 1010]]\n"
     ]
    }
   ],
   "source": [
    "from sklearn.metrics import accuracy_score\n",
    "\n",
    "val_predictions = np.zeros(len(val_loader.dataset))\n",
    "val_y = np.zeros(len(val_loader.dataset))\n",
    "ii = 0\n",
    "for vdata in val_loader:\n",
    "    vinputs, vlabels = vdata\n",
    "    with torch.no_grad():\n",
    "        voutputs = model_mlp(vinputs)\n",
    "        vloss = loss_fn(voutputs, vlabels)\n",
    "    val_predictions[ii:(ii + vinputs.shape[0])] = voutputs.argmax(1).cpu().numpy()\n",
    "    val_y[ii:(ii + vinputs.shape[0])] = vlabels.cpu().numpy()\n",
    "\n",
    "    ii += vinputs.shape[0]\n",
    "    \n",
    "print(f\"Validacni přesnost: {accuracy_score(val_y, val_predictions)}\")\n",
    "\n",
    "# Confusion matrix\n",
    "from sklearn.metrics import confusion_matrix\n",
    "cnf_matrix = confusion_matrix(val_y, val_predictions)\n",
    "print(cnf_matrix)\n",
    "\n",
    "accuracy['MLP'].append(round(accuracy_score(val_y, val_predictions),6))"
   ]
  },
  {
   "cell_type": "code",
   "execution_count": 32,
   "metadata": {},
   "outputs": [
    {
     "data": {
      "text/plain": [
       "{'MLP': [0.840476], 'CNN': []}"
      ]
     },
     "execution_count": 32,
     "metadata": {},
     "output_type": "execute_result"
    }
   ],
   "source": [
    "accuracy"
   ]
  },
  {
   "cell_type": "markdown",
   "metadata": {},
   "source": [
    "#### II(b). Standard"
   ]
  },
  {
   "cell_type": "markdown",
   "metadata": {},
   "source": [
    "Udělám předchozí procedury trénování modelů, ale ted už na standardních datech"
   ]
  },
  {
   "cell_type": "code",
   "execution_count": 33,
   "metadata": {},
   "outputs": [
    {
     "name": "stdout",
     "output_type": "stream",
     "text": [
      "torch.Size([64, 1, 32, 32])\n",
      "torch.Size([64])\n"
     ]
    }
   ],
   "source": [
    "dataiter = iter(train_loader_stand)\n",
    "pixels, labels = next(dataiter)\n",
    "batch = next(dataiter)\n",
    "\n",
    "print(pixels.shape)\n",
    "print(labels.shape)"
   ]
  },
  {
   "cell_type": "code",
   "execution_count": 34,
   "metadata": {},
   "outputs": [
    {
     "name": "stdout",
     "output_type": "stream",
     "text": [
      "Total loss for this batch: 2.3410532474517822\n",
      "Total training loss: 0.7822901890391395\n"
     ]
    }
   ],
   "source": [
    "model = MLP(32*32, [64,32], 10).to(device)\n",
    "outputs = model(pixels)\n",
    "\n",
    "loss_fn = torch.nn.CrossEntropyLoss()\n",
    "\n",
    "outputs = model(pixels)\n",
    "loss = loss_fn(outputs, labels)\n",
    "print('Total loss for this batch: {}'.format(loss.item()))\n",
    "\n",
    "optimizer = torch.optim.Adam(model.parameters())\n",
    "\n",
    "loss = train_one_epoch(model, loss_fn, optimizer, train_loader_stand)\n",
    "print(f\"Total training loss: {loss}\")"
   ]
  },
  {
   "cell_type": "code",
   "execution_count": 35,
   "metadata": {},
   "outputs": [],
   "source": [
    "# Initialize the best validation loss\n",
    "best_vloss = float('inf')  # Positive infinity to ensure the first validation loss is always better\n",
    "best_mlp_stand = {}\n",
    "\n",
    "# Loop through each network configuration\n",
    "for index, network in enumerate(networks):\n",
    "    input_size = 32 * 32  # Input image size\n",
    "    output_size = network['output_size']  # Output size for classification\n",
    "    hidden_layers = network['hidden_layers']  # Hidden layer sizes\n",
    "    \n",
    "    # Create an instance of MyNet with the specified architecture\n",
    "    model = MLP(input_size, hidden_layers, output_size).to(device)\n",
    "    loss_fn = torch.nn.CrossEntropyLoss()\n",
    "    optimizer = torch.optim.Adam(model.parameters())\n",
    "\n",
    "    MAX_EPOCHS = 15\n",
    "    K_EPOCHS = 5\n",
    "    \n",
    "    epochs = []\n",
    "    train_loss = []\n",
    "    validation_loss = []\n",
    "    epochs_from_best = 0\n",
    "    \n",
    "    for epoch in range(MAX_EPOCHS):\n",
    "        model.train(True)\n",
    "    \n",
    "        # One training step\n",
    "        avg_loss = train_one_epoch(model, loss_fn, optimizer, train_loader_stand)\n",
    "\n",
    "        model.train(False)\n",
    "    \n",
    "        # Validation performance\n",
    "        running_cum_vloss = 0.0\n",
    "        vcorrect = 0\n",
    "        for i, vdata in enumerate(val_loader_stand):\n",
    "            vinputs, vlabels = vdata\n",
    "            with torch.no_grad():\n",
    "                voutputs = model(vinputs)\n",
    "                vloss = loss_fn(voutputs, vlabels)\n",
    "            running_cum_vloss += vloss * vinputs.shape[0]\n",
    "            # count the correctly classified samples\n",
    "            vcorrect += (voutputs.argmax(1) == vlabels).float().sum()\n",
    "        # Get average loss and accuracy\n",
    "        avg_vloss = running_cum_vloss / len(val_dataset_stand)\n",
    "        vacc = vcorrect / len(val_dataset_stand)\n",
    "    \n",
    "        # Save the model if the validation loss improves\n",
    "        if avg_vloss < best_vloss:\n",
    "            best_vloss = avg_vloss\n",
    "            model_path = f\"saves/best_model_mlp_stand.pt\"  # Save models with different output sizes separately\n",
    "            torch.save(model.state_dict(), model_path)\n",
    "            best_mlp_stand[index] = round(best_vloss.item(), 3)\n",
    "            epochs_from_best = 0\n",
    "        else:\n",
    "            epochs_from_best += 1\n",
    "            \n",
    "        # EARLY STOPPING\n",
    "        if epochs_from_best > K_EPOCHS:\n",
    "            break"
   ]
  },
  {
   "cell_type": "code",
   "execution_count": 36,
   "metadata": {},
   "outputs": [
    {
     "name": "stdout",
     "output_type": "stream",
     "text": [
      "{0: 0.485, 1: 0.452}\n",
      "{'hidden_layers': [128, 64, 32], 'output_size': 10}\n",
      "0.452\n"
     ]
    },
    {
     "data": {
      "text/plain": [
       "<All keys matched successfully>"
      ]
     },
     "execution_count": 36,
     "metadata": {},
     "output_type": "execute_result"
    }
   ],
   "source": [
    "print(best_mlp_stand)\n",
    "index = min(best_mlp_stand, key=best_mlp_stand.get)\n",
    "print(networks[index])\n",
    "print(best_mlp_stand[index])\n",
    "\n",
    "model_path = \"saves/best_model_mlp_stand.pt\"\n",
    "# načteme nejlepší model\n",
    "model_mlp_stand = MLP(input_size=32*32, hidden_layers=networks[index]['hidden_layers'], output_size=networks[index]['output_size']).to(device)\n",
    "    \n",
    "# Load the model's state dictionary\n",
    "model_mlp_stand.load_state_dict(torch.load(model_path))"
   ]
  },
  {
   "cell_type": "code",
   "execution_count": 37,
   "metadata": {},
   "outputs": [
    {
     "name": "stdout",
     "output_type": "stream",
     "text": [
      "tensor([ True,  True,  True,  True,  True,  True,  True,  True,  True, False,\n",
      "         True,  True,  True,  True,  True, False,  True,  True,  True,  True,\n",
      "         True,  True,  True,  True,  True,  True, False,  True,  True,  True,\n",
      "         True, False,  True,  True,  True,  True,  True,  True,  True,  True,\n",
      "         True,  True,  True,  True, False,  True,  True,  True,  True,  True,\n",
      "         True,  True,  True,  True,  True,  True,  True,  True, False,  True,\n",
      "         True,  True,  True,  True], device='cuda:0')\n",
      "tensor([4, 4, 7, 9, 1, 5, 9, 9, 0, 5, 2, 0, 3, 2, 4, 6, 2, 7, 3, 7, 2, 2, 8, 7,\n",
      "        9, 8, 6, 5, 9, 1, 5, 4, 1, 5, 9, 5, 3, 3, 6, 5, 5, 4, 8, 1, 2, 2, 5, 7,\n",
      "        8, 1, 8, 1, 5, 1, 0, 5, 5, 5, 6, 9, 4, 2, 9, 9], device='cuda:0')\n",
      "tensor([4, 4, 7, 9, 1, 5, 9, 9, 0, 7, 2, 0, 3, 2, 4, 2, 2, 7, 3, 7, 2, 2, 8, 7,\n",
      "        9, 8, 0, 5, 9, 1, 5, 3, 1, 5, 9, 5, 3, 3, 6, 5, 5, 4, 8, 1, 6, 2, 5, 7,\n",
      "        8, 1, 8, 1, 5, 1, 0, 5, 5, 5, 2, 9, 4, 2, 9, 9], device='cuda:0')\n"
     ]
    }
   ],
   "source": [
    "with torch.no_grad():\n",
    "    print(model_mlp_stand(pixels).argmax(1) == labels.flatten())\n",
    "    print(model_mlp_stand(pixels).argmax(1))\n",
    "\n",
    "print(labels.flatten())"
   ]
  },
  {
   "cell_type": "code",
   "execution_count": 38,
   "metadata": {},
   "outputs": [
    {
     "name": "stdout",
     "output_type": "stream",
     "text": [
      "Validacni přesnost: 0.8372380952380952\n",
      "[[ 901    3   12   69    9    4   72    0   10    0]\n",
      " [   2 1058    3   17    7    0    5    0    0    0]\n",
      " [  12    1  748    9  163    0   81    0   22    0]\n",
      " [  39   20    6  864   57    0   24    0    4    0]\n",
      " [   1    1   79   32  796    0   74    0    6    0]\n",
      " [   2    0   12    0    0  957    2   68   10   29]\n",
      " [ 188    6   92   48  128    0  542    0   24    1]\n",
      " [   0    0    0    0    0   72    0  923    4   43]\n",
      " [   8    0    5    8    9    8   10    5 1031    1]\n",
      " [   0    0    0    1    0   15    0   59    7  971]]\n"
     ]
    }
   ],
   "source": [
    "from sklearn.metrics import accuracy_score\n",
    "\n",
    "val_predictions = np.zeros(len(val_loader_stand.dataset))\n",
    "val_y = np.zeros(len(val_loader_stand.dataset))\n",
    "ii = 0\n",
    "for vdata in val_loader_stand:\n",
    "    vinputs, vlabels = vdata\n",
    "    with torch.no_grad():\n",
    "        voutputs = model_mlp_stand(vinputs)\n",
    "        vloss = loss_fn(voutputs, vlabels)\n",
    "    val_predictions[ii:(ii + vinputs.shape[0])] = voutputs.argmax(1).cpu().numpy()\n",
    "    val_y[ii:(ii + vinputs.shape[0])] = vlabels.cpu().numpy()\n",
    "\n",
    "    ii += vinputs.shape[0]\n",
    "    \n",
    "print(f\"Validacni přesnost: {accuracy_score(val_y, val_predictions)}\")\n",
    "\n",
    "# Confusion matrix\n",
    "from sklearn.metrics import confusion_matrix\n",
    "cnf_matrix = confusion_matrix(val_y, val_predictions)\n",
    "print(cnf_matrix)\n",
    "\n",
    "accuracy['MLP'].append(round(accuracy_score(val_y, val_predictions),6))"
   ]
  },
  {
   "cell_type": "markdown",
   "metadata": {},
   "source": [
    "Přesnost se trochu zmenšila, ale budu dál zkoušet různé techniky předzpracování dat, ladění modelů neuronových sítí"
   ]
  },
  {
   "cell_type": "code",
   "execution_count": 39,
   "metadata": {},
   "outputs": [
    {
     "data": {
      "text/plain": [
       "{'MLP': [0.840476, 0.837238], 'CNN': []}"
      ]
     },
     "execution_count": 39,
     "metadata": {},
     "output_type": "execute_result"
    }
   ],
   "source": [
    "accuracy"
   ]
  },
  {
   "cell_type": "markdown",
   "metadata": {},
   "source": [
    "#### II(b). MinMax"
   ]
  },
  {
   "cell_type": "markdown",
   "metadata": {},
   "source": [
    "Udělám předchozí procedury trénování modelů, ale ted zkusím na datech s MinMax normalizací"
   ]
  },
  {
   "cell_type": "code",
   "execution_count": 40,
   "metadata": {},
   "outputs": [
    {
     "name": "stdout",
     "output_type": "stream",
     "text": [
      "torch.Size([64, 1, 32, 32])\n",
      "torch.Size([64])\n"
     ]
    }
   ],
   "source": [
    "dataiter = iter(train_loader_min_max)\n",
    "pixels, labels = next(dataiter)\n",
    "batch = next(dataiter)\n",
    "\n",
    "print(pixels.shape)\n",
    "print(labels.shape)"
   ]
  },
  {
   "cell_type": "code",
   "execution_count": 41,
   "metadata": {},
   "outputs": [
    {
     "name": "stdout",
     "output_type": "stream",
     "text": [
      "Total loss for this batch: 2.367041826248169\n",
      "Total training loss: 0.982072115186661\n"
     ]
    }
   ],
   "source": [
    "model = MLP(32*32, [64,32], 10).to(device)\n",
    "outputs = model(pixels)\n",
    "\n",
    "loss_fn = torch.nn.CrossEntropyLoss()\n",
    "\n",
    "outputs = model(pixels)\n",
    "loss = loss_fn(outputs, labels)\n",
    "print('Total loss for this batch: {}'.format(loss.item()))\n",
    "\n",
    "optimizer = torch.optim.Adam(model.parameters())\n",
    "\n",
    "loss = train_one_epoch(model, loss_fn, optimizer, train_loader_min_max)\n",
    "print(f\"Total training loss: {loss}\")"
   ]
  },
  {
   "cell_type": "code",
   "execution_count": 42,
   "metadata": {},
   "outputs": [],
   "source": [
    "# Initialize the best validation loss\n",
    "best_vloss = float('inf')  # Positive infinity to ensure the first validation loss is always better\n",
    "best_mlp_min_max = {}\n",
    "\n",
    "# Loop through each network configuration\n",
    "for index, network in enumerate(networks):\n",
    "    input_size = 32 * 32  # Input image size\n",
    "    output_size = network['output_size']  # Output size for classification\n",
    "    hidden_layers = network['hidden_layers']  # Hidden layer sizes\n",
    "    \n",
    "    # Create an instance of MyNet with the specified architecture\n",
    "    model = MLP(input_size, hidden_layers, output_size).to(device)\n",
    "    loss_fn = torch.nn.CrossEntropyLoss()\n",
    "    optimizer = torch.optim.Adam(model.parameters())\n",
    "\n",
    "    MAX_EPOCHS = 15\n",
    "    K_EPOCHS = 5\n",
    "    \n",
    "    epochs = []\n",
    "    train_loss = []\n",
    "    validation_loss = []\n",
    "    epochs_from_best = 0\n",
    "\n",
    "    for epoch in range(MAX_EPOCHS):\n",
    "        model.train(True)\n",
    "    \n",
    "        # One training step\n",
    "        avg_loss = train_one_epoch(model, loss_fn, optimizer, train_loader_min_max)\n",
    "\n",
    "        model.train(False)\n",
    "    \n",
    "        # Validation performance\n",
    "        running_cum_vloss = 0.0\n",
    "        vcorrect = 0\n",
    "        for i, vdata in enumerate(val_loader_min_max):\n",
    "            vinputs, vlabels = vdata\n",
    "            with torch.no_grad():\n",
    "                voutputs = model(vinputs)\n",
    "                vloss = loss_fn(voutputs, vlabels)\n",
    "            running_cum_vloss += vloss * vinputs.shape[0]\n",
    "            # count the correctly classified samples\n",
    "            vcorrect += (voutputs.argmax(1) == vlabels).float().sum()\n",
    "        # Get average loss and accuracy\n",
    "        avg_vloss = running_cum_vloss / len(val_dataset_min_max)\n",
    "        vacc = vcorrect / len(val_dataset_min_max)\n",
    "    \n",
    "        # Save the model if the validation loss improves\n",
    "        if avg_vloss < best_vloss:\n",
    "            best_vloss = avg_vloss\n",
    "            model_path = f\"saves/best_model_mlp_min_max.pt\"  # Save models with different output sizes separately\n",
    "            torch.save(model.state_dict(), model_path)\n",
    "            best_mlp_min_max[index] = round(best_vloss.item(), 3)\n",
    "            epochs_from_best = 0\n",
    "        else:\n",
    "            epochs_from_best += 1\n",
    "            \n",
    "        # EARLY STOPPING\n",
    "        if epochs_from_best > K_EPOCHS:\n",
    "            break"
   ]
  },
  {
   "cell_type": "code",
   "execution_count": 43,
   "metadata": {},
   "outputs": [
    {
     "name": "stdout",
     "output_type": "stream",
     "text": [
      "{0: 0.45}\n",
      "{'hidden_layers': [64, 32], 'output_size': 10}\n",
      "0.45\n"
     ]
    },
    {
     "data": {
      "text/plain": [
       "<All keys matched successfully>"
      ]
     },
     "execution_count": 43,
     "metadata": {},
     "output_type": "execute_result"
    }
   ],
   "source": [
    "print(best_mlp_min_max)\n",
    "index = min(best_mlp_min_max, key=best_mlp_min_max.get)\n",
    "print(networks[index])\n",
    "print(best_mlp_min_max[index])\n",
    "\n",
    "model_path = \"saves/best_model_mlp_min_max.pt\"\n",
    "# načteme nejlepší model\n",
    "model_mlp_min_max = MLP(input_size=32*32, hidden_layers=networks[index]['hidden_layers'], output_size=networks[index]['output_size']).to(device)\n",
    "    \n",
    "# Load the model's state dictionary\n",
    "model_mlp_min_max.load_state_dict(torch.load(model_path))"
   ]
  },
  {
   "cell_type": "code",
   "execution_count": 44,
   "metadata": {},
   "outputs": [
    {
     "name": "stdout",
     "output_type": "stream",
     "text": [
      "tensor([ True,  True,  True,  True,  True,  True,  True, False,  True,  True,\n",
      "         True,  True,  True, False,  True,  True,  True,  True, False,  True,\n",
      "         True,  True,  True,  True,  True,  True,  True,  True,  True,  True,\n",
      "         True,  True,  True,  True,  True,  True,  True,  True, False,  True,\n",
      "         True,  True, False, False,  True,  True,  True,  True,  True,  True,\n",
      "         True,  True,  True,  True,  True,  True,  True, False,  True,  True,\n",
      "         True,  True,  True,  True], device='cuda:0')\n",
      "tensor([6, 4, 3, 5, 5, 2, 6, 9, 0, 6, 1, 5, 4, 3, 4, 7, 6, 6, 4, 3, 4, 1, 4, 7,\n",
      "        7, 7, 5, 9, 4, 5, 0, 5, 9, 5, 7, 2, 1, 7, 3, 9, 9, 5, 2, 6, 5, 3, 3, 9,\n",
      "        4, 9, 9, 3, 2, 6, 0, 7, 7, 4, 7, 3, 5, 7, 4, 3], device='cuda:0')\n",
      "tensor([6, 4, 3, 5, 5, 2, 6, 7, 0, 6, 1, 5, 4, 0, 4, 7, 6, 6, 6, 3, 4, 1, 4, 7,\n",
      "        7, 7, 5, 9, 4, 5, 0, 5, 9, 5, 7, 2, 1, 7, 0, 9, 9, 5, 6, 2, 5, 3, 3, 9,\n",
      "        4, 9, 9, 3, 2, 6, 0, 7, 7, 6, 7, 3, 5, 7, 4, 3], device='cuda:0')\n"
     ]
    }
   ],
   "source": [
    "with torch.no_grad():\n",
    "    print(model_mlp_min_max(pixels).argmax(1) == labels.flatten())\n",
    "    print(model_mlp_min_max(pixels).argmax(1))\n",
    "\n",
    "print(labels.flatten())"
   ]
  },
  {
   "cell_type": "code",
   "execution_count": 45,
   "metadata": {},
   "outputs": [
    {
     "name": "stdout",
     "output_type": "stream",
     "text": [
      "Validacni přesnost: 0.8368571428571429\n",
      "[[ 885    8   17   56    4    2  100    0    8    0]\n",
      " [   2 1066    1   15    1    0    7    0    0    0]\n",
      " [  10    8  714   12  156    0  122    0   14    0]\n",
      " [  43   28   14  853   44    0   30    0    2    0]\n",
      " [   6    5   69   32  781    0   94    0    2    0]\n",
      " [   1    0    0    0    0  959    1   82    4   33]\n",
      " [ 167    8   96   44   99    0  597    0   18    0]\n",
      " [   0    0    0    0    0   49    0  932    1   60]\n",
      " [   5    0    8   11    7    9   13    5 1025    2]\n",
      " [   1    4    0    0    1   21    0   51    0  975]]\n"
     ]
    }
   ],
   "source": [
    "from sklearn.metrics import accuracy_score\n",
    "\n",
    "val_predictions = np.zeros(len(val_loader_min_max.dataset))\n",
    "val_y = np.zeros(len(val_loader_min_max.dataset))\n",
    "ii = 0\n",
    "for vdata in val_loader_min_max:\n",
    "    vinputs, vlabels = vdata\n",
    "    with torch.no_grad():\n",
    "        voutputs = model_mlp_min_max(vinputs)\n",
    "        vloss = loss_fn(voutputs, vlabels)\n",
    "    val_predictions[ii:(ii + vinputs.shape[0])] = voutputs.argmax(1).cpu().numpy()\n",
    "    val_y[ii:(ii + vinputs.shape[0])] = vlabels.cpu().numpy()\n",
    "\n",
    "    ii += vinputs.shape[0]\n",
    "    \n",
    "print(f\"Validacni přesnost: {accuracy_score(val_y, val_predictions)}\")\n",
    "\n",
    "# Confusion matrix\n",
    "from sklearn.metrics import confusion_matrix\n",
    "cnf_matrix = confusion_matrix(val_y, val_predictions)\n",
    "print(cnf_matrix)\n",
    "\n",
    "accuracy['MLP'].append(round(accuracy_score(val_y, val_predictions),6))"
   ]
  },
  {
   "cell_type": "markdown",
   "metadata": {},
   "source": [
    "Přesnost je skoro stejná jako na datech se standardizací, ale je také menší než na původnch datech"
   ]
  },
  {
   "cell_type": "code",
   "execution_count": 46,
   "metadata": {},
   "outputs": [
    {
     "data": {
      "text/plain": [
       "{'MLP': [0.840476, 0.837238, 0.836857], 'CNN': []}"
      ]
     },
     "execution_count": 46,
     "metadata": {},
     "output_type": "execute_result"
    }
   ],
   "source": [
    "accuracy"
   ]
  },
  {
   "cell_type": "markdown",
   "metadata": {},
   "source": [
    "#### II(b). Dropout"
   ]
  },
  {
   "cell_type": "markdown",
   "metadata": {},
   "source": [
    "Ted zkusím dropout regularizaci. Napíšu novou třídu s implementací atributu dropout. A pak provedu té samé procedury trénování modelů"
   ]
  },
  {
   "cell_type": "code",
   "execution_count": 47,
   "metadata": {},
   "outputs": [],
   "source": [
    "class MLPDropout(nn.Module):\n",
    "    def __init__(self, input_size, hidden_layers, output_size, dropout_p=0.1):\n",
    "        super(MLPDropout, self).__init__()\n",
    "        self.fc1 = nn.Linear(input_size, hidden_layers[0])\n",
    "        self.hidden_layers = nn.ModuleList([nn.Linear(hidden_layers[i], hidden_layers[i+1]) for i in range(len(hidden_layers)-1)])\n",
    "        self.output = nn.Linear(hidden_layers[-1], output_size)\n",
    "        self.dropout = nn.Dropout(dropout_p)\n",
    "\n",
    "    def forward(self, x):\n",
    "        x = x.view(x.shape[0], -1)\n",
    "        x = F.relu(self.fc1(x))\n",
    "        x = self.dropout(x)\n",
    "        for layer in self.hidden_layers:\n",
    "            x = F.relu(layer(x))\n",
    "        x = self.output(x)\n",
    "        return x\n",
    "\n",
    "# Example usage\n",
    "model = MLPDropout(32*32, [64,32], 10, dropout_p=0.1).to(device)"
   ]
  },
  {
   "cell_type": "code",
   "execution_count": 48,
   "metadata": {},
   "outputs": [
    {
     "name": "stdout",
     "output_type": "stream",
     "text": [
      "torch.Size([64, 1, 32, 32])\n",
      "torch.Size([64])\n"
     ]
    }
   ],
   "source": [
    "dataiter = iter(train_loader)\n",
    "pixels, labels = next(dataiter)\n",
    "batch = next(dataiter)\n",
    "\n",
    "print(pixels.shape)\n",
    "print(labels.shape)"
   ]
  },
  {
   "cell_type": "code",
   "execution_count": 49,
   "metadata": {},
   "outputs": [
    {
     "name": "stdout",
     "output_type": "stream",
     "text": [
      "Total loss for this batch: 12.104911804199219\n",
      "Total training loss: 1.1958602135597713\n"
     ]
    }
   ],
   "source": [
    "model = MLPDropout(32*32, [64,32], 10).to(device)\n",
    "outputs = model(pixels)\n",
    "\n",
    "loss_fn = torch.nn.CrossEntropyLoss()\n",
    "\n",
    "outputs = model(pixels)\n",
    "loss = loss_fn(outputs, labels)\n",
    "print('Total loss for this batch: {}'.format(loss.item()))\n",
    "\n",
    "optimizer = torch.optim.Adam(model.parameters())\n",
    "\n",
    "loss = train_one_epoch(model, loss_fn, optimizer, train_loader)\n",
    "print(f\"Total training loss: {loss}\")"
   ]
  },
  {
   "cell_type": "code",
   "execution_count": 51,
   "metadata": {},
   "outputs": [],
   "source": [
    "# Initialize the best validation loss\n",
    "best_vloss = float('inf')  # Positive infinity to ensure the first validation loss is always better\n",
    "best_mlp_drop = {}\n",
    "\n",
    "# Loop through each network configuration\n",
    "for index, network in enumerate(networks):\n",
    "    input_size = 32 * 32  # Input image size\n",
    "    output_size = network['output_size']  # Output size for classification\n",
    "    hidden_layers = network['hidden_layers']  # Hidden layer sizes\n",
    "    \n",
    "    # Create an instance of MyNet with the specified architecture\n",
    "    model = MLPDropout(input_size, hidden_layers, output_size, 0.1).to(device)\n",
    "    loss_fn = torch.nn.CrossEntropyLoss()\n",
    "    optimizer = torch.optim.Adam(model.parameters())\n",
    "\n",
    "    MAX_EPOCHS = 15\n",
    "    K_EPOCHS = 5\n",
    "    \n",
    "    epochs = []\n",
    "    train_loss = []\n",
    "    validation_loss = []\n",
    "    epochs_from_best = 0\n",
    "    \n",
    "    for epoch in range(MAX_EPOCHS):    \n",
    "        model.train(True)\n",
    "    \n",
    "        # One training step\n",
    "        avg_loss = train_one_epoch(model, loss_fn, optimizer, train_loader)\n",
    "\n",
    "        model.train(False)\n",
    "    \n",
    "        # Validation performance\n",
    "        running_cum_vloss = 0.0\n",
    "        vcorrect = 0\n",
    "        for i, vdata in enumerate(val_loader):\n",
    "            vinputs, vlabels = vdata\n",
    "            with torch.no_grad():\n",
    "                voutputs = model(vinputs)\n",
    "                vloss = loss_fn(voutputs, vlabels)\n",
    "            running_cum_vloss += vloss * vinputs.shape[0]\n",
    "            # count the correctly classified samples\n",
    "            vcorrect += (voutputs.argmax(1) == vlabels).float().sum()\n",
    "        # Get average loss and accuracy\n",
    "        avg_vloss = running_cum_vloss / len(val_dataset)\n",
    "        vacc = vcorrect / len(val_dataset)\n",
    "    \n",
    "        # Save the model if the validation loss improves\n",
    "        if avg_vloss < best_vloss:\n",
    "            best_vloss = avg_vloss\n",
    "            model_path = f\"saves/best_model_mlp_drop.pt\"  # Save models with different output sizes separately\n",
    "            torch.save(model.state_dict(), model_path)\n",
    "            best_mlp_drop[index] = round(best_vloss.item(), 3)\n",
    "            epochs_from_best = 0\n",
    "        else:\n",
    "            epochs_from_best += 1\n",
    "            \n",
    "        # EARLY STOPPING\n",
    "        if epochs_from_best > K_EPOCHS:\n",
    "            break"
   ]
  },
  {
   "cell_type": "code",
   "execution_count": 53,
   "metadata": {},
   "outputs": [
    {
     "name": "stdout",
     "output_type": "stream",
     "text": [
      "{0: 0.545, 1: 0.47}\n",
      "{'hidden_layers': [128, 64, 32], 'output_size': 10}\n",
      "0.47\n"
     ]
    },
    {
     "data": {
      "text/plain": [
       "<All keys matched successfully>"
      ]
     },
     "execution_count": 53,
     "metadata": {},
     "output_type": "execute_result"
    }
   ],
   "source": [
    "print(best_mlp_drop)\n",
    "index = min(best_mlp_drop, key=best_mlp_drop.get)\n",
    "print(networks[index])\n",
    "print(best_mlp_drop[index])\n",
    "\n",
    "model_path = \"saves/best_model_mlp_drop.pt\"\n",
    "# načteme nejlepší model\n",
    "model_mlp_drop = MLPDropout(input_size=32*32, \n",
    "                            hidden_layers=networks[index]['hidden_layers'], \n",
    "                            output_size=networks[index]['output_size'], \n",
    "                            dropout_p=0.1).to(device)\n",
    "    \n",
    "# Load the model's state dictionary\n",
    "model_mlp_drop.load_state_dict(torch.load(model_path))"
   ]
  },
  {
   "cell_type": "code",
   "execution_count": 54,
   "metadata": {},
   "outputs": [
    {
     "name": "stdout",
     "output_type": "stream",
     "text": [
      "tensor([ True,  True,  True,  True,  True,  True,  True,  True,  True,  True,\n",
      "         True,  True,  True,  True, False,  True,  True, False,  True,  True,\n",
      "         True,  True,  True,  True,  True,  True,  True,  True,  True,  True,\n",
      "         True,  True,  True, False,  True,  True,  True, False,  True,  True,\n",
      "         True,  True,  True,  True, False, False,  True,  True,  True, False,\n",
      "        False,  True,  True,  True,  True,  True,  True,  True,  True, False,\n",
      "         True,  True,  True,  True], device='cuda:0')\n",
      "tensor([4, 1, 5, 5, 3, 4, 1, 3, 7, 5, 0, 6, 8, 8, 6, 5, 4, 5, 7, 7, 0, 5, 1, 0,\n",
      "        3, 0, 8, 1, 3, 8, 8, 9, 9, 6, 1, 1, 3, 2, 0, 0, 8, 7, 7, 1, 6, 0, 8, 6,\n",
      "        5, 2, 2, 8, 3, 0, 3, 0, 7, 9, 2, 5, 6, 7, 8, 9], device='cuda:0')\n",
      "tensor([4, 1, 5, 5, 3, 4, 1, 3, 7, 5, 0, 4, 8, 8, 6, 7, 4, 5, 7, 7, 0, 5, 1, 0,\n",
      "        3, 0, 8, 1, 4, 8, 8, 9, 9, 0, 1, 1, 3, 6, 0, 0, 8, 7, 7, 1, 4, 3, 8, 6,\n",
      "        5, 2, 6, 8, 3, 0, 3, 0, 7, 9, 2, 5, 6, 7, 8, 9], device='cuda:0')\n"
     ]
    }
   ],
   "source": [
    "with torch.no_grad():\n",
    "    print(model_mlp_drop(pixels).argmax(1) == labels.flatten())\n",
    "    print(model_mlp_drop(pixels).argmax(1))\n",
    "\n",
    "print(labels.flatten())"
   ]
  },
  {
   "cell_type": "code",
   "execution_count": 55,
   "metadata": {},
   "outputs": [
    {
     "name": "stdout",
     "output_type": "stream",
     "text": [
      "Validacni přesnost: 0.8199047619047619\n",
      "[[ 987    3   12   47    1    1   25    0    4    0]\n",
      " [  13 1032    1   38    4    0    2    0    0    2]\n",
      " [  44    4  765   10  128    0   76    0    9    0]\n",
      " [  95   20    3  837   27    1   27    0    4    0]\n",
      " [   5    0  138   82  680    0   81    0    3    0]\n",
      " [   1    0    0    1    0  964    1   61   10   42]\n",
      " [ 310    4  136   35   96    1  426    0   21    0]\n",
      " [   0    0    0    0    0   47    0  915    7   73]\n",
      " [  14    0   12   13    4   10   13    8 1009    2]\n",
      " [   1    0    1    0    0   16    0   41    0  994]]\n"
     ]
    }
   ],
   "source": [
    "from sklearn.metrics import accuracy_score\n",
    "\n",
    "val_predictions = np.zeros(len(val_loader.dataset))\n",
    "val_y = np.zeros(len(val_loader.dataset))\n",
    "ii = 0\n",
    "for vdata in val_loader:\n",
    "    vinputs, vlabels = vdata\n",
    "    with torch.no_grad():\n",
    "        voutputs = model_mlp_drop(vinputs)\n",
    "        vloss = loss_fn(voutputs, vlabels)\n",
    "    val_predictions[ii:(ii + vinputs.shape[0])] = voutputs.argmax(1).cpu().numpy()\n",
    "    val_y[ii:(ii + vinputs.shape[0])] = vlabels.cpu().numpy()\n",
    "\n",
    "    ii += vinputs.shape[0]\n",
    "    \n",
    "print(f\"Validacni přesnost: {accuracy_score(val_y, val_predictions)}\")\n",
    "\n",
    "# Confusion matrix\n",
    "from sklearn.metrics import confusion_matrix\n",
    "cnf_matrix = confusion_matrix(val_y, val_predictions)\n",
    "print(cnf_matrix)\n",
    "\n",
    "accuracy['MLP'].append(round(accuracy_score(val_y, val_predictions),6))"
   ]
  },
  {
   "cell_type": "markdown",
   "metadata": {},
   "source": [
    "Bohužel, dropout regularizace ještě víc zhoršila přesnost"
   ]
  },
  {
   "cell_type": "code",
   "execution_count": 56,
   "metadata": {},
   "outputs": [
    {
     "data": {
      "text/plain": [
       "{'MLP': [0.840476, 0.837238, 0.836857, 0.819905], 'CNN': []}"
      ]
     },
     "execution_count": 56,
     "metadata": {},
     "output_type": "execute_result"
    }
   ],
   "source": [
    "accuracy"
   ]
  },
  {
   "cell_type": "markdown",
   "metadata": {},
   "source": [
    "#### II(b). Dropout + L1reg"
   ]
  },
  {
   "cell_type": "markdown",
   "metadata": {},
   "source": [
    "Zkusím kombinaci regularizací Dropout a L1"
   ]
  },
  {
   "cell_type": "code",
   "execution_count": 57,
   "metadata": {},
   "outputs": [
    {
     "name": "stdout",
     "output_type": "stream",
     "text": [
      "torch.Size([64, 1, 32, 32])\n",
      "torch.Size([64])\n"
     ]
    }
   ],
   "source": [
    "dataiter = iter(train_loader)\n",
    "pixels, labels = next(dataiter)\n",
    "batch = next(dataiter)\n",
    "\n",
    "print(pixels.shape)\n",
    "print(labels.shape)"
   ]
  },
  {
   "cell_type": "code",
   "execution_count": 58,
   "metadata": {},
   "outputs": [
    {
     "name": "stdout",
     "output_type": "stream",
     "text": [
      "torch.Size([64, 1, 32, 32]) torch.Size([64, 10])\n",
      "Total loss for this batch: 10.525484085083008\n"
     ]
    }
   ],
   "source": [
    "model = MLPDropout(32*32, [64,32], 10).to(device)\n",
    "outputs = model(pixels)\n",
    "print(pixels.shape, outputs.shape)\n",
    "\n",
    "loss_fn = torch.nn.CrossEntropyLoss()\n",
    "\n",
    "outputs = model(pixels)\n",
    "loss = loss_fn(outputs, labels)\n",
    "print('Total loss for this batch: {}'.format(loss.item()))\n",
    "\n",
    "optimizer = torch.optim.Adam(model.parameters())"
   ]
  },
  {
   "cell_type": "markdown",
   "metadata": {},
   "source": [
    "Pro trénování modelů napíšu novou funkci s přidáním L1 regularizace, ale stále budu používat instanci nové třídy Dropout"
   ]
  },
  {
   "cell_type": "code",
   "execution_count": 59,
   "metadata": {},
   "outputs": [],
   "source": [
    "def train_one_epoch_l1reg(model, loss_fn, optimizer, train_loader, l1_lambda=0.1):\n",
    "    running_cum_loss = 0.\n",
    "\n",
    "    for i, data in enumerate(train_loader):\n",
    "        inputs, labels = data\n",
    "    \n",
    "        # Reshape the pixels to match the input size expected by the model\n",
    "        inputs = inputs.view(-1, 32, 32)  # Assuming input size is 32x32\n",
    "        \n",
    "        optimizer.zero_grad()\n",
    "        outputs = model(inputs)\n",
    "        loss = loss_fn(outputs, labels)\n",
    "\n",
    "        l1_reg = torch.tensor(0., device='cuda:0')\n",
    "        l1_reg += torch.linalg.vector_norm(model.output.weight.flatten(),1)\n",
    "\n",
    "        loss = loss + l1_lambda*l1_reg\n",
    "        \n",
    "        # Backpropagation\n",
    "        loss.backward()\n",
    "\n",
    "        # Adjust learning weights\n",
    "        optimizer.step()\n",
    "        \n",
    "        running_cum_loss += loss.item() * inputs.shape[0]\n",
    "            \n",
    "    return running_cum_loss / len(train_loader.dataset)"
   ]
  },
  {
   "cell_type": "code",
   "execution_count": 60,
   "metadata": {},
   "outputs": [
    {
     "name": "stdout",
     "output_type": "stream",
     "text": [
      "Celková trénovací chyba: 2.1898035631028434\n"
     ]
    }
   ],
   "source": [
    "loss = train_one_epoch_l1reg(model, loss_fn, optimizer, train_loader)\n",
    "print(f\"Celková trénovací chyba: {loss}\")"
   ]
  },
  {
   "cell_type": "code",
   "execution_count": 61,
   "metadata": {},
   "outputs": [],
   "source": [
    "# Initialize the best validation loss\n",
    "best_vloss = float('inf')  # Positive infinity to ensure the first validation loss is always better\n",
    "best_mlp_drop_l1reg = {}\n",
    "\n",
    "# Loop through each network configuration\n",
    "for index, network in enumerate(networks):\n",
    "    input_size = 32 * 32  # Input image size\n",
    "    output_size = network['output_size']  # Output size for classification\n",
    "    hidden_layers = network['hidden_layers']  # Hidden layer sizes\n",
    "    \n",
    "    # Create an instance of MyNet with the specified architecture\n",
    "    model = MLPDropout(input_size, hidden_layers, output_size, 0.1).to(device)\n",
    "    loss_fn = torch.nn.CrossEntropyLoss()\n",
    "    optimizer = torch.optim.Adam(model.parameters())\n",
    "\n",
    "    MAX_EPOCHS = 15\n",
    "    K_EPOCHS = 3\n",
    "    \n",
    "    epochs = []\n",
    "    train_loss = []\n",
    "    validation_loss = []\n",
    "    epochs_from_best = 0\n",
    "\n",
    "    for epoch in range(MAX_EPOCHS):\n",
    "        model.train(True)\n",
    "    \n",
    "        # One training step\n",
    "        avg_loss = train_one_epoch_l1reg(model, loss_fn, optimizer, train_loader)\n",
    "\n",
    "        model.train(False)\n",
    "    \n",
    "        # Validation performance\n",
    "        running_cum_vloss = 0.0\n",
    "        vcorrect = 0\n",
    "        for i, vdata in enumerate(val_loader):\n",
    "            vinputs, vlabels = vdata\n",
    "            with torch.no_grad():\n",
    "                voutputs = model(vinputs)\n",
    "                vloss = loss_fn(voutputs, vlabels)\n",
    "            running_cum_vloss += vloss * vinputs.shape[0]\n",
    "            # count the correctly classified samples\n",
    "            vcorrect += (voutputs.argmax(1) == vlabels).float().sum()\n",
    "        # Get average loss and accuracy\n",
    "        avg_vloss = running_cum_vloss / len(val_dataset)\n",
    "        vacc = vcorrect / len(val_dataset)\n",
    "\n",
    "        # Save the model if the validation loss improves\n",
    "        if avg_vloss < best_vloss:\n",
    "            best_vloss = avg_vloss\n",
    "            model_path = f\"saves/best_model_mlp_drop_l1reg.pt\"  # Save models with different output sizes separately\n",
    "            torch.save(model.state_dict(), model_path)\n",
    "            best_mlp_drop_l1reg[index] = round(best_vloss.item(), 3)\n",
    "            epochs_from_best = 0\n",
    "        else:\n",
    "            epochs_from_best += 1\n",
    "            \n",
    "        # EARLY STOPPING\n",
    "        if epochs_from_best > K_EPOCHS:\n",
    "            break"
   ]
  },
  {
   "cell_type": "code",
   "execution_count": 62,
   "metadata": {},
   "outputs": [
    {
     "name": "stdout",
     "output_type": "stream",
     "text": [
      "{0: 0.501}\n",
      "{'hidden_layers': [64, 32], 'output_size': 10}\n",
      "0.501\n"
     ]
    },
    {
     "data": {
      "text/plain": [
       "<All keys matched successfully>"
      ]
     },
     "execution_count": 62,
     "metadata": {},
     "output_type": "execute_result"
    }
   ],
   "source": [
    "print(best_mlp_drop_l1reg)\n",
    "index = min(best_mlp_drop_l1reg, key=best_mlp_drop_l1reg.get)\n",
    "print(networks[index])\n",
    "print(best_mlp_drop_l1reg[index])\n",
    "\n",
    "model_path = \"saves/best_model_mlp_drop_l1reg.pt\"\n",
    "# načteme nejlepší model\n",
    "model_mlp_drop_l1reg = MLPDropout(input_size=32*32, \n",
    "                                  hidden_layers=networks[index]['hidden_layers'], \n",
    "                                  output_size=networks[index]['output_size']).to(device)\n",
    "    \n",
    "# Load the model's state dictionary\n",
    "model_mlp_drop_l1reg.load_state_dict(torch.load(model_path))"
   ]
  },
  {
   "cell_type": "code",
   "execution_count": 63,
   "metadata": {},
   "outputs": [
    {
     "name": "stdout",
     "output_type": "stream",
     "text": [
      "tensor([ True, False,  True,  True,  True,  True,  True,  True,  True, False,\n",
      "         True, False,  True, False,  True, False,  True,  True,  True,  True,\n",
      "         True,  True,  True,  True,  True,  True,  True,  True,  True,  True,\n",
      "         True,  True,  True,  True,  True, False,  True,  True,  True,  True,\n",
      "         True,  True,  True,  True, False, False,  True,  True,  True, False,\n",
      "         True,  True,  True,  True,  True,  True,  True,  True,  True,  True,\n",
      "         True,  True,  True,  True], device='cuda:0')\n",
      "tensor([3, 4, 7, 3, 7, 6, 3, 2, 5, 0, 3, 3, 5, 4, 4, 3, 3, 7, 9, 3, 4, 7, 1, 8,\n",
      "        4, 5, 5, 7, 9, 2, 9, 5, 6, 3, 6, 4, 0, 6, 7, 7, 9, 5, 0, 8, 0, 2, 9, 6,\n",
      "        4, 4, 9, 7, 3, 1, 4, 4, 0, 6, 7, 0, 9, 6, 7, 3], device='cuda:0')\n",
      "tensor([3, 2, 7, 3, 7, 3, 3, 2, 5, 6, 3, 4, 5, 2, 4, 6, 3, 7, 9, 3, 4, 7, 1, 8,\n",
      "        4, 5, 5, 5, 9, 2, 9, 5, 6, 3, 6, 4, 0, 0, 7, 7, 9, 5, 0, 8, 6, 4, 9, 6,\n",
      "        4, 2, 9, 7, 3, 1, 4, 4, 0, 0, 7, 0, 9, 6, 7, 4], device='cuda:0')\n"
     ]
    }
   ],
   "source": [
    "with torch.no_grad():\n",
    "    print(model_mlp_drop_l1reg(pixels).argmax(1) == labels.flatten())\n",
    "    print(model_mlp_drop_l1reg(pixels).argmax(1))\n",
    "\n",
    "print(labels.flatten())"
   ]
  },
  {
   "cell_type": "code",
   "execution_count": 64,
   "metadata": {},
   "outputs": [
    {
     "name": "stdout",
     "output_type": "stream",
     "text": [
      "Validacni přesnost: 0.8025714285714286\n",
      "[[ 865    6   28   94    4    1   67    0   14    1]\n",
      " [   4 1049    3   23    3    0    9    0    1    0]\n",
      " [   5    6  585   11  275    1  144    0    9    0]\n",
      " [  54   31   12  832   59    1   21    0    4    0]\n",
      " [   2    4   41   41  802    0   92    0    7    0]\n",
      " [   0    1    4    0    0  937    0   80    7   51]\n",
      " [ 208    6  117   52  169    0  448    1   28    0]\n",
      " [   0    0    0    0    0   31    0  911    2   98]\n",
      " [   2    1    9    5   10   11   31   13 1002    1]\n",
      " [   1    1    1    2    0   15    1   35    1  996]]\n"
     ]
    }
   ],
   "source": [
    "from sklearn.metrics import accuracy_score\n",
    "\n",
    "val_predictions = np.zeros(len(val_loader.dataset))\n",
    "val_y = np.zeros(len(val_loader.dataset))\n",
    "\n",
    "ii = 0\n",
    "for vdata in val_loader:\n",
    "    vinputs, vlabels = vdata\n",
    "    with torch.no_grad():\n",
    "        voutputs = model_mlp_drop_l1reg(vinputs)\n",
    "        vloss = loss_fn(voutputs, vlabels)\n",
    "    val_predictions[ii:(ii + vinputs.shape[0])] = voutputs.argmax(1).cpu().numpy()\n",
    "    val_y[ii:(ii + vinputs.shape[0])] = vlabels.cpu().numpy()\n",
    "\n",
    "    ii += vinputs.shape[0]\n",
    "    \n",
    "print(f\"Validacni přesnost: {accuracy_score(val_y, val_predictions)}\")\n",
    "\n",
    "# Confusion matrix\n",
    "from sklearn.metrics import confusion_matrix\n",
    "cnf_matrix = confusion_matrix(val_y, val_predictions)\n",
    "print(cnf_matrix)\n",
    "\n",
    "accuracy['MLP'].append(round(accuracy_score(val_y, val_predictions),6))"
   ]
  },
  {
   "cell_type": "markdown",
   "metadata": {},
   "source": [
    "Kombinace dvou regularizací Dropout a L1 zhoršila přesnost ještě víc"
   ]
  },
  {
   "cell_type": "code",
   "execution_count": 65,
   "metadata": {},
   "outputs": [
    {
     "data": {
      "text/plain": [
       "{'MLP': [0.840476, 0.837238, 0.836857, 0.819905, 0.802571], 'CNN': []}"
      ]
     },
     "execution_count": 65,
     "metadata": {},
     "output_type": "execute_result"
    }
   ],
   "source": [
    "accuracy"
   ]
  },
  {
   "cell_type": "markdown",
   "metadata": {},
   "source": [
    "#### II(b). Dropout + L2reg"
   ]
  },
  {
   "cell_type": "markdown",
   "metadata": {},
   "source": [
    "Tedy, podívám se jak to bude s L2 regularizací namísto L1"
   ]
  },
  {
   "cell_type": "code",
   "execution_count": 66,
   "metadata": {},
   "outputs": [
    {
     "name": "stdout",
     "output_type": "stream",
     "text": [
      "torch.Size([64, 1, 32, 32])\n",
      "torch.Size([64])\n"
     ]
    }
   ],
   "source": [
    "dataiter = iter(train_loader)\n",
    "pixels, labels = next(dataiter)\n",
    "batch = next(dataiter)\n",
    "\n",
    "print(pixels.shape)\n",
    "print(labels.shape)"
   ]
  },
  {
   "cell_type": "code",
   "execution_count": 67,
   "metadata": {},
   "outputs": [
    {
     "name": "stdout",
     "output_type": "stream",
     "text": [
      "torch.Size([64, 1, 32, 32]) torch.Size([64, 10])\n",
      "Total loss for this batch: 16.026247024536133\n"
     ]
    }
   ],
   "source": [
    "model = MLPDropout(32*32, [64,32], 10).to(device)\n",
    "outputs = model(pixels)\n",
    "print(pixels.shape, outputs.shape)\n",
    "\n",
    "loss_fn = torch.nn.CrossEntropyLoss()\n",
    "\n",
    "outputs = model(pixels)\n",
    "loss = loss_fn(outputs, labels)\n",
    "print('Total loss for this batch: {}'.format(loss.item()))\n",
    "\n",
    "optimizer = torch.optim.Adam(model.parameters())"
   ]
  },
  {
   "cell_type": "markdown",
   "metadata": {},
   "source": [
    "Napíšu novou funkci trénování s L2 regularizací"
   ]
  },
  {
   "cell_type": "code",
   "execution_count": 68,
   "metadata": {},
   "outputs": [],
   "source": [
    "def train_one_epoch_l2reg(model, loss_fn, optimizer, train_loader, l2_lambda=0.1):\n",
    "    running_cum_loss = 0.\n",
    "\n",
    "    for i, data in enumerate(train_loader):\n",
    "        inputs, labels = data\n",
    "    \n",
    "        # Reshape the pixels to match the input size expected by the model\n",
    "        inputs = inputs.view(-1, 32, 32)  # Assuming input size is 32x32\n",
    "        \n",
    "        optimizer.zero_grad()\n",
    "        outputs = model(inputs)\n",
    "        loss = loss_fn(outputs, labels)\n",
    "        \n",
    "        # Calculate L2 regularization term\n",
    "        l2_reg = torch.tensor(0., device='cuda:0')\n",
    "        for param in model.parameters():\n",
    "            l2_reg += torch.norm(param, 2)**2\n",
    "        \n",
    "        # Add L2 regularization term to the loss\n",
    "        loss += 0.5 * l2_lambda * l2_reg\n",
    "\n",
    "        loss.backward()\n",
    "        optimizer.step()\n",
    "\n",
    "        running_cum_loss += loss.item() * inputs.shape[0]\n",
    "            \n",
    "    return running_cum_loss / len(train_loader.dataset)"
   ]
  },
  {
   "cell_type": "code",
   "execution_count": 69,
   "metadata": {},
   "outputs": [
    {
     "name": "stdout",
     "output_type": "stream",
     "text": [
      "Celková trénovací chyba: 1.9727412394417656\n"
     ]
    }
   ],
   "source": [
    "loss = train_one_epoch_l2reg(model, loss_fn, optimizer, train_loader)\n",
    "print(f\"Celková trénovací chyba: {loss}\")"
   ]
  },
  {
   "cell_type": "code",
   "execution_count": 70,
   "metadata": {},
   "outputs": [],
   "source": [
    "# Initialize the best validation loss\n",
    "best_vloss = float('inf')  # Positive infinity to ensure the first validation loss is always better\n",
    "best_mlp_drop_l2reg = {}\n",
    "\n",
    "# Loop through each network configuration\n",
    "for index, network in enumerate(networks):\n",
    "    input_size = 32 * 32  # Input image size\n",
    "    output_size = network['output_size']  # Output size for classification\n",
    "    hidden_layers = network['hidden_layers']  # Hidden layer sizes\n",
    "    \n",
    "    # Create an instance of MyNet with the specified architecture\n",
    "    model = MLPDropout(input_size, hidden_layers, output_size, 0.1).to(device)\n",
    "    loss_fn = torch.nn.CrossEntropyLoss()\n",
    "    optimizer = torch.optim.Adam(model.parameters())\n",
    "\n",
    "    MAX_EPOCHS = 15\n",
    "    K_EPOCHS = 5\n",
    "    \n",
    "    epochs = []\n",
    "    train_loss = []\n",
    "    validation_loss = []\n",
    "    epochs_from_best = 0\n",
    "    \n",
    "    for epoch in range(MAX_EPOCHS):    \n",
    "        model.train(True)\n",
    "    \n",
    "        # One training step\n",
    "        avg_loss = train_one_epoch_l2reg(model, loss_fn, optimizer, train_loader)\n",
    "\n",
    "        model.train(False)\n",
    "    \n",
    "        # Validation performance\n",
    "        running_cum_vloss = 0.0\n",
    "        vcorrect = 0\n",
    "        for i, vdata in enumerate(val_loader):\n",
    "            vinputs, vlabels = vdata\n",
    "            with torch.no_grad():\n",
    "                voutputs = model(vinputs)\n",
    "                vloss = loss_fn(voutputs, vlabels)\n",
    "            running_cum_vloss += vloss * vinputs.shape[0]\n",
    "            # count the correctly classified samples\n",
    "            vcorrect += (voutputs.argmax(1) == vlabels).float().sum()\n",
    "        # Get average loss and accuracy\n",
    "        avg_vloss = running_cum_vloss / len(val_dataset)\n",
    "        vacc = vcorrect / len(val_dataset)\n",
    "\n",
    "        # Save the model if the validation loss improves\n",
    "        if avg_vloss < best_vloss:\n",
    "            best_vloss = avg_vloss\n",
    "            model_path = f\"saves/best_model_mlp_drop_l2reg.pt\"  # Save models with different output sizes separately\n",
    "            torch.save(model.state_dict(), model_path)\n",
    "            best_mlp_drop_l2reg[index] = round(best_vloss.item(), 3)\n",
    "            epochs_from_best = 0\n",
    "        else:\n",
    "            epochs_from_best += 1\n",
    "            \n",
    "        # EARLY STOPPING\n",
    "        if epochs_from_best > K_EPOCHS:\n",
    "            break"
   ]
  },
  {
   "cell_type": "code",
   "execution_count": 71,
   "metadata": {},
   "outputs": [
    {
     "name": "stdout",
     "output_type": "stream",
     "text": [
      "{0: 0.639}\n",
      "{'hidden_layers': [64, 32], 'output_size': 10}\n",
      "0.639\n"
     ]
    },
    {
     "data": {
      "text/plain": [
       "<All keys matched successfully>"
      ]
     },
     "execution_count": 71,
     "metadata": {},
     "output_type": "execute_result"
    }
   ],
   "source": [
    "print(best_mlp_drop_l2reg)\n",
    "index = min(best_mlp_drop_l2reg, key=best_mlp_drop_l2reg.get)\n",
    "print(networks[index])\n",
    "print(best_mlp_drop_l2reg[index])\n",
    "\n",
    "model_path = \"saves/best_model_mlp_drop_l2reg.pt\"\n",
    "# načteme nejlepší model\n",
    "model_mlp_drop_l2reg = MLPDropout(input_size=32*32, \n",
    "                                  hidden_layers=networks[index]['hidden_layers'], \n",
    "                                  output_size=networks[index]['output_size']).to(device)\n",
    "    \n",
    "# Load the model's state dictionary\n",
    "model_mlp_drop_l2reg.load_state_dict(torch.load(model_path))"
   ]
  },
  {
   "cell_type": "code",
   "execution_count": 72,
   "metadata": {},
   "outputs": [
    {
     "name": "stdout",
     "output_type": "stream",
     "text": [
      "tensor([ True,  True,  True,  True,  True,  True,  True,  True,  True, False,\n",
      "         True,  True, False,  True,  True,  True,  True,  True,  True,  True,\n",
      "         True,  True,  True, False, False, False,  True,  True,  True, False,\n",
      "        False,  True, False,  True, False,  True, False,  True, False,  True,\n",
      "         True, False,  True,  True,  True,  True,  True,  True,  True,  True,\n",
      "         True,  True,  True, False,  True,  True, False, False,  True,  True,\n",
      "        False, False, False,  True], device='cuda:0')\n",
      "tensor([5, 5, 3, 7, 7, 2, 2, 3, 8, 2, 0, 5, 2, 0, 9, 7, 8, 5, 2, 8, 8, 5, 3, 1,\n",
      "        0, 4, 6, 2, 5, 2, 5, 9, 2, 8, 4, 9, 2, 7, 0, 5, 3, 2, 5, 3, 9, 4, 0, 2,\n",
      "        6, 3, 6, 9, 3, 2, 0, 7, 0, 0, 9, 4, 1, 5, 6, 9], device='cuda:0')\n",
      "tensor([9, 5, 3, 7, 7, 2, 2, 3, 8, 8, 0, 5, 4, 0, 9, 7, 8, 5, 4, 8, 8, 5, 3, 1,\n",
      "        6, 4, 6, 2, 5, 4, 7, 9, 8, 8, 3, 9, 4, 7, 6, 5, 3, 6, 5, 3, 9, 4, 0, 2,\n",
      "        6, 3, 6, 9, 3, 6, 0, 7, 6, 3, 9, 4, 1, 7, 0, 9], device='cuda:0')\n"
     ]
    }
   ],
   "source": [
    "with torch.no_grad():\n",
    "    print(model_mlp_drop_l2reg(pixels).argmax(1) == labels.flatten())\n",
    "    print(model_mlp_drop_l2reg(pixels).argmax(1))\n",
    "\n",
    "print(labels.flatten())"
   ]
  },
  {
   "cell_type": "code",
   "execution_count": 73,
   "metadata": {},
   "outputs": [
    {
     "name": "stdout",
     "output_type": "stream",
     "text": [
      "Validacni přesnost: 0.7369523809523809\n",
      "[[855   6  38  72   5   1  89   0  13   1]\n",
      " [ 20 928  21 103   6   0  14   0   0   0]\n",
      " [  7   2 731   7 136   0 136   0  17   0]\n",
      " [ 98  16  22 750  32   0  89   0   4   3]\n",
      " [  6   0 279  44 513   2 141   0   3   1]\n",
      " [  1   0   1   0   2 842   1 125  17  91]\n",
      " [233   2 282  31 101   2 339   1  38   0]\n",
      " [  0   0   0   0   0  61   0 889   4  88]\n",
      " [  8   1  39  10  10  15  19  15 964   4]\n",
      " [  1   0   2   0   9  43   1  66   4 927]]\n"
     ]
    }
   ],
   "source": [
    "from sklearn.metrics import accuracy_score\n",
    "\n",
    "val_predictions = np.zeros(len(val_loader.dataset))\n",
    "val_y = np.zeros(len(val_loader.dataset))\n",
    "ii = 0\n",
    "for vdata in val_loader:\n",
    "    vinputs, vlabels = vdata\n",
    "    with torch.no_grad():\n",
    "        voutputs = model_mlp_drop_l2reg(vinputs)\n",
    "        vloss = loss_fn(voutputs, vlabels)\n",
    "    val_predictions[ii:(ii + vinputs.shape[0])] = voutputs.argmax(1).cpu().numpy()\n",
    "    val_y[ii:(ii + vinputs.shape[0])] = vlabels.cpu().numpy()\n",
    "\n",
    "    ii += vinputs.shape[0]\n",
    "    \n",
    "print(f\"Validacni přesnost: {accuracy_score(val_y, val_predictions)}\")\n",
    "\n",
    "# Confusion matrix\n",
    "from sklearn.metrics import confusion_matrix\n",
    "cnf_matrix = confusion_matrix(val_y, val_predictions)\n",
    "print(cnf_matrix)\n",
    "\n",
    "accuracy['MLP'].append(round(accuracy_score(val_y, val_predictions),6))"
   ]
  },
  {
   "cell_type": "code",
   "execution_count": 74,
   "metadata": {},
   "outputs": [
    {
     "data": {
      "text/plain": [
       "{'MLP': [0.840476, 0.837238, 0.836857, 0.819905, 0.802571, 0.736952],\n",
       " 'CNN': []}"
      ]
     },
     "execution_count": 74,
     "metadata": {},
     "output_type": "execute_result"
    }
   ],
   "source": [
    "accuracy"
   ]
  },
  {
   "cell_type": "markdown",
   "metadata": {},
   "source": [
    "Bohužel, kombinace regularizací stále zhoršuje přesnost modelů"
   ]
  },
  {
   "cell_type": "markdown",
   "metadata": {},
   "source": [
    "#### II(b). SGD"
   ]
  },
  {
   "cell_type": "markdown",
   "metadata": {},
   "source": [
    "Tedy, zkusím dopřednou neuronovou sít s stochastickým gradientním sestupem  "
   ]
  },
  {
   "cell_type": "code",
   "execution_count": 75,
   "metadata": {},
   "outputs": [
    {
     "name": "stdout",
     "output_type": "stream",
     "text": [
      "torch.Size([64, 1, 32, 32])\n",
      "torch.Size([64])\n"
     ]
    }
   ],
   "source": [
    "dataiter = iter(train_loader)\n",
    "pixels, labels = next(dataiter)\n",
    "batch = next(dataiter)\n",
    "\n",
    "print(pixels.shape)\n",
    "print(labels.shape)"
   ]
  },
  {
   "cell_type": "markdown",
   "metadata": {},
   "source": [
    "Namísto optimizeru Adam použiju optimizer SGD"
   ]
  },
  {
   "cell_type": "code",
   "execution_count": 76,
   "metadata": {},
   "outputs": [
    {
     "name": "stdout",
     "output_type": "stream",
     "text": [
      "Total loss for this batch: 6.246662139892578\n",
      "Total training loss: 1.985782526909359\n"
     ]
    }
   ],
   "source": [
    "model = MLP(32*32, [64,32], 10).to(device)\n",
    "outputs = model(pixels)\n",
    "\n",
    "loss_fn = torch.nn.CrossEntropyLoss()\n",
    "\n",
    "outputs = model(pixels)\n",
    "loss = loss_fn(outputs, labels)\n",
    "print('Total loss for this batch: {}'.format(loss.item()))\n",
    "\n",
    "optimizer = torch.optim.SGD(model.parameters(), lr=0.001, momentum=0.9) \n",
    "\n",
    "loss = train_one_epoch(model, loss_fn, optimizer, train_loader)\n",
    "print(f\"Total training loss: {loss}\")"
   ]
  },
  {
   "cell_type": "code",
   "execution_count": 77,
   "metadata": {},
   "outputs": [],
   "source": [
    "# Initialize the best validation loss\n",
    "best_vloss = float('inf')  # Positive infinity to ensure the first validation loss is always better\n",
    "best_mlp_sgd = {}\n",
    "\n",
    "# Loop through each network configuration\n",
    "for index, network in enumerate(networks):\n",
    "    input_size = 32 * 32  # Input image size\n",
    "    output_size = network['output_size']  # Output size for classification\n",
    "    hidden_layers = network['hidden_layers']  # Hidden layer sizes\n",
    "    \n",
    "    # Create an instance of MyNet with the specified architecture\n",
    "    model = MLP(input_size, hidden_layers, output_size).to(device)\n",
    "    loss_fn = torch.nn.CrossEntropyLoss()\n",
    "    optimizer = torch.optim.SGD(model.parameters(), lr=0.001, momentum=0.9) \n",
    "\n",
    "    MAX_EPOCHS = 15\n",
    "    K_EPOCHS = 5\n",
    "    \n",
    "    epochs = []\n",
    "    train_loss = []\n",
    "    validation_loss = []\n",
    "    epochs_from_best = 0\n",
    "\n",
    "    for epoch in range(MAX_EPOCHS):    \n",
    "        model.train(True)\n",
    "    \n",
    "        # One training step\n",
    "        avg_loss = train_one_epoch(model, loss_fn, optimizer, train_loader)\n",
    "\n",
    "        model.train(False)\n",
    "    \n",
    "        # Validation performance\n",
    "        running_cum_vloss = 0.0\n",
    "        vcorrect = 0\n",
    "        for i, vdata in enumerate(val_loader):\n",
    "            vinputs, vlabels = vdata\n",
    "            with torch.no_grad():\n",
    "                voutputs = model(vinputs)\n",
    "                vloss = loss_fn(voutputs, vlabels)\n",
    "            running_cum_vloss += vloss * vinputs.shape[0]\n",
    "            # count the correctly classified samples\n",
    "            vcorrect += (voutputs.argmax(1) == vlabels).float().sum()\n",
    "        # Get average loss and accuracy\n",
    "        avg_vloss = running_cum_vloss / len(val_dataset)\n",
    "        vacc = vcorrect / len(val_dataset)\n",
    "\n",
    "        # Save the model if the validation loss improves\n",
    "        if avg_vloss < best_vloss:\n",
    "            best_vloss = avg_vloss\n",
    "            model_path = f\"saves/best_model_mlp_sgd.pt\"  # Save models with different output sizes separately\n",
    "            torch.save(model.state_dict(), model_path)\n",
    "            best_mlp_sgd[index] = round(best_vloss.item(), 3)\n",
    "            epochs_from_best = 0\n",
    "        else:\n",
    "            epochs_from_best += 1\n",
    "            \n",
    "        # EARLY STOPPING\n",
    "        if epochs_from_best > K_EPOCHS:\n",
    "            break"
   ]
  },
  {
   "cell_type": "code",
   "execution_count": 78,
   "metadata": {},
   "outputs": [
    {
     "name": "stdout",
     "output_type": "stream",
     "text": [
      "{0: 2.303, 1: 0.461, 4: 0.422}\n",
      "{'hidden_layers': [1024, 512, 256, 128], 'output_size': 40}\n",
      "0.422\n"
     ]
    },
    {
     "data": {
      "text/plain": [
       "<All keys matched successfully>"
      ]
     },
     "execution_count": 78,
     "metadata": {},
     "output_type": "execute_result"
    }
   ],
   "source": [
    "print(best_mlp_sgd)\n",
    "index = min(best_mlp_sgd, key=best_mlp_sgd.get)\n",
    "print(networks[index])\n",
    "print(best_mlp_sgd[index])\n",
    "\n",
    "model_path = \"saves/best_model_mlp_sgd.pt\"\n",
    "# načteme nejlepší model\n",
    "model_mlp_sgd = MLP(input_size=32*32, \n",
    "                    hidden_layers=networks[index]['hidden_layers'], \n",
    "                    output_size=networks[index]['output_size']).to(device)\n",
    "    \n",
    "# Load the model's state dictionary\n",
    "model_mlp_sgd.load_state_dict(torch.load(model_path))"
   ]
  },
  {
   "cell_type": "code",
   "execution_count": 79,
   "metadata": {},
   "outputs": [
    {
     "name": "stdout",
     "output_type": "stream",
     "text": [
      "tensor([ True,  True,  True,  True,  True,  True,  True,  True,  True,  True,\n",
      "         True,  True,  True,  True, False,  True,  True,  True,  True,  True,\n",
      "         True,  True,  True, False,  True,  True,  True,  True,  True,  True,\n",
      "         True,  True,  True,  True,  True,  True,  True,  True,  True,  True,\n",
      "         True,  True,  True, False,  True,  True,  True, False,  True,  True,\n",
      "         True,  True,  True,  True,  True,  True,  True,  True,  True,  True,\n",
      "         True,  True,  True,  True], device='cuda:0')\n",
      "tensor([5, 8, 0, 5, 1, 7, 7, 1, 2, 7, 3, 9, 1, 6, 2, 5, 2, 2, 0, 2, 7, 9, 4, 9,\n",
      "        0, 8, 2, 1, 9, 8, 3, 7, 5, 1, 5, 1, 7, 7, 9, 3, 5, 0, 4, 0, 5, 1, 0, 3,\n",
      "        1, 8, 0, 4, 2, 7, 6, 7, 1, 0, 8, 5, 5, 8, 1, 1], device='cuda:0')\n",
      "tensor([5, 8, 0, 5, 1, 7, 7, 1, 2, 7, 3, 9, 1, 6, 4, 5, 2, 2, 0, 2, 7, 9, 4, 7,\n",
      "        0, 8, 2, 1, 9, 8, 3, 7, 5, 1, 5, 1, 7, 7, 9, 3, 5, 0, 4, 3, 5, 1, 0, 0,\n",
      "        1, 8, 0, 4, 2, 7, 6, 7, 1, 0, 8, 5, 5, 8, 1, 1], device='cuda:0')\n"
     ]
    }
   ],
   "source": [
    "with torch.no_grad():\n",
    "    print(model_mlp_sgd(pixels).argmax(1) == labels.flatten())\n",
    "    print(model_mlp_sgd(pixels).argmax(1))\n",
    "\n",
    "print(labels.flatten())"
   ]
  },
  {
   "cell_type": "code",
   "execution_count": 80,
   "metadata": {},
   "outputs": [
    {
     "name": "stdout",
     "output_type": "stream",
     "text": [
      "Validacni přesnost: 0.8563809523809524\n",
      "[[ 965    1   25   40    5    2   34    0    8    0]\n",
      " [   5 1058    5   17    5    0    2    0    0    0]\n",
      " [  14    2  850    7  117    0   36    0   10    0]\n",
      " [  51    8   22  866   50    0   11    0    5    1]\n",
      " [   3    2   96   32  791    0   62    0    3    0]\n",
      " [   1    0    0    0    0  996    1   51    8   23]\n",
      " [ 254    0  143   27  113    0  479    0   13    0]\n",
      " [   0    0    0    0    0   35    0  946    2   59]\n",
      " [   9    0   12    4    8    7    5    5 1035    0]\n",
      " [   0    1    0    0    1   12    0   33    0 1006]]\n"
     ]
    }
   ],
   "source": [
    "from sklearn.metrics import accuracy_score\n",
    "\n",
    "val_predictions = np.zeros(len(val_loader.dataset))\n",
    "val_y = np.zeros(len(val_loader.dataset))\n",
    "ii = 0\n",
    "for vdata in val_loader:\n",
    "    vinputs, vlabels = vdata\n",
    "    with torch.no_grad():\n",
    "        voutputs = model_mlp_sgd(vinputs)\n",
    "        vloss = loss_fn(voutputs, vlabels)\n",
    "    val_predictions[ii:(ii + vinputs.shape[0])] = voutputs.argmax(1).cpu().numpy()\n",
    "    val_y[ii:(ii + vinputs.shape[0])] = vlabels.cpu().numpy()\n",
    "\n",
    "    ii += vinputs.shape[0]\n",
    "    \n",
    "print(f\"Validacni přesnost: {accuracy_score(val_y, val_predictions)}\")\n",
    "\n",
    "# Confusion matrix\n",
    "from sklearn.metrics import confusion_matrix\n",
    "cnf_matrix = confusion_matrix(val_y, val_predictions)\n",
    "print(cnf_matrix)\n",
    "\n",
    "accuracy['MLP'].append(round(accuracy_score(val_y, val_predictions),6))"
   ]
  },
  {
   "cell_type": "markdown",
   "metadata": {},
   "source": [
    "Vidím, že optimizer SGD zlepšil přesnost modelu dopředné neuronové síti. Prozatím je to nejlepší model"
   ]
  },
  {
   "cell_type": "code",
   "execution_count": 81,
   "metadata": {},
   "outputs": [
    {
     "data": {
      "text/plain": [
       "{'MLP': [0.840476, 0.837238, 0.836857, 0.819905, 0.802571, 0.736952, 0.856381],\n",
       " 'CNN': []}"
      ]
     },
     "execution_count": 81,
     "metadata": {},
     "output_type": "execute_result"
    }
   ],
   "source": [
    "accuracy"
   ]
  },
  {
   "cell_type": "markdown",
   "metadata": {},
   "source": [
    "#### II(b). Batch"
   ]
  },
  {
   "cell_type": "markdown",
   "metadata": {},
   "source": [
    "Zkusím regularizaci Batch Normalization. Napíšu novou třídu MLPBatch s integrací dávkové normalizace"
   ]
  },
  {
   "cell_type": "code",
   "execution_count": 82,
   "metadata": {},
   "outputs": [],
   "source": [
    "class MLPBatch(nn.Module):\n",
    "    def __init__(self, input_size, hidden_layers, output_size):\n",
    "        super(MLPBatch, self).__init__()\n",
    "        self.fc1 = nn.Linear(input_size, hidden_layers[0])\n",
    "        self.bn1 = nn.BatchNorm1d(hidden_layers[0])\n",
    "        self.hidden_layers = nn.ModuleList([nn.Linear(hidden_layers[i], hidden_layers[i+1]) for i in range(len(hidden_layers)-1)])\n",
    "        self.bn_layers = nn.ModuleList([nn.BatchNorm1d(size) for size in hidden_layers[1:]])\n",
    "        self.output = nn.Linear(hidden_layers[-1], output_size)\n",
    "\n",
    "    def forward(self, x):\n",
    "        x = x.view(x.shape[0], -1)\n",
    "        x = F.relu(self.bn1(self.fc1(x)))\n",
    "        for layer, bn_layer in zip(self.hidden_layers, self.bn_layers):\n",
    "            x = F.relu(bn_layer(layer(x)))\n",
    "        x = self.output(x)\n",
    "        return x"
   ]
  },
  {
   "cell_type": "code",
   "execution_count": 83,
   "metadata": {},
   "outputs": [
    {
     "name": "stdout",
     "output_type": "stream",
     "text": [
      "torch.Size([64, 1, 32, 32])\n",
      "torch.Size([64])\n"
     ]
    }
   ],
   "source": [
    "dataiter = iter(train_loader)\n",
    "pixels, labels = next(dataiter)\n",
    "batch = next(dataiter)\n",
    "\n",
    "print(pixels.shape)\n",
    "print(labels.shape)"
   ]
  },
  {
   "cell_type": "code",
   "execution_count": 84,
   "metadata": {},
   "outputs": [
    {
     "name": "stdout",
     "output_type": "stream",
     "text": [
      "Total loss for this batch: 2.357325315475464\n",
      "Total training loss: 0.8469422789906699\n"
     ]
    }
   ],
   "source": [
    "model = MLPBatch(32*32, [64,32], 10).to(device)\n",
    "outputs = model(pixels)\n",
    "\n",
    "loss_fn = torch.nn.CrossEntropyLoss()\n",
    "\n",
    "outputs = model(pixels)\n",
    "loss = loss_fn(outputs, labels)\n",
    "print('Total loss for this batch: {}'.format(loss.item()))\n",
    "\n",
    "optimizer = torch.optim.Adam(model.parameters())\n",
    "\n",
    "loss = train_one_epoch(model, loss_fn, optimizer, train_loader)\n",
    "print(f\"Total training loss: {loss}\")"
   ]
  },
  {
   "cell_type": "code",
   "execution_count": 85,
   "metadata": {},
   "outputs": [],
   "source": [
    "# Initialize the best validation loss\n",
    "best_vloss = float('inf')  # Positive infinity to ensure the first validation loss is always better\n",
    "best_mlp_batch = {}\n",
    "\n",
    "# Loop through each network configuration\n",
    "for index, network in enumerate(networks):\n",
    "    input_size = 32 * 32  # Input image size\n",
    "    output_size = network['output_size']  # Output size for classification\n",
    "    hidden_layers = network['hidden_layers']  # Hidden layer sizes\n",
    "    \n",
    "    # Create an instance of MyNet with the specified architecture\n",
    "    model = MLPBatch(input_size, hidden_layers, output_size).to(device)\n",
    "    loss_fn = torch.nn.CrossEntropyLoss()\n",
    "    optimizer = torch.optim.Adam(model.parameters())\n",
    "\n",
    "    MAX_EPOCHS = 15\n",
    "    K_EPOCHS = 5\n",
    "    \n",
    "    epochs = []\n",
    "    train_loss = []\n",
    "    validation_loss = []\n",
    "    epochs_from_best = 0\n",
    "    \n",
    "    for epoch in range(MAX_EPOCHS):    \n",
    "        model.train(True)\n",
    "    \n",
    "        # One training step\n",
    "        avg_loss = train_one_epoch(model, loss_fn, optimizer, train_loader)\n",
    "\n",
    "        model.train(False)\n",
    "    \n",
    "        # Validation performance\n",
    "        running_cum_vloss = 0.0\n",
    "        vcorrect = 0\n",
    "        for i, vdata in enumerate(val_loader):\n",
    "            vinputs, vlabels = vdata\n",
    "            with torch.no_grad():\n",
    "                voutputs = model(vinputs)\n",
    "                vloss = loss_fn(voutputs, vlabels)\n",
    "            running_cum_vloss += vloss * vinputs.shape[0]\n",
    "            # count the correctly classified samples\n",
    "            vcorrect += (voutputs.argmax(1) == vlabels).float().sum()\n",
    "        # Get average loss and accuracy\n",
    "        avg_vloss = running_cum_vloss / len(val_dataset)\n",
    "        vacc = vcorrect / len(val_dataset)\n",
    "    \n",
    "        # Save the model if the validation loss improves\n",
    "        if avg_vloss < best_vloss:\n",
    "            best_vloss = avg_vloss\n",
    "            model_path = f\"saves/best_model_mlp_batch.pt\"  # Save models with different output sizes separately\n",
    "            torch.save(model.state_dict(), model_path)\n",
    "            best_mlp_batch[index] = round(best_vloss.item(), 3)\n",
    "            epochs_from_best = 0\n",
    "        else:\n",
    "            epochs_from_best += 1\n",
    "            \n",
    "        # EARLY STOPPING\n",
    "        if epochs_from_best > K_EPOCHS:\n",
    "            break"
   ]
  },
  {
   "cell_type": "code",
   "execution_count": 86,
   "metadata": {},
   "outputs": [
    {
     "name": "stdout",
     "output_type": "stream",
     "text": [
      "{0: 0.442, 1: 0.419}\n",
      "{'hidden_layers': [128, 64, 32], 'output_size': 10}\n",
      "0.419\n"
     ]
    },
    {
     "data": {
      "text/plain": [
       "<All keys matched successfully>"
      ]
     },
     "execution_count": 86,
     "metadata": {},
     "output_type": "execute_result"
    }
   ],
   "source": [
    "print(best_mlp_batch)\n",
    "index = min(best_mlp_batch, key=best_mlp_batch.get)\n",
    "print(networks[index])\n",
    "print(best_mlp_batch[index])\n",
    "\n",
    "model_path = \"saves/best_model_mlp_batch.pt\"\n",
    "# načteme nejlepší model\n",
    "model_mlp_batch = MLPBatch(input_size=32*32, \n",
    "                            hidden_layers=networks[index]['hidden_layers'], \n",
    "                            output_size=networks[index]['output_size']).to(device)\n",
    "    \n",
    "# Load the model's state dictionary\n",
    "model_mlp_batch.load_state_dict(torch.load(model_path))"
   ]
  },
  {
   "cell_type": "code",
   "execution_count": 87,
   "metadata": {},
   "outputs": [
    {
     "name": "stdout",
     "output_type": "stream",
     "text": [
      "tensor([ True,  True,  True,  True,  True,  True,  True, False,  True,  True,\n",
      "         True,  True,  True,  True,  True, False, False,  True,  True,  True,\n",
      "         True,  True,  True,  True, False,  True, False,  True,  True,  True,\n",
      "         True,  True, False,  True,  True, False,  True,  True,  True,  True,\n",
      "         True,  True, False,  True,  True,  True,  True, False,  True, False,\n",
      "         True,  True,  True,  True,  True,  True, False,  True,  True,  True,\n",
      "         True,  True,  True,  True], device='cuda:0')\n",
      "tensor([1, 8, 9, 9, 8, 4, 5, 7, 1, 1, 4, 8, 9, 7, 8, 2, 3, 5, 6, 6, 4, 2, 4, 3,\n",
      "        6, 7, 6, 1, 1, 2, 3, 5, 6, 7, 1, 7, 0, 9, 5, 0, 9, 5, 3, 0, 6, 0, 2, 0,\n",
      "        5, 5, 3, 2, 3, 1, 1, 9, 4, 8, 2, 5, 7, 1, 2, 8], device='cuda:0')\n",
      "tensor([1, 8, 9, 9, 8, 4, 5, 5, 1, 1, 4, 8, 9, 7, 8, 6, 4, 5, 6, 6, 4, 2, 4, 3,\n",
      "        2, 7, 0, 1, 1, 2, 3, 5, 0, 7, 1, 9, 0, 9, 5, 0, 9, 5, 0, 0, 6, 0, 2, 6,\n",
      "        5, 7, 3, 2, 3, 1, 1, 9, 2, 8, 2, 5, 7, 1, 2, 8], device='cuda:0')\n"
     ]
    }
   ],
   "source": [
    "with torch.no_grad():\n",
    "    print(model_mlp_batch(pixels).argmax(1) == labels.flatten())\n",
    "    print(model_mlp_batch(pixels).argmax(1))\n",
    "\n",
    "print(labels.flatten())"
   ]
  },
  {
   "cell_type": "code",
   "execution_count": 88,
   "metadata": {},
   "outputs": [
    {
     "name": "stdout",
     "output_type": "stream",
     "text": [
      "Validacni přesnost: 0.8437142857142857\n",
      "[[ 893    1   28   72    5    3   72    0    6    0]\n",
      " [   5 1055    2   20    3    0    7    0    0    0]\n",
      " [   6    4  745   13  142    0  120    0    6    0]\n",
      " [  41   17   12  876   40    0   25    0    3    0]\n",
      " [   2    3   68   52  788    1   74    0    1    0]\n",
      " [   1    1    0    0    0  965    0   74    7   32]\n",
      " [ 174    7   93   43   89    0  607    0   16    0]\n",
      " [   0    0    0    0    0   47    0  919    3   73]\n",
      " [   6    0   13   18    7    6   10    8 1017    0]\n",
      " [   0    1    1    1    0   15    0   40    1  994]]\n"
     ]
    }
   ],
   "source": [
    "from sklearn.metrics import accuracy_score\n",
    "\n",
    "val_predictions = np.zeros(len(val_loader.dataset))\n",
    "val_y = np.zeros(len(val_loader.dataset))\n",
    "ii = 0\n",
    "for vdata in val_loader:\n",
    "    vinputs, vlabels = vdata\n",
    "    with torch.no_grad():\n",
    "        voutputs = model_mlp_batch(vinputs)\n",
    "        vloss = loss_fn(voutputs, vlabels)\n",
    "    val_predictions[ii:(ii + vinputs.shape[0])] = voutputs.argmax(1).cpu().numpy()\n",
    "    val_y[ii:(ii + vinputs.shape[0])] = vlabels.cpu().numpy()\n",
    "\n",
    "    ii += vinputs.shape[0]\n",
    "    \n",
    "print(f\"Validacni přesnost: {accuracy_score(val_y, val_predictions)}\")\n",
    "\n",
    "# Confusion matrix\n",
    "from sklearn.metrics import confusion_matrix\n",
    "cnf_matrix = confusion_matrix(val_y, val_predictions)\n",
    "print(cnf_matrix)\n",
    "\n",
    "accuracy['MLP'].append(round(accuracy_score(val_y, val_predictions),6))"
   ]
  },
  {
   "cell_type": "markdown",
   "metadata": {},
   "source": [
    "Přesnost je menší než u modelu s SGD optimizerem, ale je stále dost dobrá"
   ]
  },
  {
   "cell_type": "code",
   "execution_count": 89,
   "metadata": {},
   "outputs": [
    {
     "data": {
      "text/plain": [
       "{'MLP': [0.840476,\n",
       "  0.837238,\n",
       "  0.836857,\n",
       "  0.819905,\n",
       "  0.802571,\n",
       "  0.736952,\n",
       "  0.856381,\n",
       "  0.843714],\n",
       " 'CNN': []}"
      ]
     },
     "execution_count": 89,
     "metadata": {},
     "output_type": "execute_result"
    }
   ],
   "source": [
    "accuracy"
   ]
  },
  {
   "cell_type": "markdown",
   "metadata": {},
   "source": [
    "### II(c). Implementace a použití modelů Convolutional Neural Networks"
   ]
  },
  {
   "cell_type": "markdown",
   "metadata": {},
   "source": [
    "Ted použiju model konvoluční neuronové sítě a budu ho ladit pomocí různých technik. Myslím si, že tyto modely budou o více lépe než modely dopředné neuronové síti"
   ]
  },
  {
   "cell_type": "markdown",
   "metadata": {},
   "source": [
    "#### II(c). Original"
   ]
  },
  {
   "cell_type": "markdown",
   "metadata": {},
   "source": [
    "Zkusím modely konvoluční neuronové sítě na původních datech a zároven vyladím model na různých hloubkách a velikostech vrstev"
   ]
  },
  {
   "cell_type": "markdown",
   "metadata": {},
   "source": [
    "Napíšu třídu konvoluční neuronové síti s nastavitelnou hloubkou a velikostmi každou vrstvy."
   ]
  },
  {
   "cell_type": "code",
   "execution_count": 98,
   "metadata": {},
   "outputs": [],
   "source": [
    "class CNN(nn.Module):\n",
    "    def __init__(self, num_conv_layers, num_filters, output_size):\n",
    "        super(CNN, self).__init__()\n",
    "        self.conv_layers = nn.ModuleList([nn.Conv2d(in_channels=1 if i == 0 else num_filters[i - 1],\n",
    "                                                    out_channels=num_filters[i],\n",
    "                                                    kernel_size=3,\n",
    "                                                    stride=1,\n",
    "                                                    padding=1) for i in range(num_conv_layers)])\n",
    "        self.pool = nn.MaxPool2d(kernel_size=2, stride=2)\n",
    "        \n",
    "        # Calculate the size of the last convolutional layer's output\n",
    "        # based on the input size (32x32) and the number of conv layers\n",
    "        conv_output_size = 32 // (2 ** num_conv_layers)  # Formula for max pooling\n",
    "        self.fc = nn.Linear(num_filters[-1] * conv_output_size * conv_output_size, output_size)\n",
    "\n",
    "    def forward(self, x):\n",
    "        for i, conv_layer in enumerate(self.conv_layers):\n",
    "            x = F.relu(conv_layer(x))\n",
    "            x = self.pool(x)\n",
    "        x = x.view(x.size(0), -1)\n",
    "        x = self.fc(x)\n",
    "        return x"
   ]
  },
  {
   "cell_type": "markdown",
   "metadata": {},
   "source": [
    "Dál budu aplikovat té samé procedury trénování modelů neuronových sítí, jako v předchozích dopředných neuronových sítích"
   ]
  },
  {
   "cell_type": "code",
   "execution_count": 99,
   "metadata": {},
   "outputs": [
    {
     "name": "stdout",
     "output_type": "stream",
     "text": [
      "torch.Size([64, 1, 32, 32])\n",
      "torch.Size([64])\n"
     ]
    }
   ],
   "source": [
    "dataiter = iter(train_loader)\n",
    "pixels, labels = next(dataiter)\n",
    "batch = next(dataiter)\n",
    "\n",
    "print(pixels.shape)\n",
    "print(labels.shape)"
   ]
  },
  {
   "cell_type": "code",
   "execution_count": 100,
   "metadata": {},
   "outputs": [],
   "source": [
    "# Instantiate the CNN model\n",
    "model = CNN(2, [16,32], 10).to(device)\n",
    "# Now you can pass 'pixels' to the model\n",
    "outputs = model(pixels)"
   ]
  },
  {
   "cell_type": "code",
   "execution_count": 101,
   "metadata": {},
   "outputs": [
    {
     "name": "stdout",
     "output_type": "stream",
     "text": [
      "Total loss for this batch: 18.974464416503906\n"
     ]
    }
   ],
   "source": [
    "loss_fn = torch.nn.CrossEntropyLoss()\n",
    "\n",
    "loss = loss_fn(outputs, labels)\n",
    "print('Total loss for this batch: {}'.format(loss.item()))"
   ]
  },
  {
   "cell_type": "code",
   "execution_count": 102,
   "metadata": {},
   "outputs": [],
   "source": [
    "# Optimizers specified in the torch.optim package\n",
    "optimizer = torch.optim.Adam(model.parameters())"
   ]
  },
  {
   "cell_type": "code",
   "execution_count": 103,
   "metadata": {},
   "outputs": [],
   "source": [
    "def train_one_epoch(model, loss_fn, optimizer, train_loader):\n",
    "    running_cum_loss = 0.0\n",
    "    total_samples = len(train_loader.dataset)\n",
    "\n",
    "    for i, data in enumerate(train_loader):\n",
    "        inputs, labels = data\n",
    "    \n",
    "        optimizer.zero_grad()\n",
    "        outputs = model(inputs)\n",
    "        loss = loss_fn(outputs, labels)\n",
    "\n",
    "        loss.backward()\n",
    "        optimizer.step()\n",
    "\n",
    "        running_cum_loss += loss.item()\n",
    "\n",
    "    # Calculate the average loss across all batches\n",
    "    average_loss = running_cum_loss / len(train_loader)\n",
    "\n",
    "    return average_loss\n"
   ]
  },
  {
   "cell_type": "code",
   "execution_count": 104,
   "metadata": {},
   "outputs": [
    {
     "name": "stdout",
     "output_type": "stream",
     "text": [
      "Total training loss: 1.0122028169719008\n"
     ]
    }
   ],
   "source": [
    "loss = train_one_epoch(model, loss_fn, optimizer, train_loader)\n",
    "print(f\"Total training loss: {loss}\")"
   ]
  },
  {
   "cell_type": "code",
   "execution_count": 105,
   "metadata": {},
   "outputs": [],
   "source": [
    "networks = [\n",
    "    {'num_conv_layers': 2, 'num_filters': [16, 32], 'output_size': 10},  # CNN with 2 conv layers, 16 and 32 filters\n",
    "    {'num_conv_layers': 3, 'num_filters': [32, 64, 128], 'output_size': 10},  # CNN with 3 conv layers, 32, 64, and 128 filters\n",
    "    {'num_conv_layers': 4, 'num_filters': [64, 128, 256, 512], 'output_size': 20},  # CNN with 4 conv layers, 64, 128, 256, and 512 filters\n",
    "    {'num_conv_layers': 5, 'num_filters': [128, 256, 512, 512, 1024], 'output_size': 20},  # CNN with 5 conv layers, 128, 256, 512, 512, and 1024 filters\n",
    "]"
   ]
  },
  {
   "cell_type": "code",
   "execution_count": 106,
   "metadata": {
    "scrolled": true
   },
   "outputs": [],
   "source": [
    "# Initialize the best validation loss\n",
    "best_vloss = float('inf')  # Positive infinity to ensure the first validation loss is always better\n",
    "best_cnn = {}\n",
    "\n",
    "\n",
    "for index, network in enumerate(networks):\n",
    "    num_conv_layers = network['num_conv_layers']  # Number of convolutional layers\n",
    "    num_filters = network['num_filters']  # Number of filters in each convolutional layer\n",
    "    output_size = network['output_size']  # Output size for classification\n",
    "    \n",
    "    # Create an instance of MyCNN with the specified architecture\n",
    "    model = CNN(num_conv_layers, num_filters, output_size).to(device)\n",
    "\n",
    "    loss_fn = torch.nn.CrossEntropyLoss()\n",
    "    optimizer = torch.optim.Adam(model.parameters())\n",
    "\n",
    "    MAX_EPOCHS = 15\n",
    "    K_EPOCHS = 5\n",
    "    \n",
    "    epochs = []\n",
    "    train_loss = []\n",
    "    validation_loss = []\n",
    "    epochs_from_best = 0\n",
    "\n",
    "    for epoch in range(MAX_EPOCHS):\n",
    "        model.train(True)\n",
    "    \n",
    "        # One training step\n",
    "        avg_loss = train_one_epoch(model, loss_fn, optimizer, train_loader)\n",
    "\n",
    "        model.train(False)\n",
    "    \n",
    "        # Validation performance\n",
    "        running_cum_vloss = 0.0\n",
    "        vcorrect = 0\n",
    "        for i, vdata in enumerate(val_loader):\n",
    "            vinputs, vlabels = vdata\n",
    "            with torch.no_grad():\n",
    "                voutputs = model(vinputs)\n",
    "                vloss = loss_fn(voutputs, vlabels)\n",
    "            running_cum_vloss += vloss * vinputs.shape[0]\n",
    "            # count the correctly classified samples\n",
    "            vcorrect += (voutputs.argmax(1) == vlabels).float().sum()\n",
    "        # Get average loss and accuracy\n",
    "        avg_vloss = running_cum_vloss / len(val_dataset)\n",
    "        vacc = vcorrect / len(val_dataset)\n",
    "\n",
    "        # Save the model if the validation loss improves\n",
    "        if avg_vloss < best_vloss:\n",
    "            best_vloss = avg_vloss\n",
    "            model_path = f\"saves/best_model_cnn.pt\"  # Save models with different output sizes separately\n",
    "            torch.save(model.state_dict(), model_path)\n",
    "            best_cnn[index] = round(best_vloss.item(), 3)\n",
    "            epochs_from_best = 0\n",
    "        else:\n",
    "            epochs_from_best += 1\n",
    "            \n",
    "        # EARLY STOPPING\n",
    "        if epochs_from_best > K_EPOCHS:\n",
    "            break"
   ]
  },
  {
   "cell_type": "code",
   "execution_count": 107,
   "metadata": {},
   "outputs": [
    {
     "name": "stdout",
     "output_type": "stream",
     "text": [
      "{0: 0.408, 1: 0.36, 2: 0.338, 3: 0.328}\n",
      "{'num_conv_layers': 5, 'num_filters': [128, 256, 512, 512, 1024], 'output_size': 20}\n",
      "0.328\n"
     ]
    },
    {
     "data": {
      "text/plain": [
       "<All keys matched successfully>"
      ]
     },
     "execution_count": 107,
     "metadata": {},
     "output_type": "execute_result"
    }
   ],
   "source": [
    "print(best_cnn)\n",
    "index = min(best_cnn, key=best_cnn.get)\n",
    "print(networks[index])\n",
    "print(best_cnn[index])\n",
    "\n",
    "model_path = \"saves/best_model_cnn.pt\"\n",
    "# načteme nejlepší model\n",
    "model_cnn = CNN(num_conv_layers = networks[index]['num_conv_layers'],\n",
    "                 num_filters = networks[index]['num_filters'], \n",
    "                 output_size = networks[index]['output_size']).to(device)\n",
    "    \n",
    "# Load the model's state dictionary\n",
    "model_cnn.load_state_dict(torch.load(model_path))"
   ]
  },
  {
   "cell_type": "code",
   "execution_count": 108,
   "metadata": {},
   "outputs": [
    {
     "name": "stdout",
     "output_type": "stream",
     "text": [
      "Validacni přesnost: 0.8834285714285715\n",
      "[[ 790    0   11   22    6    0  247    0    4    0]\n",
      " [   2 1074    0   14    0    0    2    0    0    0]\n",
      " [  10    3  839    8   91    0   83    0    2    0]\n",
      " [  29    7    5  869   56    0   47    0    1    0]\n",
      " [   1    1   82   21  806    0   76    0    2    0]\n",
      " [   1    0    0    0    0 1044    0   31    0    4]\n",
      " [  76    1   59   20   67    1  798    0    7    0]\n",
      " [   0    0    0    0    0   24    0  987    1   30]\n",
      " [   5    0    4    4    3    2    8    3 1055    1]\n",
      " [   0    0    0    0    0    5    4   30    0 1014]]\n"
     ]
    }
   ],
   "source": [
    "from sklearn.metrics import accuracy_score\n",
    "\n",
    "val_predictions = np.zeros(len(val_loader.dataset))\n",
    "val_y = np.zeros(len(val_loader.dataset))\n",
    "ii = 0\n",
    "for vdata in val_loader:\n",
    "    vinputs, vlabels = vdata\n",
    "    with torch.no_grad():\n",
    "        voutputs = model_cnn(vinputs)\n",
    "        vloss = loss_fn(voutputs, vlabels)\n",
    "    val_predictions[ii:(ii + vinputs.shape[0])] = voutputs.argmax(1).cpu().numpy()\n",
    "    val_y[ii:(ii + vinputs.shape[0])] = vlabels.cpu().numpy()\n",
    "\n",
    "    ii += vinputs.shape[0]\n",
    "    \n",
    "print(f\"Validacni přesnost: {accuracy_score(val_y, val_predictions)}\")\n",
    "\n",
    "# Confusion matrix\n",
    "from sklearn.metrics import confusion_matrix\n",
    "cnf_matrix = confusion_matrix(val_y, val_predictions)\n",
    "print(cnf_matrix)\n",
    "\n",
    "accuracy['CNN'].append(round(accuracy_score(val_y, val_predictions),6))"
   ]
  },
  {
   "cell_type": "markdown",
   "metadata": {},
   "source": [
    "Jak jsem si myslel, konvoluční neuronová sít bude o víc lépe predikovat než dopředné. Přesnost konvoluční neuronové síti je o víc vyšší než přesnost nejlepšího modelu dopředné neuronové síti "
   ]
  },
  {
   "cell_type": "code",
   "execution_count": 109,
   "metadata": {},
   "outputs": [
    {
     "data": {
      "text/plain": [
       "{'MLP': [0.840476,\n",
       "  0.837238,\n",
       "  0.836857,\n",
       "  0.819905,\n",
       "  0.802571,\n",
       "  0.736952,\n",
       "  0.856381,\n",
       "  0.843714],\n",
       " 'CNN': [0.883429]}"
      ]
     },
     "execution_count": 109,
     "metadata": {},
     "output_type": "execute_result"
    }
   ],
   "source": [
    "accuracy"
   ]
  },
  {
   "cell_type": "markdown",
   "metadata": {},
   "source": [
    "#### II(c). Standard"
   ]
  },
  {
   "cell_type": "markdown",
   "metadata": {},
   "source": [
    "Podívám se jak to bude predikovat se standardními daty"
   ]
  },
  {
   "cell_type": "code",
   "execution_count": 110,
   "metadata": {},
   "outputs": [
    {
     "name": "stdout",
     "output_type": "stream",
     "text": [
      "torch.Size([64, 1, 32, 32])\n",
      "torch.Size([64])\n"
     ]
    }
   ],
   "source": [
    "dataiter = iter(train_loader_stand)\n",
    "pixels, labels = next(dataiter)\n",
    "batch = next(dataiter)\n",
    "\n",
    "print(pixels.shape)\n",
    "print(labels.shape)"
   ]
  },
  {
   "cell_type": "code",
   "execution_count": 111,
   "metadata": {},
   "outputs": [
    {
     "name": "stdout",
     "output_type": "stream",
     "text": [
      "Total loss for this batch: 2.29339861869812\n",
      "Total training loss: 0.7085395553895475\n"
     ]
    }
   ],
   "source": [
    "model = CNN(2, [16,32], 10).to(device)\n",
    "outputs = model(pixels)\n",
    "\n",
    "loss_fn = torch.nn.CrossEntropyLoss()\n",
    "loss = loss_fn(outputs, labels)\n",
    "print('Total loss for this batch: {}'.format(loss.item()))\n",
    "\n",
    "optimizer = torch.optim.Adam(model.parameters())\n",
    "\n",
    "loss = train_one_epoch(model, loss_fn, optimizer, train_loader_stand)\n",
    "print(f\"Total training loss: {loss}\")"
   ]
  },
  {
   "cell_type": "code",
   "execution_count": 112,
   "metadata": {},
   "outputs": [],
   "source": [
    "# Initialize the best validation loss\n",
    "best_vloss = float('inf')  # Positive infinity to ensure the first validation loss is always better\n",
    "best_cnn_stand = {}\n",
    "\n",
    "\n",
    "for index, network in enumerate(networks):\n",
    "    num_conv_layers = network['num_conv_layers']  # Number of convolutional layers\n",
    "    num_filters = network['num_filters']  # Number of filters in each convolutional layer\n",
    "    output_size = network['output_size']  # Output size for classification\n",
    "    \n",
    "    # Create an instance of MyCNN with the specified architecture\n",
    "    model = CNN(num_conv_layers, num_filters, output_size).to(device)\n",
    "\n",
    "    loss_fn = torch.nn.CrossEntropyLoss()\n",
    "    optimizer = torch.optim.Adam(model.parameters())\n",
    "\n",
    "    MAX_EPOCHS = 15\n",
    "    K_EPOCHS = 5\n",
    "    \n",
    "    epochs = []\n",
    "    train_loss = []\n",
    "    validation_loss = []\n",
    "    epochs_from_best = 0\n",
    "\n",
    "    for epoch in range(MAX_EPOCHS):\n",
    "        model.train(True)\n",
    "    \n",
    "        # One training step\n",
    "        avg_loss = train_one_epoch(model, loss_fn, optimizer, train_loader_stand)\n",
    "\n",
    "        model.train(False)\n",
    "    \n",
    "        # Validation performance\n",
    "        running_cum_vloss = 0.0\n",
    "        vcorrect = 0\n",
    "        for i, vdata in enumerate(val_loader_stand):\n",
    "            vinputs, vlabels = vdata\n",
    "            with torch.no_grad():\n",
    "                voutputs = model(vinputs)\n",
    "                vloss = loss_fn(voutputs, vlabels)\n",
    "            running_cum_vloss += vloss * vinputs.shape[0]\n",
    "            # count the correctly classified samples\n",
    "            vcorrect += (voutputs.argmax(1) == vlabels).float().sum()\n",
    "        # Get average loss and accuracy\n",
    "        avg_vloss = running_cum_vloss / len(val_dataset_stand)\n",
    "        vacc = vcorrect / len(val_dataset_stand)\n",
    "\n",
    "        # Save the model if the validation loss improves\n",
    "        if avg_vloss < best_vloss:\n",
    "            best_vloss = avg_vloss\n",
    "            model_path = f\"saves/best_model_cnn_stand.pt\"  # Save models with different output sizes separately\n",
    "            torch.save(model.state_dict(), model_path)\n",
    "            best_cnn_stand[index] = round(best_vloss.item(), 3)\n",
    "            epochs_from_best = 0\n",
    "        else:\n",
    "            epochs_from_best += 1\n",
    "            \n",
    "        # EARLY STOPPING\n",
    "        if epochs_from_best > K_EPOCHS:\n",
    "            break"
   ]
  },
  {
   "cell_type": "code",
   "execution_count": 113,
   "metadata": {},
   "outputs": [
    {
     "name": "stdout",
     "output_type": "stream",
     "text": [
      "{0: 0.371, 1: 0.336, 2: 0.312}\n",
      "{'num_conv_layers': 4, 'num_filters': [64, 128, 256, 512], 'output_size': 20}\n",
      "0.312\n"
     ]
    },
    {
     "data": {
      "text/plain": [
       "<All keys matched successfully>"
      ]
     },
     "execution_count": 113,
     "metadata": {},
     "output_type": "execute_result"
    }
   ],
   "source": [
    "print(best_cnn_stand)\n",
    "index = min(best_cnn_stand, key=best_cnn_stand.get)\n",
    "print(networks[index])\n",
    "print(best_cnn_stand[index])\n",
    "\n",
    "model_path = \"saves/best_model_cnn_stand.pt\"\n",
    "# načteme nejlepší model\n",
    "model_cnn_stand = CNN(num_conv_layers = networks[index]['num_conv_layers'],\n",
    "                 num_filters = networks[index]['num_filters'], \n",
    "                 output_size = networks[index]['output_size']).to(device)\n",
    "    \n",
    "# Load the model's state dictionary\n",
    "model_cnn_stand.load_state_dict(torch.load(model_path))"
   ]
  },
  {
   "cell_type": "code",
   "execution_count": 114,
   "metadata": {},
   "outputs": [
    {
     "name": "stdout",
     "output_type": "stream",
     "text": [
      "tensor([ True,  True,  True,  True,  True, False,  True,  True,  True,  True,\n",
      "         True,  True,  True,  True,  True,  True,  True,  True,  True,  True,\n",
      "         True,  True, False,  True,  True,  True,  True,  True,  True,  True,\n",
      "         True,  True,  True,  True,  True,  True,  True,  True,  True,  True,\n",
      "         True,  True,  True,  True,  True,  True,  True,  True, False, False,\n",
      "         True,  True,  True,  True,  True,  True, False, False,  True,  True,\n",
      "         True,  True,  True,  True], device='cuda:0')\n",
      "tensor([1, 9, 3, 8, 4, 4, 8, 8, 9, 5, 6, 7, 4, 3, 7, 2, 5, 3, 5, 6, 7, 2, 0, 9,\n",
      "        4, 2, 6, 8, 3, 4, 4, 4, 5, 9, 8, 5, 8, 0, 6, 7, 0, 2, 9, 4, 8, 0, 5, 5,\n",
      "        6, 4, 8, 0, 4, 1, 1, 2, 0, 0, 6, 5, 4, 3, 9, 1], device='cuda:0')\n",
      "tensor([1, 9, 3, 8, 4, 6, 8, 8, 9, 5, 6, 7, 4, 3, 7, 2, 5, 3, 5, 6, 7, 2, 3, 9,\n",
      "        4, 2, 6, 8, 3, 4, 4, 4, 5, 9, 8, 5, 8, 0, 6, 7, 0, 2, 9, 4, 8, 0, 5, 5,\n",
      "        4, 2, 8, 0, 4, 1, 1, 2, 6, 6, 6, 5, 4, 3, 9, 1], device='cuda:0')\n"
     ]
    }
   ],
   "source": [
    "with torch.no_grad():\n",
    "    print(model_cnn_stand(pixels).argmax(1) == labels.flatten())\n",
    "    print(model_cnn_stand(pixels).argmax(1))\n",
    "\n",
    "print(labels.flatten())"
   ]
  },
  {
   "cell_type": "code",
   "execution_count": 115,
   "metadata": {},
   "outputs": [
    {
     "name": "stdout",
     "output_type": "stream",
     "text": [
      "Validacni přesnost: 0.8822857142857143\n",
      "[[ 913    1   13   25    1    2  120    0    5    0]\n",
      " [   2 1068    1   12    1    0    7    0    0    1]\n",
      " [  12    3  871    7   75    0   63    0    5    0]\n",
      " [  37    5    9  887   24    0   46    0    6    0]\n",
      " [   2    2   94   50  746    0   94    0    1    0]\n",
      " [   0    0    0    0    0 1037    0   31    4    8]\n",
      " [ 152    0   77   25   86    0  680    1    8    0]\n",
      " [   0    0    0    0    0   20    0  996    0   26]\n",
      " [   4    0    4    3    1    2    7    3 1061    0]\n",
      " [   0    0    0    0    0   10    0   37    1 1005]]\n"
     ]
    }
   ],
   "source": [
    "from sklearn.metrics import accuracy_score\n",
    "\n",
    "val_predictions = np.zeros(len(val_loader_stand.dataset))\n",
    "val_y = np.zeros(len(val_loader_stand.dataset))\n",
    "ii = 0\n",
    "for vdata in val_loader_stand:\n",
    "    vinputs, vlabels = vdata\n",
    "    with torch.no_grad():\n",
    "        voutputs = model_cnn_stand(vinputs)\n",
    "        vloss = loss_fn(voutputs, vlabels)\n",
    "    val_predictions[ii:(ii + vinputs.shape[0])] = voutputs.argmax(1).cpu().numpy()\n",
    "    val_y[ii:(ii + vinputs.shape[0])] = vlabels.cpu().numpy()\n",
    "\n",
    "    ii += vinputs.shape[0]\n",
    "    \n",
    "print(f\"Validacni přesnost: {accuracy_score(val_y, val_predictions)}\")\n",
    "\n",
    "# Confusion matrix\n",
    "from sklearn.metrics import confusion_matrix\n",
    "cnf_matrix = confusion_matrix(val_y, val_predictions)\n",
    "print(cnf_matrix)\n",
    "\n",
    "accuracy['CNN'].append(round(accuracy_score(val_y, val_predictions),6))"
   ]
  },
  {
   "cell_type": "markdown",
   "metadata": {},
   "source": [
    "Přesnost však zůstala téměř stejná"
   ]
  },
  {
   "cell_type": "code",
   "execution_count": 116,
   "metadata": {},
   "outputs": [
    {
     "data": {
      "text/plain": [
       "{'MLP': [0.840476,\n",
       "  0.837238,\n",
       "  0.836857,\n",
       "  0.819905,\n",
       "  0.802571,\n",
       "  0.736952,\n",
       "  0.856381,\n",
       "  0.843714],\n",
       " 'CNN': [0.883429, 0.882286]}"
      ]
     },
     "execution_count": 116,
     "metadata": {},
     "output_type": "execute_result"
    }
   ],
   "source": [
    "accuracy"
   ]
  },
  {
   "cell_type": "markdown",
   "metadata": {},
   "source": [
    "#### II(c). MinMax"
   ]
  },
  {
   "cell_type": "markdown",
   "metadata": {},
   "source": [
    "Zkusím konvouční neuronovou sít na datech předzpracovaných pomocí MinMax normalizace"
   ]
  },
  {
   "cell_type": "code",
   "execution_count": 117,
   "metadata": {},
   "outputs": [
    {
     "name": "stdout",
     "output_type": "stream",
     "text": [
      "torch.Size([64, 1, 32, 32])\n",
      "torch.Size([64])\n"
     ]
    }
   ],
   "source": [
    "dataiter = iter(train_loader_min_max)\n",
    "pixels, labels = next(dataiter)\n",
    "batch = next(dataiter)\n",
    "\n",
    "print(pixels.shape)\n",
    "print(labels.shape)"
   ]
  },
  {
   "cell_type": "code",
   "execution_count": 118,
   "metadata": {},
   "outputs": [
    {
     "name": "stdout",
     "output_type": "stream",
     "text": [
      "Total loss for this batch: 2.3004589080810547\n",
      "Total training loss: 0.7945007773127566\n"
     ]
    }
   ],
   "source": [
    "model = CNN(2, [16,32], 10).to(device)\n",
    "outputs = model(pixels)\n",
    "\n",
    "loss_fn = torch.nn.CrossEntropyLoss()\n",
    "loss = loss_fn(outputs, labels)\n",
    "print('Total loss for this batch: {}'.format(loss.item()))\n",
    "\n",
    "optimizer = torch.optim.Adam(model.parameters())\n",
    "\n",
    "loss = train_one_epoch(model, loss_fn, optimizer, train_loader_min_max)\n",
    "print(f\"Total training loss: {loss}\")"
   ]
  },
  {
   "cell_type": "code",
   "execution_count": 119,
   "metadata": {},
   "outputs": [],
   "source": [
    "# Initialize the best validation loss\n",
    "best_vloss = float('inf')  # Positive infinity to ensure the first validation loss is always better\n",
    "best_cnn_min_max = {}\n",
    "\n",
    "\n",
    "for index, network in enumerate(networks):\n",
    "    num_conv_layers = network['num_conv_layers']  # Number of convolutional layers\n",
    "    num_filters = network['num_filters']  # Number of filters in each convolutional layer\n",
    "    output_size = network['output_size']  # Output size for classification\n",
    "    \n",
    "    # Create an instance of MyCNN with the specified architecture\n",
    "    model = CNN(num_conv_layers, num_filters, output_size).to(device)\n",
    "\n",
    "    loss_fn = torch.nn.CrossEntropyLoss()\n",
    "    optimizer = torch.optim.Adam(model.parameters())\n",
    "\n",
    "    MAX_EPOCHS = 15\n",
    "    K_EPOCHS = 5\n",
    "    \n",
    "    epochs = []\n",
    "    train_loss = []\n",
    "    validation_loss = []\n",
    "    epochs_from_best = 0\n",
    "\n",
    "    for epoch in range(MAX_EPOCHS):\n",
    "        model.train(True)\n",
    "    \n",
    "        # One training step\n",
    "        avg_loss = train_one_epoch(model, loss_fn, optimizer, train_loader_min_max)\n",
    "\n",
    "        model.train(False)\n",
    "    \n",
    "        # Validation performance\n",
    "        running_cum_vloss = 0.0\n",
    "        vcorrect = 0\n",
    "        for i, vdata in enumerate(val_loader_min_max):\n",
    "            vinputs, vlabels = vdata\n",
    "            with torch.no_grad():\n",
    "                voutputs = model(vinputs)\n",
    "                vloss = loss_fn(voutputs, vlabels)\n",
    "            running_cum_vloss += vloss * vinputs.shape[0]\n",
    "            # count the correctly classified samples\n",
    "            vcorrect += (voutputs.argmax(1) == vlabels).float().sum()\n",
    "        # Get average loss and accuracy\n",
    "        avg_vloss = running_cum_vloss / len(val_dataset_min_max)\n",
    "        vacc = vcorrect / len(val_dataset_min_max)\n",
    "\n",
    "        # Save the model if the validation loss improves\n",
    "        if avg_vloss < best_vloss:\n",
    "            best_vloss = avg_vloss\n",
    "            model_path = f\"saves/best_model_cnn_min_max.pt\"  # Save models with different output sizes separately\n",
    "            torch.save(model.state_dict(), model_path)\n",
    "            best_cnn_min_max[index] = round(best_vloss.item(), 3)\n",
    "            epochs_from_best = 0\n",
    "        else:\n",
    "            epochs_from_best += 1\n",
    "            \n",
    "        # EARLY STOPPING\n",
    "        if epochs_from_best > K_EPOCHS:\n",
    "            break"
   ]
  },
  {
   "cell_type": "code",
   "execution_count": 120,
   "metadata": {},
   "outputs": [
    {
     "name": "stdout",
     "output_type": "stream",
     "text": [
      "{0: 0.355, 1: 0.311, 2: 0.298}\n",
      "{'num_conv_layers': 4, 'num_filters': [64, 128, 256, 512], 'output_size': 20}\n",
      "0.298\n"
     ]
    },
    {
     "data": {
      "text/plain": [
       "<All keys matched successfully>"
      ]
     },
     "execution_count": 120,
     "metadata": {},
     "output_type": "execute_result"
    }
   ],
   "source": [
    "print(best_cnn_min_max)\n",
    "index = min(best_cnn_min_max, key=best_cnn_min_max.get)\n",
    "print(networks[index])\n",
    "print(best_cnn_min_max[index])\n",
    "\n",
    "model_path = \"saves/best_model_cnn_min_max.pt\"\n",
    "# načteme nejlepší model\n",
    "model_cnn_min_max = CNN(num_conv_layers = networks[index]['num_conv_layers'],\n",
    "                 num_filters = networks[index]['num_filters'], \n",
    "                 output_size = networks[index]['output_size']).to(device)\n",
    "    \n",
    "# Load the model's state dictionary\n",
    "model_cnn_min_max.load_state_dict(torch.load(model_path))"
   ]
  },
  {
   "cell_type": "code",
   "execution_count": 121,
   "metadata": {},
   "outputs": [
    {
     "name": "stdout",
     "output_type": "stream",
     "text": [
      "tensor([ True,  True,  True,  True,  True,  True,  True,  True,  True,  True,\n",
      "         True,  True,  True,  True,  True,  True,  True,  True,  True,  True,\n",
      "         True,  True,  True,  True,  True,  True,  True,  True,  True,  True,\n",
      "        False,  True,  True,  True,  True,  True,  True,  True, False,  True,\n",
      "        False,  True,  True,  True,  True,  True,  True,  True,  True,  True,\n",
      "         True,  True,  True,  True,  True,  True,  True,  True,  True,  True,\n",
      "         True,  True,  True,  True], device='cuda:0')\n",
      "tensor([0, 4, 3, 6, 6, 5, 4, 9, 2, 0, 7, 5, 9, 6, 0, 3, 4, 6, 2, 5, 9, 7, 9, 8,\n",
      "        8, 5, 2, 0, 5, 8, 0, 5, 5, 5, 4, 5, 4, 3, 0, 0, 2, 6, 5, 4, 2, 7, 0, 4,\n",
      "        4, 0, 3, 7, 2, 1, 0, 4, 1, 5, 3, 9, 1, 0, 7, 1], device='cuda:0')\n",
      "tensor([0, 4, 3, 6, 6, 5, 4, 9, 2, 0, 7, 5, 9, 6, 0, 3, 4, 6, 2, 5, 9, 7, 9, 8,\n",
      "        8, 5, 2, 0, 5, 8, 6, 5, 5, 5, 4, 5, 4, 3, 6, 0, 4, 6, 5, 4, 2, 7, 0, 4,\n",
      "        4, 0, 3, 7, 2, 1, 0, 4, 1, 5, 3, 9, 1, 0, 7, 1], device='cuda:0')\n"
     ]
    }
   ],
   "source": [
    "with torch.no_grad():\n",
    "    print(model_cnn_min_max(pixels).argmax(1) == labels.flatten())\n",
    "    print(model_cnn_min_max(pixels).argmax(1))\n",
    "\n",
    "print(labels.flatten())"
   ]
  },
  {
   "cell_type": "code",
   "execution_count": 122,
   "metadata": {},
   "outputs": [
    {
     "name": "stdout",
     "output_type": "stream",
     "text": [
      "Validacni přesnost: 0.8935238095238095\n",
      "[[ 894    5   12   51    3    1  111    0    3    0]\n",
      " [   1 1083    0    5    3    0    0    0    0    0]\n",
      " [  14    3  844   10   97    0   64    0    4    0]\n",
      " [  21   12    5  932   21    0   22    0    1    0]\n",
      " [   0    0   61   48  793    0   85    0    2    0]\n",
      " [   0    0    0    0    0 1042    0   32    0    6]\n",
      " [ 130    3   60   36   70    0  725    0    5    0]\n",
      " [   0    0    0    0    0   18    0  997    0   27]\n",
      " [   6    0    2    4    1    3    9    2 1058    0]\n",
      " [   0    2    0    1    0    5    0   31    0 1014]]\n"
     ]
    }
   ],
   "source": [
    "from sklearn.metrics import accuracy_score\n",
    "\n",
    "val_predictions = np.zeros(len(val_loader_min_max.dataset))\n",
    "val_y = np.zeros(len(val_loader_min_max.dataset))\n",
    "ii = 0\n",
    "for vdata in val_loader_min_max:\n",
    "    vinputs, vlabels = vdata\n",
    "    with torch.no_grad():\n",
    "        voutputs = model_cnn_min_max(vinputs)\n",
    "        vloss = loss_fn(voutputs, vlabels)\n",
    "    val_predictions[ii:(ii + vinputs.shape[0])] = voutputs.argmax(1).cpu().numpy()\n",
    "    val_y[ii:(ii + vinputs.shape[0])] = vlabels.cpu().numpy()\n",
    "\n",
    "    ii += vinputs.shape[0]\n",
    "    \n",
    "print(f\"Validacni přesnost: {accuracy_score(val_y, val_predictions)}\")\n",
    "\n",
    "# Confusion matrix\n",
    "from sklearn.metrics import confusion_matrix\n",
    "cnf_matrix = confusion_matrix(val_y, val_predictions)\n",
    "print(cnf_matrix)\n",
    "\n",
    "accuracy['CNN'].append(round(accuracy_score(val_y, val_predictions),6))"
   ]
  },
  {
   "cell_type": "code",
   "execution_count": 123,
   "metadata": {},
   "outputs": [
    {
     "data": {
      "text/plain": [
       "{'MLP': [0.840476,\n",
       "  0.837238,\n",
       "  0.836857,\n",
       "  0.819905,\n",
       "  0.802571,\n",
       "  0.736952,\n",
       "  0.856381,\n",
       "  0.843714],\n",
       " 'CNN': [0.883429, 0.882286, 0.893524]}"
      ]
     },
     "execution_count": 123,
     "metadata": {},
     "output_type": "execute_result"
    }
   ],
   "source": [
    "accuracy"
   ]
  },
  {
   "cell_type": "markdown",
   "metadata": {},
   "source": [
    "K mému překvapení jsem se dostal vyšší přesnost. Ale přesto zkusím ještě jiné optimalizační a regularizační metody"
   ]
  },
  {
   "cell_type": "markdown",
   "metadata": {},
   "source": [
    "#### II(c). Dropout"
   ]
  },
  {
   "cell_type": "markdown",
   "metadata": {},
   "source": [
    "Zkusím Dropout regularizaci. Trochu změním třídu pro implementaci Dropout atributů. Trénováné ale bude probíhat stejně"
   ]
  },
  {
   "cell_type": "code",
   "execution_count": 124,
   "metadata": {},
   "outputs": [],
   "source": [
    "class CNNDropout(nn.Module):\n",
    "    def __init__(self, num_conv_layers, num_filters, output_size, dropout_p=0.1):\n",
    "        super(CNNDropout, self).__init__()\n",
    "        self.conv_layers = nn.ModuleList([nn.Sequential(\n",
    "                                            nn.Conv2d(in_channels=1 if i == 0 else num_filters[i - 1],\n",
    "                                                      out_channels=num_filters[i],\n",
    "                                                      kernel_size=3,\n",
    "                                                      stride=1,\n",
    "                                                      padding=1),\n",
    "                                            nn.ReLU(),\n",
    "                                            nn.MaxPool2d(kernel_size=2, stride=2),\n",
    "                                            nn.Dropout2d(dropout_p)) for i in range(num_conv_layers)])\n",
    "        \n",
    "        # Calculate the size of the last convolutional layer's output\n",
    "        # based on the input size (32x32) and the number of conv layers\n",
    "        conv_output_size = 32 // (2 ** num_conv_layers)  # Formula for max pooling\n",
    "        self.fc = nn.Linear(num_filters[-1] * conv_output_size * conv_output_size, output_size)\n",
    "\n",
    "    def forward(self, x):\n",
    "        for conv_layer in self.conv_layers:\n",
    "            x = conv_layer(x)\n",
    "        x = x.view(x.size(0), -1)\n",
    "        x = self.fc(x)\n",
    "        return x"
   ]
  },
  {
   "cell_type": "code",
   "execution_count": 125,
   "metadata": {},
   "outputs": [
    {
     "name": "stdout",
     "output_type": "stream",
     "text": [
      "torch.Size([64, 1, 32, 32])\n",
      "torch.Size([64])\n"
     ]
    }
   ],
   "source": [
    "dataiter = iter(train_loader)\n",
    "pixels, labels = next(dataiter)\n",
    "batch = next(dataiter)\n",
    "\n",
    "print(pixels.shape)\n",
    "print(labels.shape)"
   ]
  },
  {
   "cell_type": "code",
   "execution_count": 126,
   "metadata": {},
   "outputs": [
    {
     "name": "stdout",
     "output_type": "stream",
     "text": [
      "Total loss for this batch: 16.000905990600586\n",
      "Total training loss: 0.9195673057684792\n"
     ]
    }
   ],
   "source": [
    "model = CNNDropout(2, [16,32], 10).to(device)\n",
    "outputs = model(pixels)\n",
    "\n",
    "loss_fn = torch.nn.CrossEntropyLoss()\n",
    "loss = loss_fn(outputs, labels)\n",
    "print('Total loss for this batch: {}'.format(loss.item()))\n",
    "\n",
    "optimizer = torch.optim.Adam(model.parameters())\n",
    "\n",
    "loss = train_one_epoch(model, loss_fn, optimizer, train_loader)\n",
    "print(f\"Total training loss: {loss}\")"
   ]
  },
  {
   "cell_type": "code",
   "execution_count": 127,
   "metadata": {},
   "outputs": [],
   "source": [
    "# Initialize the best validation loss\n",
    "best_vloss = float('inf')  # Positive infinity to ensure the first validation loss is always better\n",
    "best_cnn_drop = {}\n",
    "\n",
    "\n",
    "for index, network in enumerate(networks):\n",
    "    num_conv_layers = network['num_conv_layers']  # Number of convolutional layers\n",
    "    num_filters = network['num_filters']  # Number of filters in each convolutional layer\n",
    "    output_size = network['output_size']  # Output size for classification\n",
    "    \n",
    "    # Create an instance of MyCNN with the specified architecture\n",
    "    model = CNNDropout(num_conv_layers, num_filters, output_size).to(device)\n",
    "\n",
    "    loss_fn = torch.nn.CrossEntropyLoss()\n",
    "    optimizer = torch.optim.Adam(model.parameters())\n",
    "\n",
    "    MAX_EPOCHS = 15\n",
    "    K_EPOCHS = 5\n",
    "    \n",
    "    epochs = []\n",
    "    train_loss = []\n",
    "    validation_loss = []\n",
    "    epochs_from_best = 0\n",
    "\n",
    "    for epoch in range(MAX_EPOCHS):\n",
    "        model.train(True)\n",
    "    \n",
    "        # One training step\n",
    "        avg_loss = train_one_epoch(model, loss_fn, optimizer, train_loader)\n",
    "\n",
    "        model.train(False)\n",
    "    \n",
    "        # Validation performance\n",
    "        running_cum_vloss = 0.0\n",
    "        vcorrect = 0\n",
    "        for i, vdata in enumerate(val_loader):\n",
    "            vinputs, vlabels = vdata\n",
    "            with torch.no_grad():\n",
    "                voutputs = model(vinputs)\n",
    "                vloss = loss_fn(voutputs, vlabels)\n",
    "            running_cum_vloss += vloss * vinputs.shape[0]\n",
    "            # count the correctly classified samples\n",
    "            vcorrect += (voutputs.argmax(1) == vlabels).float().sum()\n",
    "        # Get average loss and accuracy\n",
    "        avg_vloss = running_cum_vloss / len(val_dataset)\n",
    "        vacc = vcorrect / len(val_dataset)\n",
    "\n",
    "        # Save the model if the validation loss improves\n",
    "        if avg_vloss < best_vloss:\n",
    "            best_vloss = avg_vloss\n",
    "            model_path = f\"saves/best_model_cnn_drop.pt\"  # Save models with different output sizes separately\n",
    "            torch.save(model.state_dict(), model_path)\n",
    "            best_cnn_drop[index] = round(best_vloss.item(), 3)\n",
    "            epochs_from_best = 0\n",
    "        else:\n",
    "            epochs_from_best += 1\n",
    "            \n",
    "        # EARLY STOPPING\n",
    "        if epochs_from_best > K_EPOCHS:\n",
    "            break"
   ]
  },
  {
   "cell_type": "code",
   "execution_count": 128,
   "metadata": {},
   "outputs": [
    {
     "name": "stdout",
     "output_type": "stream",
     "text": [
      "{0: 0.37, 1: 0.338, 2: 0.316}\n",
      "{'num_conv_layers': 4, 'num_filters': [64, 128, 256, 512], 'output_size': 20}\n",
      "0.316\n"
     ]
    },
    {
     "data": {
      "text/plain": [
       "<All keys matched successfully>"
      ]
     },
     "execution_count": 128,
     "metadata": {},
     "output_type": "execute_result"
    }
   ],
   "source": [
    "print(best_cnn_drop)\n",
    "index = min(best_cnn_drop, key=best_cnn_drop.get)\n",
    "print(networks[index])\n",
    "print(best_cnn_drop[index])\n",
    "\n",
    "model_path = \"saves/best_model_cnn_drop.pt\"\n",
    "# načteme nejlepší model\n",
    "model_cnn_drop = CNNDropout(num_conv_layers = networks[index]['num_conv_layers'],\n",
    "                 num_filters = networks[index]['num_filters'], \n",
    "                 output_size = networks[index]['output_size']).to(device)\n",
    "    \n",
    "# Load the model's state dictionary\n",
    "model_cnn_drop.load_state_dict(torch.load(model_path))"
   ]
  },
  {
   "cell_type": "code",
   "execution_count": 129,
   "metadata": {},
   "outputs": [
    {
     "name": "stdout",
     "output_type": "stream",
     "text": [
      "tensor([ True,  True,  True,  True,  True,  True,  True,  True,  True,  True,\n",
      "         True, False,  True,  True,  True,  True,  True,  True,  True,  True,\n",
      "         True,  True,  True,  True,  True,  True,  True,  True,  True,  True,\n",
      "        False,  True,  True,  True,  True,  True,  True,  True,  True,  True,\n",
      "         True,  True,  True,  True,  True,  True,  True, False,  True, False,\n",
      "         True, False,  True,  True,  True, False,  True,  True,  True,  True,\n",
      "         True,  True,  True,  True], device='cuda:0')\n",
      "tensor([8, 4, 4, 4, 1, 4, 9, 7, 2, 7, 0, 4, 1, 1, 2, 7, 7, 7, 8, 9, 7, 8, 8, 0,\n",
      "        1, 4, 1, 5, 0, 8, 2, 7, 6, 5, 1, 1, 4, 4, 1, 5, 9, 1, 4, 0, 9, 4, 9, 6,\n",
      "        3, 4, 3, 7, 0, 3, 8, 0, 2, 1, 3, 0, 0, 0, 0, 7], device='cuda:0')\n",
      "tensor([8, 4, 4, 4, 1, 4, 9, 7, 2, 7, 0, 4, 1, 1, 2, 7, 7, 7, 8, 9, 7, 8, 8, 0,\n",
      "        1, 4, 1, 5, 0, 8, 4, 7, 6, 5, 1, 1, 4, 4, 1, 5, 9, 1, 4, 0, 9, 4, 9, 6,\n",
      "        3, 3, 3, 7, 0, 3, 8, 0, 2, 1, 3, 3, 6, 0, 6, 7], device='cuda:0')\n"
     ]
    }
   ],
   "source": [
    "with torch.no_grad():\n",
    "    print(model_cnn_drop(pixels).argmax(1) == labels.flatten())\n",
    "    print(model_cnn_drop(pixels).argmax(1))\n",
    "\n",
    "print(labels.flatten())"
   ]
  },
  {
   "cell_type": "code",
   "execution_count": 130,
   "metadata": {},
   "outputs": [
    {
     "name": "stdout",
     "output_type": "stream",
     "text": [
      "Validacni přesnost: 0.8737142857142857\n",
      "[[ 921    0   19   37    1    0   90    0   12    0]\n",
      " [   1 1070    0   17    1    0    0    0    2    1]\n",
      " [  13    3  839   10  102    0   63    0    6    0]\n",
      " [  42    5   17  899   27    0   22    0    2    0]\n",
      " [   3    3  100   55  755    0   70    0    3    0]\n",
      " [   0    0    0    0    0 1004    0   48    6   22]\n",
      " [ 178    1   77   39  103    0  622    0    9    0]\n",
      " [   0    0    0    0    0   16    0  994    1   31]\n",
      " [   7    0    4    3    0    3    3    2 1063    0]\n",
      " [   0    1    0    3    0    2    0   37    3 1007]]\n"
     ]
    }
   ],
   "source": [
    "from sklearn.metrics import accuracy_score\n",
    "\n",
    "val_predictions = np.zeros(len(val_loader.dataset))\n",
    "val_y = np.zeros(len(val_loader.dataset))\n",
    "ii = 0\n",
    "for vdata in val_loader:\n",
    "    vinputs, vlabels = vdata\n",
    "    with torch.no_grad():\n",
    "        voutputs = model_cnn_drop(vinputs)\n",
    "        vloss = loss_fn(voutputs, vlabels)\n",
    "    val_predictions[ii:(ii + vinputs.shape[0])] = voutputs.argmax(1).cpu().numpy()\n",
    "    val_y[ii:(ii + vinputs.shape[0])] = vlabels.cpu().numpy()\n",
    "\n",
    "    ii += vinputs.shape[0]\n",
    "    \n",
    "print(f\"Validacni přesnost: {accuracy_score(val_y, val_predictions)}\")\n",
    "\n",
    "# Confusion matrix\n",
    "from sklearn.metrics import confusion_matrix\n",
    "cnf_matrix = confusion_matrix(val_y, val_predictions)\n",
    "print(cnf_matrix)\n",
    "\n",
    "accuracy['CNN'].append(round(accuracy_score(val_y, val_predictions),6))"
   ]
  },
  {
   "cell_type": "code",
   "execution_count": 131,
   "metadata": {},
   "outputs": [
    {
     "data": {
      "text/plain": [
       "{'MLP': [0.840476,\n",
       "  0.837238,\n",
       "  0.836857,\n",
       "  0.819905,\n",
       "  0.802571,\n",
       "  0.736952,\n",
       "  0.856381,\n",
       "  0.843714],\n",
       " 'CNN': [0.883429, 0.882286, 0.893524, 0.873714]}"
      ]
     },
     "execution_count": 131,
     "metadata": {},
     "output_type": "execute_result"
    }
   ],
   "source": [
    "accuracy"
   ]
  },
  {
   "cell_type": "markdown",
   "metadata": {},
   "source": [
    "Dostal jsem nižší přesnost při využití dropout regularizaci, ale ona je stále vysoká"
   ]
  },
  {
   "cell_type": "markdown",
   "metadata": {},
   "source": [
    "#### II(c). Dropout + L1reg"
   ]
  },
  {
   "cell_type": "markdown",
   "metadata": {},
   "source": [
    "Zkusím kombinaci Dropout a L1 regularizaci. Podívám se, co z toho vyjde"
   ]
  },
  {
   "cell_type": "code",
   "execution_count": 132,
   "metadata": {},
   "outputs": [
    {
     "name": "stdout",
     "output_type": "stream",
     "text": [
      "torch.Size([64, 1, 32, 32])\n",
      "torch.Size([64])\n"
     ]
    }
   ],
   "source": [
    "dataiter = iter(train_loader)\n",
    "pixels, labels = next(dataiter)\n",
    "batch = next(dataiter)\n",
    "\n",
    "print(pixels.shape)\n",
    "print(labels.shape)"
   ]
  },
  {
   "cell_type": "code",
   "execution_count": 133,
   "metadata": {},
   "outputs": [
    {
     "name": "stdout",
     "output_type": "stream",
     "text": [
      "Total loss for this batch: 20.729663848876953\n"
     ]
    }
   ],
   "source": [
    "model = CNNDropout(2, [16,32], 10).to(device)\n",
    "outputs = model(pixels)\n",
    "\n",
    "loss_fn = torch.nn.CrossEntropyLoss()\n",
    "loss = loss_fn(outputs, labels)\n",
    "print('Total loss for this batch: {}'.format(loss.item()))\n",
    "\n",
    "optimizer = torch.optim.Adam(model.parameters())"
   ]
  },
  {
   "cell_type": "markdown",
   "metadata": {},
   "source": [
    "Jako u dopředné neuronové síti změním trénovácí funkci s využitím L1 regularizaci"
   ]
  },
  {
   "cell_type": "code",
   "execution_count": 134,
   "metadata": {},
   "outputs": [],
   "source": [
    "def train_one_epoch_l1reg(model, loss_fn, optimizer, train_loader, l1_lambda=0.1):\n",
    "    running_cum_loss = 0.0\n",
    "    total_samples = len(train_loader.dataset)\n",
    "\n",
    "    for i, data in enumerate(train_loader):\n",
    "        inputs, labels = data\n",
    "    \n",
    "        optimizer.zero_grad()\n",
    "        outputs = model(inputs)\n",
    "        loss = loss_fn(outputs, labels)\n",
    "\n",
    "        l1_reg = torch.tensor(0., device='cuda:0')\n",
    "        l1_reg += torch.linalg.vector_norm(model.fc.weight.flatten(),1)\n",
    "\n",
    "        loss = loss + l1_lambda*l1_reg\n",
    "\n",
    "        loss.backward()\n",
    "        optimizer.step()\n",
    "\n",
    "        running_cum_loss += loss.item()\n",
    "\n",
    "    # Calculate the average loss across all batches\n",
    "    average_loss = running_cum_loss / len(train_loader)\n",
    "\n",
    "    return average_loss"
   ]
  },
  {
   "cell_type": "code",
   "execution_count": 135,
   "metadata": {},
   "outputs": [
    {
     "name": "stdout",
     "output_type": "stream",
     "text": [
      "Total training loss: 4.14905073724944\n"
     ]
    }
   ],
   "source": [
    "loss = train_one_epoch_l1reg(model, loss_fn, optimizer, train_loader)\n",
    "print(f\"Total training loss: {loss}\")"
   ]
  },
  {
   "cell_type": "code",
   "execution_count": 136,
   "metadata": {},
   "outputs": [],
   "source": [
    "# Initialize the best validation loss\n",
    "best_vloss = float('inf')  # Positive infinity to ensure the first validation loss is always better\n",
    "best_cnn_drop_l1reg = {}\n",
    "\n",
    "\n",
    "for index, network in enumerate(networks):\n",
    "    num_conv_layers = network['num_conv_layers']  # Number of convolutional layers\n",
    "    num_filters = network['num_filters']  # Number of filters in each convolutional layer\n",
    "    output_size = network['output_size']  # Output size for classification\n",
    "    \n",
    "    # Create an instance of MyCNN with the specified architecture\n",
    "    model = CNNDropout(num_conv_layers, num_filters, output_size).to(device)\n",
    "\n",
    "    loss_fn = torch.nn.CrossEntropyLoss()\n",
    "    optimizer = torch.optim.Adam(model.parameters())\n",
    "\n",
    "    MAX_EPOCHS = 15\n",
    "    K_EPOCHS = 5\n",
    "    \n",
    "    epochs = []\n",
    "    train_loss = []\n",
    "    validation_loss = []\n",
    "    epochs_from_best = 0\n",
    "\n",
    "    for epoch in range(MAX_EPOCHS):\n",
    "        model.train(True)\n",
    "    \n",
    "        # One training step\n",
    "        avg_loss = train_one_epoch_l1reg(model, loss_fn, optimizer, train_loader)\n",
    "\n",
    "        model.train(False)\n",
    "    \n",
    "        # Validation performance\n",
    "        running_cum_vloss = 0.0\n",
    "        vcorrect = 0\n",
    "        for i, vdata in enumerate(val_loader):\n",
    "            vinputs, vlabels = vdata\n",
    "            with torch.no_grad():\n",
    "                voutputs = model(vinputs)\n",
    "                vloss = loss_fn(voutputs, vlabels)\n",
    "            running_cum_vloss += vloss * vinputs.shape[0]\n",
    "            # count the correctly classified samples\n",
    "            vcorrect += (voutputs.argmax(1) == vlabels).float().sum()\n",
    "        # Get average loss and accuracy\n",
    "        avg_vloss = running_cum_vloss / len(val_dataset)\n",
    "        vacc = vcorrect / len(val_dataset)\n",
    "\n",
    "        # Save the model if the validation loss improves\n",
    "        if avg_vloss < best_vloss:\n",
    "            best_vloss = avg_vloss\n",
    "            model_path = f\"saves/best_model_cnn_drop_l1reg.pt\"  # Save models with different output sizes separately\n",
    "            torch.save(model.state_dict(), model_path)\n",
    "            best_cnn_drop_l1reg[index] = round(best_vloss.item(), 3)\n",
    "            epochs_from_best = 0\n",
    "        else:\n",
    "            epochs_from_best += 1\n",
    "            \n",
    "        # EARLY STOPPING\n",
    "        if epochs_from_best > K_EPOCHS:\n",
    "            break"
   ]
  },
  {
   "cell_type": "code",
   "execution_count": 137,
   "metadata": {},
   "outputs": [
    {
     "name": "stdout",
     "output_type": "stream",
     "text": [
      "{0: 0.569, 1: 0.396, 2: 0.338}\n",
      "{'num_conv_layers': 4, 'num_filters': [64, 128, 256, 512], 'output_size': 20}\n",
      "0.338\n"
     ]
    },
    {
     "data": {
      "text/plain": [
       "<All keys matched successfully>"
      ]
     },
     "execution_count": 137,
     "metadata": {},
     "output_type": "execute_result"
    }
   ],
   "source": [
    "print(best_cnn_drop_l1reg)\n",
    "index = min(best_cnn_drop_l1reg, key=best_cnn_drop_l1reg.get)\n",
    "print(networks[index])\n",
    "print(best_cnn_drop_l1reg[index])\n",
    "\n",
    "model_path = \"saves/best_model_cnn_drop_l1reg.pt\"\n",
    "# načteme nejlepší model\n",
    "model_cnn_drop_l1reg = CNNDropout(num_conv_layers = networks[index]['num_conv_layers'],\n",
    "                 num_filters = networks[index]['num_filters'], \n",
    "                 output_size = networks[index]['output_size']).to(device)\n",
    "    \n",
    "# Load the model's state dictionary\n",
    "model_cnn_drop_l1reg.load_state_dict(torch.load(model_path))"
   ]
  },
  {
   "cell_type": "code",
   "execution_count": 138,
   "metadata": {},
   "outputs": [
    {
     "name": "stdout",
     "output_type": "stream",
     "text": [
      "tensor([ True,  True,  True,  True,  True,  True,  True, False, False,  True,\n",
      "        False,  True,  True,  True,  True, False,  True,  True,  True,  True,\n",
      "         True,  True,  True,  True,  True,  True,  True,  True,  True,  True,\n",
      "         True,  True,  True,  True,  True, False,  True,  True,  True,  True,\n",
      "         True,  True,  True,  True,  True,  True,  True,  True,  True,  True,\n",
      "         True,  True,  True,  True,  True,  True,  True,  True,  True,  True,\n",
      "         True, False,  True,  True], device='cuda:0')\n",
      "tensor([4, 2, 7, 4, 0, 3, 2, 3, 2, 7, 7, 6, 9, 8, 8, 2, 7, 3, 8, 8, 1, 4, 1, 5,\n",
      "        2, 8, 4, 6, 5, 7, 8, 4, 8, 3, 2, 2, 5, 0, 8, 9, 1, 0, 6, 0, 0, 4, 9, 1,\n",
      "        9, 5, 9, 0, 5, 9, 3, 0, 1, 2, 8, 6, 4, 6, 2, 8], device='cuda:0')\n",
      "tensor([4, 2, 7, 4, 0, 3, 2, 0, 4, 7, 5, 6, 9, 8, 8, 2, 7, 3, 8, 8, 1, 4, 1, 5,\n",
      "        2, 8, 4, 6, 5, 7, 8, 4, 8, 3, 2, 2, 5, 0, 8, 9, 1, 0, 6, 0, 0, 4, 9, 1,\n",
      "        9, 5, 9, 0, 5, 9, 3, 0, 1, 2, 8, 6, 4, 0, 2, 8], device='cuda:0')\n"
     ]
    }
   ],
   "source": [
    "with torch.no_grad():\n",
    "    print(model_cnn_drop_l1reg(pixels).argmax(1) == labels.flatten())\n",
    "    print(model_cnn_drop_l1reg(pixels).argmax(1))\n",
    "\n",
    "print(labels.flatten())"
   ]
  },
  {
   "cell_type": "code",
   "execution_count": 139,
   "metadata": {},
   "outputs": [
    {
     "name": "stdout",
     "output_type": "stream",
     "text": [
      "Validacni přesnost: 0.8730476190476191\n",
      "[[ 894    4   12   62    1    2  101    0    4    0]\n",
      " [   1 1079    0   10    0    0    2    0    0    0]\n",
      " [  23    4  798   12  102    0   86    1   10    0]\n",
      " [  23   16    8  923   19    0   22    0    3    0]\n",
      " [   5    5   74   64  738    0   94    0    9    0]\n",
      " [   1    0    0    0    0 1044    0   28    3    4]\n",
      " [ 154    8   64   43   69    1  682    1    7    0]\n",
      " [   0    0    0    0    0   46    0  987    1    8]\n",
      " [   2    1    2    8    1    9    9    3 1047    3]\n",
      " [   0    1    0    0    0   12    0   65    0  975]]\n"
     ]
    }
   ],
   "source": [
    "from sklearn.metrics import accuracy_score\n",
    "\n",
    "val_predictions = np.zeros(len(val_loader.dataset))\n",
    "val_y = np.zeros(len(val_loader.dataset))\n",
    "ii = 0\n",
    "for vdata in val_loader:\n",
    "    vinputs, vlabels = vdata\n",
    "    with torch.no_grad():\n",
    "        voutputs = model_cnn_drop_l1reg(vinputs)\n",
    "        vloss = loss_fn(voutputs, vlabels)\n",
    "    val_predictions[ii:(ii + vinputs.shape[0])] = voutputs.argmax(1).cpu().numpy()\n",
    "    val_y[ii:(ii + vinputs.shape[0])] = vlabels.cpu().numpy()\n",
    "\n",
    "    ii += vinputs.shape[0]\n",
    "    \n",
    "print(f\"Validacni přesnost: {accuracy_score(val_y, val_predictions)}\")\n",
    "\n",
    "# Confusion matrix\n",
    "from sklearn.metrics import confusion_matrix\n",
    "cnf_matrix = confusion_matrix(val_y, val_predictions)\n",
    "print(cnf_matrix)\n",
    "\n",
    "accuracy['CNN'].append(round(accuracy_score(val_y, val_predictions),6))"
   ]
  },
  {
   "cell_type": "markdown",
   "metadata": {},
   "source": [
    "Přesnost se trochu zmenšila, tedy zkusím jiné metody"
   ]
  },
  {
   "cell_type": "code",
   "execution_count": 140,
   "metadata": {},
   "outputs": [
    {
     "data": {
      "text/plain": [
       "{'MLP': [0.840476,\n",
       "  0.837238,\n",
       "  0.836857,\n",
       "  0.819905,\n",
       "  0.802571,\n",
       "  0.736952,\n",
       "  0.856381,\n",
       "  0.843714],\n",
       " 'CNN': [0.883429, 0.882286, 0.893524, 0.873714, 0.873048]}"
      ]
     },
     "execution_count": 140,
     "metadata": {},
     "output_type": "execute_result"
    }
   ],
   "source": [
    "accuracy"
   ]
  },
  {
   "cell_type": "markdown",
   "metadata": {},
   "source": [
    "#### II(c). Dropout + L2reg"
   ]
  },
  {
   "cell_type": "markdown",
   "metadata": {},
   "source": [
    "Zkusím ted kombinaci Dropout + L2 regularizaci"
   ]
  },
  {
   "cell_type": "code",
   "execution_count": 141,
   "metadata": {},
   "outputs": [
    {
     "name": "stdout",
     "output_type": "stream",
     "text": [
      "torch.Size([64, 1, 32, 32])\n",
      "torch.Size([64])\n"
     ]
    }
   ],
   "source": [
    "dataiter = iter(train_loader)\n",
    "pixels, labels = next(dataiter)\n",
    "batch = next(dataiter)\n",
    "\n",
    "print(pixels.shape)\n",
    "print(labels.shape)"
   ]
  },
  {
   "cell_type": "code",
   "execution_count": 142,
   "metadata": {},
   "outputs": [
    {
     "name": "stdout",
     "output_type": "stream",
     "text": [
      "Total loss for this batch: 15.132769584655762\n"
     ]
    }
   ],
   "source": [
    "model = CNNDropout(2, [16,32], 10).to(device)\n",
    "outputs = model(pixels)\n",
    "\n",
    "loss_fn = torch.nn.CrossEntropyLoss()\n",
    "loss = loss_fn(outputs, labels)\n",
    "print('Total loss for this batch: {}'.format(loss.item()))\n",
    "\n",
    "optimizer = torch.optim.Adam(model.parameters())"
   ]
  },
  {
   "cell_type": "markdown",
   "metadata": {},
   "source": [
    "Přepísu trochu trénovácí funkci s vuyžitím L2 regularizaci"
   ]
  },
  {
   "cell_type": "code",
   "execution_count": 143,
   "metadata": {},
   "outputs": [],
   "source": [
    "def train_one_epoch_l2reg(model, loss_fn, optimizer, train_loader, l2_lambda=0.1):\n",
    "    running_cum_loss = 0.0\n",
    "    total_samples = len(train_loader.dataset)\n",
    "\n",
    "    for i, data in enumerate(train_loader):\n",
    "        inputs, labels = data\n",
    "    \n",
    "        optimizer.zero_grad()\n",
    "        outputs = model(inputs)\n",
    "        loss = loss_fn(outputs, labels)\n",
    "\n",
    "        # Calculate L2 regularization term\n",
    "        l2_reg = torch.tensor(0., device='cuda:0')\n",
    "        for param in model.parameters():\n",
    "            l2_reg += torch.norm(param, 2)**2\n",
    "        \n",
    "        # Add L2 regularization term to the loss\n",
    "        loss += 0.5 * l2_lambda * l2_reg\n",
    "\n",
    "        loss.backward()\n",
    "        optimizer.step()\n",
    "\n",
    "        running_cum_loss += loss.item()\n",
    "\n",
    "    # Calculate the average loss across all batches\n",
    "    average_loss = running_cum_loss / len(train_loader)\n",
    "\n",
    "    return average_loss"
   ]
  },
  {
   "cell_type": "code",
   "execution_count": 144,
   "metadata": {},
   "outputs": [
    {
     "name": "stdout",
     "output_type": "stream",
     "text": [
      "Total training loss: 1.4635184818300708\n"
     ]
    }
   ],
   "source": [
    "loss = train_one_epoch_l2reg(model, loss_fn, optimizer, train_loader)\n",
    "print(f\"Total training loss: {loss}\")"
   ]
  },
  {
   "cell_type": "code",
   "execution_count": 145,
   "metadata": {},
   "outputs": [],
   "source": [
    "# Initialize the best validation loss\n",
    "best_vloss = float('inf')  # Positive infinity to ensure the first validation loss is always better\n",
    "best_cnn_drop_l2reg = {}\n",
    "\n",
    "\n",
    "for index, network in enumerate(networks):\n",
    "    num_conv_layers = network['num_conv_layers']  # Number of convolutional layers\n",
    "    num_filters = network['num_filters']  # Number of filters in each convolutional layer\n",
    "    output_size = network['output_size']  # Output size for classification\n",
    "    \n",
    "    # Create an instance of MyCNN with the specified architecture\n",
    "    model = CNNDropout(num_conv_layers, num_filters, output_size).to(device)\n",
    "\n",
    "    loss_fn = torch.nn.CrossEntropyLoss()\n",
    "    optimizer = torch.optim.Adam(model.parameters())\n",
    "\n",
    "    MAX_EPOCHS = 15\n",
    "    K_EPOCHS = 5\n",
    "    \n",
    "    epochs = []\n",
    "    train_loss = []\n",
    "    validation_loss = []\n",
    "    epochs_from_best = 0\n",
    "\n",
    "    for epoch in range(MAX_EPOCHS):\n",
    "        model.train(True)\n",
    "    \n",
    "        # One training step\n",
    "        avg_loss = train_one_epoch_l2reg(model, loss_fn, optimizer, train_loader)\n",
    "\n",
    "        model.train(False)\n",
    "    \n",
    "        # Validation performance\n",
    "        running_cum_vloss = 0.0\n",
    "        vcorrect = 0\n",
    "        for i, vdata in enumerate(val_loader):\n",
    "            vinputs, vlabels = vdata\n",
    "            with torch.no_grad():\n",
    "                voutputs = model(vinputs)\n",
    "                vloss = loss_fn(voutputs, vlabels)\n",
    "            running_cum_vloss += vloss * vinputs.shape[0]\n",
    "            # count the correctly classified samples\n",
    "            vcorrect += (voutputs.argmax(1) == vlabels).float().sum()\n",
    "        # Get average loss and accuracy\n",
    "        avg_vloss = running_cum_vloss / len(val_dataset)\n",
    "        vacc = vcorrect / len(val_dataset)\n",
    "\n",
    "        # Save the model if the validation loss improves\n",
    "        if avg_vloss < best_vloss:\n",
    "            best_vloss = avg_vloss\n",
    "            model_path = f\"saves/best_model_cnn_drop_l2reg.pt\"  # Save models with different output sizes separately\n",
    "            torch.save(model.state_dict(), model_path)\n",
    "            best_cnn_drop_l2reg[index] = round(best_vloss.item(), 3)\n",
    "            epochs_from_best = 0\n",
    "        else:\n",
    "            epochs_from_best += 1\n",
    "            \n",
    "        # EARLY STOPPING\n",
    "        if epochs_from_best > K_EPOCHS:\n",
    "            break"
   ]
  },
  {
   "cell_type": "code",
   "execution_count": 146,
   "metadata": {},
   "outputs": [
    {
     "name": "stdout",
     "output_type": "stream",
     "text": [
      "{0: 0.423}\n",
      "{'num_conv_layers': 2, 'num_filters': [16, 32], 'output_size': 10}\n",
      "0.423\n"
     ]
    },
    {
     "data": {
      "text/plain": [
       "<All keys matched successfully>"
      ]
     },
     "execution_count": 146,
     "metadata": {},
     "output_type": "execute_result"
    }
   ],
   "source": [
    "print(best_cnn_drop_l2reg)\n",
    "index = min(best_cnn_drop_l2reg, key=best_cnn_drop_l2reg.get)\n",
    "print(networks[index])\n",
    "print(best_cnn_drop_l2reg[index])\n",
    "\n",
    "model_path = \"saves/best_model_cnn_drop_l2reg.pt\"\n",
    "# načteme nejlepší model\n",
    "model_cnn_drop_l2reg = CNNDropout(num_conv_layers = networks[index]['num_conv_layers'],\n",
    "                 num_filters = networks[index]['num_filters'], \n",
    "                 output_size = networks[index]['output_size']).to(device)\n",
    "    \n",
    "# Load the model's state dictionary\n",
    "model_cnn_drop_l2reg.load_state_dict(torch.load(model_path))"
   ]
  },
  {
   "cell_type": "code",
   "execution_count": 147,
   "metadata": {},
   "outputs": [
    {
     "name": "stdout",
     "output_type": "stream",
     "text": [
      "tensor([ True,  True,  True, False,  True, False,  True,  True,  True,  True,\n",
      "         True,  True,  True,  True,  True, False,  True,  True,  True,  True,\n",
      "        False,  True, False,  True, False,  True,  True,  True, False,  True,\n",
      "        False, False,  True,  True,  True, False,  True,  True,  True,  True,\n",
      "         True,  True, False,  True,  True,  True,  True,  True,  True,  True,\n",
      "        False,  True,  True,  True,  True, False,  True,  True,  True,  True,\n",
      "         True,  True,  True,  True], device='cuda:0')\n",
      "tensor([1, 9, 9, 0, 4, 6, 8, 5, 4, 8, 7, 5, 2, 6, 2, 2, 4, 7, 0, 9, 3, 3, 0, 5,\n",
      "        7, 0, 0, 2, 6, 2, 0, 8, 6, 4, 9, 4, 6, 7, 5, 4, 3, 1, 3, 8, 9, 7, 7, 5,\n",
      "        5, 2, 7, 7, 3, 4, 4, 5, 1, 0, 5, 0, 5, 6, 7, 7], device='cuda:0')\n",
      "tensor([1, 9, 9, 6, 4, 2, 8, 5, 4, 8, 7, 5, 2, 6, 4, 6, 4, 7, 0, 9, 4, 3, 6, 5,\n",
      "        5, 0, 0, 2, 0, 2, 6, 4, 6, 4, 9, 2, 6, 7, 5, 6, 3, 1, 0, 8, 9, 7, 7, 5,\n",
      "        5, 2, 9, 7, 3, 4, 4, 5, 1, 0, 5, 0, 5, 6, 7, 7], device='cuda:0')\n"
     ]
    }
   ],
   "source": [
    "with torch.no_grad():\n",
    "    print(model_cnn_drop_l2reg(pixels).argmax(1) == labels.flatten())\n",
    "    print(model_cnn_drop_l2reg(pixels).argmax(1))\n",
    "\n",
    "print(labels.flatten())"
   ]
  },
  {
   "cell_type": "code",
   "execution_count": 148,
   "metadata": {},
   "outputs": [
    {
     "name": "stdout",
     "output_type": "stream",
     "text": [
      "Validacni přesnost: 0.8455238095238096\n",
      "[[ 907    2   13   72    9    4   64    0    9    0]\n",
      " [   0 1055    2   25    4    0    5    0    1    0]\n",
      " [  18    1  813   16  121    0   40    0   27    0]\n",
      " [  38   12   13  885   47    0   13    0    4    2]\n",
      " [   3    1   85   49  767    0   79    0    5    0]\n",
      " [   0    0    0    1    0 1031    0   32    9    7]\n",
      " [ 226    3  100   46  119    2  506    0   27    0]\n",
      " [   0    0    0    0    0   77    0  909    6   50]\n",
      " [  10    1    3   11    6   11    4    2 1036    1]\n",
      " [   1    0    1    3    3   23    0   37   16  969]]\n"
     ]
    }
   ],
   "source": [
    "from sklearn.metrics import accuracy_score\n",
    "\n",
    "val_predictions = np.zeros(len(val_loader.dataset))\n",
    "val_y = np.zeros(len(val_loader.dataset))\n",
    "ii = 0\n",
    "for vdata in val_loader:\n",
    "    vinputs, vlabels = vdata\n",
    "    with torch.no_grad():\n",
    "        voutputs = model_cnn_drop_l2reg(vinputs)\n",
    "        vloss = loss_fn(voutputs, vlabels)\n",
    "    val_predictions[ii:(ii + vinputs.shape[0])] = voutputs.argmax(1).cpu().numpy()\n",
    "    val_y[ii:(ii + vinputs.shape[0])] = vlabels.cpu().numpy()\n",
    "\n",
    "    ii += vinputs.shape[0]\n",
    "    \n",
    "print(f\"Validacni přesnost: {accuracy_score(val_y, val_predictions)}\")\n",
    "\n",
    "# Confusion matrix\n",
    "from sklearn.metrics import confusion_matrix\n",
    "cnf_matrix = confusion_matrix(val_y, val_predictions)\n",
    "print(cnf_matrix)\n",
    "\n",
    "accuracy['CNN'].append(round(accuracy_score(val_y, val_predictions),6))"
   ]
  },
  {
   "cell_type": "markdown",
   "metadata": {},
   "source": [
    "Bohužel, dostal jsem přesnost jako u dopředných neuronových sítí"
   ]
  },
  {
   "cell_type": "code",
   "execution_count": 149,
   "metadata": {},
   "outputs": [
    {
     "data": {
      "text/plain": [
       "{'MLP': [0.840476,\n",
       "  0.837238,\n",
       "  0.836857,\n",
       "  0.819905,\n",
       "  0.802571,\n",
       "  0.736952,\n",
       "  0.856381,\n",
       "  0.843714],\n",
       " 'CNN': [0.883429, 0.882286, 0.893524, 0.873714, 0.873048, 0.845524]}"
      ]
     },
     "execution_count": 149,
     "metadata": {},
     "output_type": "execute_result"
    }
   ],
   "source": [
    "accuracy"
   ]
  },
  {
   "cell_type": "markdown",
   "metadata": {},
   "source": [
    "#### II(c). SGD"
   ]
  },
  {
   "cell_type": "markdown",
   "metadata": {},
   "source": [
    "Podívám se, jak SGD optimizer ovlivnuje modely"
   ]
  },
  {
   "cell_type": "code",
   "execution_count": 150,
   "metadata": {},
   "outputs": [
    {
     "name": "stdout",
     "output_type": "stream",
     "text": [
      "torch.Size([64, 1, 32, 32])\n",
      "torch.Size([64])\n"
     ]
    }
   ],
   "source": [
    "dataiter = iter(train_loader)\n",
    "pixels, labels = next(dataiter)\n",
    "batch = next(dataiter)\n",
    "\n",
    "print(pixels.shape)\n",
    "print(labels.shape)"
   ]
  },
  {
   "cell_type": "code",
   "execution_count": 151,
   "metadata": {},
   "outputs": [
    {
     "name": "stdout",
     "output_type": "stream",
     "text": [
      "Total loss for this batch: 32.55213928222656\n",
      "Total training loss: 1.092496575164263\n"
     ]
    }
   ],
   "source": [
    "model = CNN(2, [16,32], 10).to(device)\n",
    "outputs = model(pixels)\n",
    "\n",
    "loss_fn = torch.nn.CrossEntropyLoss()\n",
    "loss = loss_fn(outputs, labels)\n",
    "print('Total loss for this batch: {}'.format(loss.item()))\n",
    "\n",
    "optimizer = torch.optim.SGD(model.parameters(), lr=0.001, momentum=0.9) \n",
    "\n",
    "loss = train_one_epoch(model, loss_fn, optimizer, train_loader)\n",
    "print(f\"Total training loss: {loss}\")"
   ]
  },
  {
   "cell_type": "code",
   "execution_count": 152,
   "metadata": {},
   "outputs": [],
   "source": [
    "# Initialize the best validation loss\n",
    "best_vloss = float('inf')  # Positive infinity to ensure the first validation loss is always better\n",
    "best_cnn_sgd = {}\n",
    "\n",
    "\n",
    "for index, network in enumerate(networks):\n",
    "    num_conv_layers = network['num_conv_layers']  # Number of convolutional layers\n",
    "    num_filters = network['num_filters']  # Number of filters in each convolutional layer\n",
    "    output_size = network['output_size']  # Output size for classification\n",
    "    \n",
    "    # Create an instance of MyCNN with the specified architecture\n",
    "    model = CNN(num_conv_layers, num_filters, output_size).to(device)\n",
    "\n",
    "    loss_fn = torch.nn.CrossEntropyLoss()\n",
    "    optimizer = torch.optim.SGD(model.parameters(), lr=0.001, momentum=0.9) \n",
    "\n",
    "    MAX_EPOCHS = 15\n",
    "    K_EPOCHS = 5\n",
    "    \n",
    "    epochs = []\n",
    "    train_loss = []\n",
    "    validation_loss = []\n",
    "    epochs_from_best = 0\n",
    "\n",
    "    for epoch in range(MAX_EPOCHS):\n",
    "        model.train(True)\n",
    "    \n",
    "        # One training step\n",
    "        avg_loss = train_one_epoch(model, loss_fn, optimizer, train_loader)\n",
    "\n",
    "        model.train(False)\n",
    "    \n",
    "        # Validation performance\n",
    "        running_cum_vloss = 0.0\n",
    "        vcorrect = 0\n",
    "        for i, vdata in enumerate(val_loader):\n",
    "            vinputs, vlabels = vdata\n",
    "            with torch.no_grad():\n",
    "                voutputs = model(vinputs)\n",
    "                vloss = loss_fn(voutputs, vlabels)\n",
    "            running_cum_vloss += vloss * vinputs.shape[0]\n",
    "            # count the correctly classified samples\n",
    "            vcorrect += (voutputs.argmax(1) == vlabels).float().sum()\n",
    "        # Get average loss and accuracy\n",
    "        avg_vloss = running_cum_vloss / len(val_dataset)\n",
    "        vacc = vcorrect / len(val_dataset)\n",
    "\n",
    "        # Save the model if the validation loss improves\n",
    "        if avg_vloss < best_vloss:\n",
    "            best_vloss = avg_vloss\n",
    "            model_path = f\"saves/best_model_cnn_sgd.pt\"  # Save models with different output sizes separately\n",
    "            torch.save(model.state_dict(), model_path)\n",
    "            best_cnn_sgd[index] = round(best_vloss.item(), 3)\n",
    "            epochs_from_best = 0\n",
    "        else:\n",
    "            epochs_from_best += 1\n",
    "            \n",
    "        # EARLY STOPPING\n",
    "        if epochs_from_best > K_EPOCHS:\n",
    "            break"
   ]
  },
  {
   "cell_type": "code",
   "execution_count": 153,
   "metadata": {},
   "outputs": [
    {
     "name": "stdout",
     "output_type": "stream",
     "text": [
      "{0: 0.401, 1: 0.35, 3: 0.308}\n",
      "{'num_conv_layers': 5, 'num_filters': [128, 256, 512, 512, 1024], 'output_size': 20}\n",
      "0.308\n"
     ]
    },
    {
     "data": {
      "text/plain": [
       "<All keys matched successfully>"
      ]
     },
     "execution_count": 153,
     "metadata": {},
     "output_type": "execute_result"
    }
   ],
   "source": [
    "print(best_cnn_sgd)\n",
    "index = min(best_cnn_sgd, key=best_cnn_sgd.get)\n",
    "print(networks[index])\n",
    "print(best_cnn_sgd[index])\n",
    "\n",
    "model_path = \"saves/best_model_cnn_sgd.pt\"\n",
    "# načteme nejlepší model\n",
    "model_cnn_sgd = CNN(num_conv_layers = networks[index]['num_conv_layers'],\n",
    "                 num_filters = networks[index]['num_filters'], \n",
    "                 output_size = networks[index]['output_size']).to(device)\n",
    "    \n",
    "# Load the model's state dictionary\n",
    "model_cnn_sgd.load_state_dict(torch.load(model_path))"
   ]
  },
  {
   "cell_type": "code",
   "execution_count": 154,
   "metadata": {},
   "outputs": [
    {
     "name": "stdout",
     "output_type": "stream",
     "text": [
      "tensor([ True,  True,  True,  True, False,  True,  True,  True,  True,  True,\n",
      "         True,  True,  True, False, False,  True,  True, False,  True,  True,\n",
      "         True,  True,  True,  True,  True,  True,  True,  True,  True,  True,\n",
      "         True,  True,  True,  True, False,  True,  True,  True, False, False,\n",
      "         True,  True,  True,  True,  True, False,  True,  True,  True,  True,\n",
      "         True,  True,  True,  True,  True,  True,  True,  True,  True,  True,\n",
      "         True,  True,  True,  True], device='cuda:0')\n",
      "tensor([1, 6, 3, 4, 6, 4, 3, 4, 2, 1, 0, 7, 5, 0, 0, 7, 8, 2, 4, 2, 8, 9, 7, 5,\n",
      "        4, 9, 9, 3, 3, 7, 2, 2, 4, 0, 0, 4, 8, 5, 4, 4, 6, 5, 0, 9, 7, 5, 0, 9,\n",
      "        9, 3, 9, 4, 5, 3, 0, 4, 2, 7, 3, 7, 0, 9, 0, 0], device='cuda:0')\n",
      "tensor([1, 6, 3, 4, 4, 4, 3, 4, 2, 1, 0, 7, 5, 6, 6, 7, 8, 4, 4, 2, 8, 9, 7, 5,\n",
      "        4, 9, 9, 3, 3, 7, 2, 2, 4, 0, 6, 4, 8, 5, 6, 2, 6, 5, 0, 9, 7, 7, 0, 9,\n",
      "        9, 3, 9, 4, 5, 3, 0, 4, 2, 7, 3, 7, 0, 9, 0, 0], device='cuda:0')\n"
     ]
    }
   ],
   "source": [
    "with torch.no_grad():\n",
    "    print(model_cnn_sgd(pixels).argmax(1) == labels.flatten())\n",
    "    print(model_cnn_sgd(pixels).argmax(1))\n",
    "\n",
    "print(labels.flatten())"
   ]
  },
  {
   "cell_type": "code",
   "execution_count": 155,
   "metadata": {},
   "outputs": [
    {
     "name": "stdout",
     "output_type": "stream",
     "text": [
      "Validacni přesnost: 0.8889523809523809\n",
      "[[ 940    0    8   51    2    0   76    0    3    0]\n",
      " [   4 1070    2   15    1    0    0    0    0    0]\n",
      " [  13    2  807   13  114    1   83    0    3    0]\n",
      " [  18    6    5  954   16    0   13    0    2    0]\n",
      " [   0    1   42   73  788    0   83    0    2    0]\n",
      " [   0    0    0    1    0 1060    0   17    0    2]\n",
      " [ 160    1   45   45   62    0  711    0    5    0]\n",
      " [   0    0    0    0    0   76    0  935    1   30]\n",
      " [   5    0    3   10    2    4    4    1 1056    0]\n",
      " [   0    1    0    1    0    9    0   29    0 1013]]\n"
     ]
    }
   ],
   "source": [
    "from sklearn.metrics import accuracy_score\n",
    "\n",
    "val_predictions = np.zeros(len(val_loader.dataset))\n",
    "val_y = np.zeros(len(val_loader.dataset))\n",
    "ii = 0\n",
    "for vdata in val_loader:\n",
    "    vinputs, vlabels = vdata\n",
    "    with torch.no_grad():\n",
    "        voutputs = model_cnn_sgd(vinputs)\n",
    "        vloss = loss_fn(voutputs, vlabels)\n",
    "    val_predictions[ii:(ii + vinputs.shape[0])] = voutputs.argmax(1).cpu().numpy()\n",
    "    val_y[ii:(ii + vinputs.shape[0])] = vlabels.cpu().numpy()\n",
    "\n",
    "    ii += vinputs.shape[0]\n",
    "    \n",
    "print(f\"Validacni přesnost: {accuracy_score(val_y, val_predictions)}\")\n",
    "\n",
    "# Confusion matrix\n",
    "from sklearn.metrics import confusion_matrix\n",
    "cnf_matrix = confusion_matrix(val_y, val_predictions)\n",
    "print(cnf_matrix)\n",
    "\n",
    "accuracy['CNN'].append(round(accuracy_score(val_y, val_predictions),6))"
   ]
  },
  {
   "cell_type": "code",
   "execution_count": 156,
   "metadata": {},
   "outputs": [
    {
     "data": {
      "text/plain": [
       "{'MLP': [0.840476,\n",
       "  0.837238,\n",
       "  0.836857,\n",
       "  0.819905,\n",
       "  0.802571,\n",
       "  0.736952,\n",
       "  0.856381,\n",
       "  0.843714],\n",
       " 'CNN': [0.883429, 0.882286, 0.893524, 0.873714, 0.873048, 0.845524, 0.888952]}"
      ]
     },
     "execution_count": 156,
     "metadata": {},
     "output_type": "execute_result"
    }
   ],
   "source": [
    "accuracy"
   ]
  },
  {
   "cell_type": "markdown",
   "metadata": {},
   "source": [
    "SGD optimizer má dobrý vliv na model konvoluční neuronové síti. Prozatím jsem se dostal nejvyšší přesnost predikcí"
   ]
  },
  {
   "cell_type": "markdown",
   "metadata": {},
   "source": [
    "#### II(c). Batch"
   ]
  },
  {
   "cell_type": "markdown",
   "metadata": {},
   "source": [
    "Ted chtěl bych si zkoušet model konvoluční neuronové síti s Batch normalizací a podívat se na jeho vliv"
   ]
  },
  {
   "cell_type": "code",
   "execution_count": 157,
   "metadata": {},
   "outputs": [],
   "source": [
    "class CNNBatch(nn.Module):\n",
    "    def __init__(self, num_conv_layers, num_filters, output_size):\n",
    "        super(CNNBatch, self).__init__()\n",
    "        self.conv_layers = nn.ModuleList([nn.Conv2d(in_channels=1 if i == 0 else num_filters[i - 1],\n",
    "                                                    out_channels=num_filters[i],\n",
    "                                                    kernel_size=3,\n",
    "                                                    stride=1,\n",
    "                                                    padding=1) for i in range(num_conv_layers)])\n",
    "        self.bn_layers = nn.ModuleList([nn.BatchNorm2d(num_filters[i]) for i in range(num_conv_layers)])\n",
    "        self.pool = nn.MaxPool2d(kernel_size=2, stride=2)\n",
    "        \n",
    "        # Calculate the size of the last convolutional layer's output\n",
    "        # based on the input size (32x32) and the number of conv layers\n",
    "        conv_output_size = 32 // (2 ** num_conv_layers)  # Formula for max pooling\n",
    "        self.fc = nn.Linear(num_filters[-1] * conv_output_size * conv_output_size, output_size)\n",
    "\n",
    "    def forward(self, x):\n",
    "        for i, (conv_layer, bn_layer) in enumerate(zip(self.conv_layers, self.bn_layers)):\n",
    "            x = conv_layer(x)\n",
    "            x = bn_layer(x)\n",
    "            x = F.relu(x)\n",
    "            x = self.pool(x)\n",
    "        x = x.view(x.size(0), -1)\n",
    "        x = self.fc(x)\n",
    "        return x"
   ]
  },
  {
   "cell_type": "code",
   "execution_count": 158,
   "metadata": {},
   "outputs": [
    {
     "name": "stdout",
     "output_type": "stream",
     "text": [
      "torch.Size([64, 1, 32, 32])\n",
      "torch.Size([64])\n"
     ]
    }
   ],
   "source": [
    "dataiter = iter(train_loader)\n",
    "pixels, labels = next(dataiter)\n",
    "batch = next(dataiter)\n",
    "\n",
    "print(pixels.shape)\n",
    "print(labels.shape)"
   ]
  },
  {
   "cell_type": "code",
   "execution_count": 159,
   "metadata": {},
   "outputs": [
    {
     "name": "stdout",
     "output_type": "stream",
     "text": [
      "Total loss for this batch: 2.631425619125366\n",
      "Total training loss: 0.5834839594291625\n"
     ]
    }
   ],
   "source": [
    "model = CNNBatch(2, [16,32], 10).to(device)\n",
    "outputs = model(pixels)\n",
    "\n",
    "loss_fn = torch.nn.CrossEntropyLoss()\n",
    "loss = loss_fn(outputs, labels)\n",
    "print('Total loss for this batch: {}'.format(loss.item()))\n",
    "\n",
    "optimizer = torch.optim.Adam(model.parameters())\n",
    "\n",
    "loss = train_one_epoch(model, loss_fn, optimizer, train_loader)\n",
    "print(f\"Total training loss: {loss}\")"
   ]
  },
  {
   "cell_type": "code",
   "execution_count": 160,
   "metadata": {},
   "outputs": [],
   "source": [
    "# Initialize the best validation loss\n",
    "best_vloss = float('inf')  # Positive infinity to ensure the first validation loss is always better\n",
    "best_cnn_batch = {}\n",
    "\n",
    "\n",
    "for index, network in enumerate(networks):\n",
    "    num_conv_layers = network['num_conv_layers']  # Number of convolutional layers\n",
    "    num_filters = network['num_filters']  # Number of filters in each convolutional layer\n",
    "    output_size = network['output_size']  # Output size for classification\n",
    "    \n",
    "    # Create an instance of MyCNN with the specified architecture\n",
    "    model = CNNBatch(num_conv_layers, num_filters, output_size).to(device)\n",
    "\n",
    "    loss_fn = torch.nn.CrossEntropyLoss()\n",
    "    optimizer = torch.optim.Adam(model.parameters())\n",
    "\n",
    "    MAX_EPOCHS = 15\n",
    "    K_EPOCHS = 5\n",
    "    \n",
    "    epochs = []\n",
    "    train_loss = []\n",
    "    validation_loss = []\n",
    "    epochs_from_best = 0\n",
    "\n",
    "    for epoch in range(MAX_EPOCHS):\n",
    "        model.train(True)\n",
    "    \n",
    "        # One training step\n",
    "        avg_loss = train_one_epoch(model, loss_fn, optimizer, train_loader)\n",
    "\n",
    "        model.train(False)\n",
    "    \n",
    "        # Validation performance\n",
    "        running_cum_vloss = 0.0\n",
    "        vcorrect = 0\n",
    "        for i, vdata in enumerate(val_loader):\n",
    "            vinputs, vlabels = vdata\n",
    "            with torch.no_grad():\n",
    "                voutputs = model(vinputs)\n",
    "                vloss = loss_fn(voutputs, vlabels)\n",
    "            running_cum_vloss += vloss * vinputs.shape[0]\n",
    "            # count the correctly classified samples\n",
    "            vcorrect += (voutputs.argmax(1) == vlabels).float().sum()\n",
    "        # Get average loss and accuracy\n",
    "        avg_vloss = running_cum_vloss / len(val_dataset)\n",
    "        vacc = vcorrect / len(val_dataset)\n",
    "\n",
    "        # Save the model if the validation loss improves\n",
    "        if avg_vloss < best_vloss:\n",
    "            best_vloss = avg_vloss\n",
    "            model_path = f\"saves/best_model_cnn_batch.pt\"  # Save models with different output sizes separately\n",
    "            torch.save(model.state_dict(), model_path)\n",
    "            best_cnn_batch[index] = round(best_vloss.item(), 3)\n",
    "            epochs_from_best = 0\n",
    "        else:\n",
    "            epochs_from_best += 1\n",
    "            \n",
    "        # EARLY STOPPING\n",
    "        if epochs_from_best > K_EPOCHS:\n",
    "            break"
   ]
  },
  {
   "cell_type": "code",
   "execution_count": 161,
   "metadata": {},
   "outputs": [
    {
     "name": "stdout",
     "output_type": "stream",
     "text": [
      "{0: 0.35, 1: 0.326, 2: 0.306}\n",
      "{'num_conv_layers': 4, 'num_filters': [64, 128, 256, 512], 'output_size': 20}\n",
      "0.306\n"
     ]
    },
    {
     "data": {
      "text/plain": [
       "<All keys matched successfully>"
      ]
     },
     "execution_count": 161,
     "metadata": {},
     "output_type": "execute_result"
    }
   ],
   "source": [
    "print(best_cnn_batch)\n",
    "index = min(best_cnn_batch, key=best_cnn_batch.get)\n",
    "print(networks[index])\n",
    "print(best_cnn_batch[index])\n",
    "\n",
    "model_path = \"saves/best_model_cnn_batch.pt\"\n",
    "# načteme nejlepší model\n",
    "model_cnn_batch = CNNBatch(num_conv_layers = networks[index]['num_conv_layers'],\n",
    "                 num_filters = networks[index]['num_filters'], \n",
    "                 output_size = networks[index]['output_size']).to(device)\n",
    "    \n",
    "# Load the model's state dictionary\n",
    "model_cnn_batch.load_state_dict(torch.load(model_path))"
   ]
  },
  {
   "cell_type": "code",
   "execution_count": 162,
   "metadata": {},
   "outputs": [
    {
     "name": "stdout",
     "output_type": "stream",
     "text": [
      "tensor([ True, False, False,  True,  True,  True,  True,  True,  True,  True,\n",
      "         True,  True,  True,  True,  True,  True,  True,  True,  True,  True,\n",
      "         True,  True,  True,  True,  True,  True,  True,  True,  True,  True,\n",
      "         True,  True,  True, False,  True,  True,  True,  True,  True,  True,\n",
      "         True,  True,  True,  True, False,  True,  True,  True,  True, False,\n",
      "         True,  True,  True,  True,  True,  True,  True,  True,  True,  True,\n",
      "        False,  True,  True, False], device='cuda:0')\n",
      "tensor([5, 0, 9, 9, 7, 0, 0, 0, 1, 9, 1, 4, 4, 3, 3, 7, 6, 6, 8, 8, 9, 4, 9, 1,\n",
      "        4, 5, 9, 5, 4, 4, 7, 0, 1, 0, 9, 0, 2, 6, 0, 0, 6, 2, 7, 6, 4, 4, 5, 5,\n",
      "        4, 4, 9, 1, 6, 5, 9, 4, 4, 8, 2, 2, 0, 8, 7, 4], device='cuda:0')\n",
      "tensor([5, 6, 7, 9, 7, 0, 0, 0, 1, 9, 1, 4, 4, 3, 3, 7, 6, 6, 8, 8, 9, 4, 9, 1,\n",
      "        4, 5, 9, 5, 4, 4, 7, 0, 1, 2, 9, 0, 2, 6, 0, 0, 6, 2, 7, 6, 2, 4, 5, 5,\n",
      "        4, 3, 9, 1, 6, 5, 9, 4, 4, 8, 2, 2, 6, 8, 7, 6], device='cuda:0')\n"
     ]
    }
   ],
   "source": [
    "with torch.no_grad():\n",
    "    print(model_cnn_batch(pixels).argmax(1) == labels.flatten())\n",
    "    print(model_cnn_batch(pixels).argmax(1))\n",
    "\n",
    "print(labels.flatten())"
   ]
  },
  {
   "cell_type": "code",
   "execution_count": 163,
   "metadata": {},
   "outputs": [
    {
     "name": "stdout",
     "output_type": "stream",
     "text": [
      "Validacni přesnost: 0.8988571428571429\n",
      "[[ 953    0   20   20    6    0   80    0    1    0]\n",
      " [   1 1075    0   10    3    0    2    0    0    1]\n",
      " [   9    1  859    3  106    1   55    0    2    0]\n",
      " [  36    5   12  881   54    0   26    0    0    0]\n",
      " [   2    0   40   20  881    1   45    0    0    0]\n",
      " [   0    0    0    0    0 1044    0   29    0    7]\n",
      " [ 138    0   61   20  101    0  705    0    4    0]\n",
      " [   0    0    0    0    0   16    0  959    0   67]\n",
      " [   6    0    5    4    2    8   10    0 1049    1]\n",
      " [   0    0    0    0    0    7    0   14    0 1032]]\n"
     ]
    }
   ],
   "source": [
    "from sklearn.metrics import accuracy_score\n",
    "\n",
    "val_predictions = np.zeros(len(val_loader.dataset))\n",
    "val_y = np.zeros(len(val_loader.dataset))\n",
    "ii = 0\n",
    "for vdata in val_loader:\n",
    "    vinputs, vlabels = vdata\n",
    "    with torch.no_grad():\n",
    "        voutputs = model_cnn_batch(vinputs)\n",
    "        vloss = loss_fn(voutputs, vlabels)\n",
    "    val_predictions[ii:(ii + vinputs.shape[0])] = voutputs.argmax(1).cpu().numpy()\n",
    "    val_y[ii:(ii + vinputs.shape[0])] = vlabels.cpu().numpy()\n",
    "\n",
    "    ii += vinputs.shape[0]\n",
    "    \n",
    "print(f\"Validacni přesnost: {accuracy_score(val_y, val_predictions)}\")\n",
    "\n",
    "# Confusion matrix\n",
    "from sklearn.metrics import confusion_matrix\n",
    "cnf_matrix = confusion_matrix(val_y, val_predictions)\n",
    "print(cnf_matrix)\n",
    "\n",
    "accuracy['CNN'].append(round(accuracy_score(val_y, val_predictions),6))"
   ]
  },
  {
   "cell_type": "markdown",
   "metadata": {},
   "source": [
    "Jak se mi zdá, je to nejvyšší dosažená přesnost"
   ]
  },
  {
   "cell_type": "code",
   "execution_count": 164,
   "metadata": {},
   "outputs": [
    {
     "data": {
      "text/plain": [
       "{'MLP': [0.840476,\n",
       "  0.837238,\n",
       "  0.836857,\n",
       "  0.819905,\n",
       "  0.802571,\n",
       "  0.736952,\n",
       "  0.856381,\n",
       "  0.843714],\n",
       " 'CNN': [0.883429,\n",
       "  0.882286,\n",
       "  0.893524,\n",
       "  0.873714,\n",
       "  0.873048,\n",
       "  0.845524,\n",
       "  0.888952,\n",
       "  0.898857]}"
      ]
     },
     "execution_count": 164,
     "metadata": {},
     "output_type": "execute_result"
    }
   ],
   "source": [
    "accuracy"
   ]
  },
  {
   "cell_type": "markdown",
   "metadata": {},
   "source": [
    "## III. Finální model"
   ]
  },
  {
   "cell_type": "markdown",
   "metadata": {},
   "source": [
    "Ted už můzu vybrat finální model na základech všech zkoušených modelů neuronových sítí"
   ]
  },
  {
   "cell_type": "markdown",
   "metadata": {},
   "source": [
    "Pro snadné zjištění nejlepšího modelu vytvořím dataset přesnosté všech modelů se všemi použitými metodami"
   ]
  },
  {
   "cell_type": "code",
   "execution_count": 165,
   "metadata": {},
   "outputs": [
    {
     "name": "stdout",
     "output_type": "stream",
     "text": [
      "               MLP       CNN\n",
      "Original  0.840476  0.883429\n",
      "Standard  0.837238  0.882286\n",
      "MinMax    0.836857  0.893524\n",
      "Dropout   0.819905  0.873714\n",
      "Drop+L1   0.802571  0.873048\n",
      "Drop+L2   0.736952  0.845524\n",
      "SGD       0.856381  0.888952\n",
      "Batch     0.843714  0.898857\n"
     ]
    }
   ],
   "source": [
    "rows_name = ['Original', 'Standard', 'MinMax', 'Dropout', 'Drop+L1', 'Drop+L2', 'SGD', 'Batch']\n",
    "accuracy_df = pd.DataFrame(accuracy, rows_name)\n",
    "\n",
    "print(accuracy_df)"
   ]
  },
  {
   "cell_type": "code",
   "execution_count": 177,
   "metadata": {},
   "outputs": [
    {
     "name": "stdout",
     "output_type": "stream",
     "text": [
      "Highest Accuracy Score: 0.898857\n",
      "Final model:  CNN\n",
      "Method of model tuning:  Batch\n"
     ]
    }
   ],
   "source": [
    "highest_accuracy_score = accuracy_df.max(axis=0).max()\n",
    "model_name = accuracy_df.max().idxmax()\n",
    "row_name = accuracy_df[model_name].idxmax()\n",
    "\n",
    "print(\"Highest Accuracy Score:\", highest_accuracy_score)\n",
    "print(\"Final model: \", model_name)\n",
    "print(\"Method of model tuning: \",row_name)"
   ]
  },
  {
   "cell_type": "markdown",
   "metadata": {},
   "source": [
    "Vidím, že nejvyšší přesnost dosahl model konvoluční neuronové sítí s Batch normalizaci"
   ]
  },
  {
   "cell_type": "markdown",
   "metadata": {},
   "source": [
    "Proto jako finální model zvolím tento model uložený jako best_model_cnn_batch.pt Tento model má 4 vrstvy a následující velikosti vrstev:"
   ]
  },
  {
   "cell_type": "code",
   "execution_count": 178,
   "metadata": {},
   "outputs": [
    {
     "name": "stdout",
     "output_type": "stream",
     "text": [
      "{'num_conv_layers': 4, 'num_filters': [64, 128, 256, 512], 'output_size': 20}\n"
     ]
    },
    {
     "data": {
      "text/plain": [
       "<All keys matched successfully>"
      ]
     },
     "execution_count": 178,
     "metadata": {},
     "output_type": "execute_result"
    }
   ],
   "source": [
    "index = min(best_cnn_batch, key=best_cnn_batch.get)\n",
    "print(networks[index])\n",
    "\n",
    "final_model = model_cnn_batch\n",
    "final_model = final_model.to(device)\n",
    "model_path = \"saves/best_model_cnn_batch.pt\"\n",
    "    \n",
    "# Load the model's state dictionary\n",
    "final_model.load_state_dict(torch.load(model_path))"
   ]
  },
  {
   "cell_type": "markdown",
   "metadata": {},
   "source": [
    "Podívám se na parametry finálního modelu"
   ]
  },
  {
   "cell_type": "code",
   "execution_count": 179,
   "metadata": {},
   "outputs": [
    {
     "name": "stdout",
     "output_type": "stream",
     "text": [
      "Layer name: conv_layers.0.weight - size of the layer: 576\n",
      "Layer name: conv_layers.0.bias - size of the layer: 64\n",
      "Layer name: conv_layers.1.weight - size of the layer: 73728\n",
      "Layer name: conv_layers.1.bias - size of the layer: 128\n",
      "Layer name: conv_layers.2.weight - size of the layer: 294912\n",
      "Layer name: conv_layers.2.bias - size of the layer: 256\n",
      "Layer name: conv_layers.3.weight - size of the layer: 1179648\n",
      "Layer name: conv_layers.3.bias - size of the layer: 512\n",
      "Layer name: bn_layers.0.weight - size of the layer: 64\n",
      "Layer name: bn_layers.0.bias - size of the layer: 64\n",
      "Layer name: bn_layers.1.weight - size of the layer: 128\n",
      "Layer name: bn_layers.1.bias - size of the layer: 128\n",
      "Layer name: bn_layers.2.weight - size of the layer: 256\n",
      "Layer name: bn_layers.2.bias - size of the layer: 256\n",
      "Layer name: bn_layers.3.weight - size of the layer: 512\n",
      "Layer name: bn_layers.3.bias - size of the layer: 512\n",
      "Layer name: fc.weight - size of the layer: 40960\n",
      "Layer name: fc.bias - size of the layer: 20\n",
      "\n",
      "Celkový počet parametrů: 1592724\n"
     ]
    }
   ],
   "source": [
    "num_params = 0\n",
    "for name, param in final_model.named_parameters():\n",
    "    print(f\"Layer name: {name} - size of the layer: {param.numel()}\")\n",
    "    num_params += param.numel()\n",
    "    \n",
    "print(f\"\\nCelkový počet parametrů: {num_params}\")"
   ]
  },
  {
   "cell_type": "markdown",
   "metadata": {},
   "source": [
    "Můj finální model mé celkem 1.6 milionů parametrů"
   ]
  },
  {
   "cell_type": "markdown",
   "metadata": {},
   "source": [
    "Podívám se na přesnost finálního modelu na testovaích datech, která doposud neviděl"
   ]
  },
  {
   "cell_type": "code",
   "execution_count": 180,
   "metadata": {},
   "outputs": [
    {
     "name": "stdout",
     "output_type": "stream",
     "text": [
      "Test přesnost: 0.8968571428571429\n",
      "[[ 920    0   19   17    4    0   87    0    0    0]\n",
      " [   0 1008    0    9    5    2    2    0    1    0]\n",
      " [  11    2  871    7  113    0   43    0    0    0]\n",
      " [  27    9   11  940   58    0   25    0    0    2]\n",
      " [   0    0   44   17  959    0   44    0    0    0]\n",
      " [   0    0    0    0    0  962    0   26    0   16]\n",
      " [ 139    2   74   19  113    1  737    0    3    0]\n",
      " [   0    0    0    0    0   15    0  962    0   59]\n",
      " [   4    2    3    3    8    4    8    0 1043    2]\n",
      " [   0    0    0    0    0   10    0   13    0 1015]]\n"
     ]
    }
   ],
   "source": [
    "test_predictions = np.zeros(len(test_loader.dataset))\n",
    "test_y = np.zeros(len(test_loader.dataset))\n",
    "ii = 0\n",
    "for tdata in test_loader:\n",
    "    tinputs, tlabels = tdata\n",
    "    with torch.no_grad():\n",
    "        toutputs = final_model(tinputs)\n",
    "        tloss = loss_fn(toutputs, tlabels)\n",
    "    test_predictions[ii:(ii + tinputs.shape[0])] = toutputs.argmax(1).cpu().numpy()\n",
    "    test_y[ii:(ii + tinputs.shape[0])] = tlabels.cpu().numpy()\n",
    "\n",
    "    ii += tinputs.shape[0]\n",
    "    \n",
    "print(f\"Test přesnost: {accuracy_score(test_y, test_predictions)}\")\n",
    "\n",
    "# Confusion matrix\n",
    "from sklearn.metrics import confusion_matrix\n",
    "cnf_matrix = confusion_matrix(test_y, test_predictions)\n",
    "print(cnf_matrix)"
   ]
  },
  {
   "cell_type": "markdown",
   "metadata": {},
   "source": [
    "Dostal jsem na testovacích datech dost vysokou přesnost"
   ]
  },
  {
   "cell_type": "code",
   "execution_count": 181,
   "metadata": {},
   "outputs": [
    {
     "data": {
      "image/png": "[encoded data removed]",
      "text/plain": [
       "<Figure size 700x700 with 2 Axes>"
      ]
     },
     "metadata": {},
     "output_type": "display_data"
    }
   ],
   "source": [
    "plt.figure(figsize=(7, 7))\n",
    "sns.heatmap(cnf_matrix, annot=True, fmt=\"d\", cmap=\"Blues\")\n",
    "\n",
    "plt.gca().spines['top'].set_visible(True)\n",
    "plt.gca().spines['bottom'].set_visible(True)\n",
    "plt.gca().spines['left'].set_visible(True)\n",
    "plt.gca().spines['right'].set_visible(True)\n",
    "\n",
    "plt.xlabel('Predicted labels')\n",
    "plt.ylabel('True labels')\n",
    "plt.title('Confusion Matrix')\n",
    "plt.show()"
   ]
  },
  {
   "cell_type": "markdown",
   "metadata": {},
   "source": [
    "Ale všiml jsem si, že téměř všechny modely má nějaké problémy s predikcemi košil. Všechny si pletou košile s kabáty a tričky"
   ]
  },
  {
   "cell_type": "markdown",
   "metadata": {},
   "source": [
    "## IV. Predikce pomocí finálního modelu"
   ]
  },
  {
   "cell_type": "markdown",
   "metadata": {},
   "source": [
    "Uložím data na vyhodnocování do dataframu, aplikuju všechny manipulace pro nej, abych mohl správně použít můj finální model"
   ]
  },
  {
   "cell_type": "code",
   "execution_count": 185,
   "metadata": {},
   "outputs": [
    {
     "data": {
      "text/html": [
       "<div>\n",
       "<style scoped>\n",
       "    .dataframe tbody tr th:only-of-type {\n",
       "        vertical-align: middle;\n",
       "    }\n",
       "\n",
       "    .dataframe tbody tr th {\n",
       "        vertical-align: top;\n",
       "    }\n",
       "\n",
       "    .dataframe thead th {\n",
       "        text-align: right;\n",
       "    }\n",
       "</style>\n",
       "<table border=\"1\" class=\"dataframe\">\n",
       "  <thead>\n",
       "    <tr style=\"text-align: right;\">\n",
       "      <th></th>\n",
       "      <th>ID</th>\n",
       "      <th>pix1</th>\n",
       "      <th>pix2</th>\n",
       "      <th>pix3</th>\n",
       "      <th>pix4</th>\n",
       "      <th>pix5</th>\n",
       "      <th>pix6</th>\n",
       "      <th>pix7</th>\n",
       "      <th>pix8</th>\n",
       "      <th>pix9</th>\n",
       "      <th>...</th>\n",
       "      <th>pix1015</th>\n",
       "      <th>pix1016</th>\n",
       "      <th>pix1017</th>\n",
       "      <th>pix1018</th>\n",
       "      <th>pix1019</th>\n",
       "      <th>pix1020</th>\n",
       "      <th>pix1021</th>\n",
       "      <th>pix1022</th>\n",
       "      <th>pix1023</th>\n",
       "      <th>pix1024</th>\n",
       "    </tr>\n",
       "  </thead>\n",
       "  <tbody>\n",
       "    <tr>\n",
       "      <th>0</th>\n",
       "      <td>0</td>\n",
       "      <td>0</td>\n",
       "      <td>0</td>\n",
       "      <td>0</td>\n",
       "      <td>0</td>\n",
       "      <td>0</td>\n",
       "      <td>0</td>\n",
       "      <td>0</td>\n",
       "      <td>0</td>\n",
       "      <td>0</td>\n",
       "      <td>...</td>\n",
       "      <td>0</td>\n",
       "      <td>0</td>\n",
       "      <td>0</td>\n",
       "      <td>0</td>\n",
       "      <td>0</td>\n",
       "      <td>0</td>\n",
       "      <td>0</td>\n",
       "      <td>0</td>\n",
       "      <td>0</td>\n",
       "      <td>0</td>\n",
       "    </tr>\n",
       "    <tr>\n",
       "      <th>1</th>\n",
       "      <td>1</td>\n",
       "      <td>0</td>\n",
       "      <td>0</td>\n",
       "      <td>0</td>\n",
       "      <td>0</td>\n",
       "      <td>0</td>\n",
       "      <td>0</td>\n",
       "      <td>0</td>\n",
       "      <td>0</td>\n",
       "      <td>0</td>\n",
       "      <td>...</td>\n",
       "      <td>0</td>\n",
       "      <td>0</td>\n",
       "      <td>0</td>\n",
       "      <td>0</td>\n",
       "      <td>0</td>\n",
       "      <td>0</td>\n",
       "      <td>0</td>\n",
       "      <td>0</td>\n",
       "      <td>0</td>\n",
       "      <td>0</td>\n",
       "    </tr>\n",
       "    <tr>\n",
       "      <th>2</th>\n",
       "      <td>2</td>\n",
       "      <td>0</td>\n",
       "      <td>0</td>\n",
       "      <td>0</td>\n",
       "      <td>0</td>\n",
       "      <td>0</td>\n",
       "      <td>0</td>\n",
       "      <td>0</td>\n",
       "      <td>0</td>\n",
       "      <td>0</td>\n",
       "      <td>...</td>\n",
       "      <td>0</td>\n",
       "      <td>0</td>\n",
       "      <td>0</td>\n",
       "      <td>0</td>\n",
       "      <td>0</td>\n",
       "      <td>0</td>\n",
       "      <td>0</td>\n",
       "      <td>0</td>\n",
       "      <td>0</td>\n",
       "      <td>0</td>\n",
       "    </tr>\n",
       "    <tr>\n",
       "      <th>3</th>\n",
       "      <td>3</td>\n",
       "      <td>2</td>\n",
       "      <td>2</td>\n",
       "      <td>2</td>\n",
       "      <td>2</td>\n",
       "      <td>2</td>\n",
       "      <td>2</td>\n",
       "      <td>2</td>\n",
       "      <td>2</td>\n",
       "      <td>2</td>\n",
       "      <td>...</td>\n",
       "      <td>2</td>\n",
       "      <td>2</td>\n",
       "      <td>2</td>\n",
       "      <td>2</td>\n",
       "      <td>2</td>\n",
       "      <td>2</td>\n",
       "      <td>2</td>\n",
       "      <td>2</td>\n",
       "      <td>2</td>\n",
       "      <td>2</td>\n",
       "    </tr>\n",
       "    <tr>\n",
       "      <th>4</th>\n",
       "      <td>4</td>\n",
       "      <td>0</td>\n",
       "      <td>0</td>\n",
       "      <td>0</td>\n",
       "      <td>0</td>\n",
       "      <td>0</td>\n",
       "      <td>0</td>\n",
       "      <td>0</td>\n",
       "      <td>0</td>\n",
       "      <td>0</td>\n",
       "      <td>...</td>\n",
       "      <td>0</td>\n",
       "      <td>0</td>\n",
       "      <td>0</td>\n",
       "      <td>0</td>\n",
       "      <td>0</td>\n",
       "      <td>0</td>\n",
       "      <td>0</td>\n",
       "      <td>0</td>\n",
       "      <td>0</td>\n",
       "      <td>0</td>\n",
       "    </tr>\n",
       "  </tbody>\n",
       "</table>\n",
       "<p>5 rows × 1025 columns</p>\n",
       "</div>"
      ],
      "text/plain": [
       "   ID  pix1  pix2  pix3  pix4  pix5  pix6  pix7  pix8  pix9  ...  pix1015  \\\n",
       "0   0     0     0     0     0     0     0     0     0     0  ...        0   \n",
       "1   1     0     0     0     0     0     0     0     0     0  ...        0   \n",
       "2   2     0     0     0     0     0     0     0     0     0  ...        0   \n",
       "3   3     2     2     2     2     2     2     2     2     2  ...        2   \n",
       "4   4     0     0     0     0     0     0     0     0     0  ...        0   \n",
       "\n",
       "   pix1016  pix1017  pix1018  pix1019  pix1020  pix1021  pix1022  pix1023  \\\n",
       "0        0        0        0        0        0        0        0        0   \n",
       "1        0        0        0        0        0        0        0        0   \n",
       "2        0        0        0        0        0        0        0        0   \n",
       "3        2        2        2        2        2        2        2        2   \n",
       "4        0        0        0        0        0        0        0        0   \n",
       "\n",
       "   pix1024  \n",
       "0        0  \n",
       "1        0  \n",
       "2        0  \n",
       "3        2  \n",
       "4        0  \n",
       "\n",
       "[5 rows x 1025 columns]"
      ]
     },
     "metadata": {},
     "output_type": "display_data"
    },
    {
     "data": {
      "text/plain": [
       "(17500, 1025)"
      ]
     },
     "metadata": {},
     "output_type": "display_data"
    }
   ],
   "source": [
    "eval_df = pd.read_csv('evaluate.csv')\n",
    "display(eval_df.head())\n",
    "display(eval_df.shape)\n",
    "\n",
    "ID = eval_df['ID']\n",
    "eval_df = eval_df.drop('ID', axis=1)"
   ]
  },
  {
   "cell_type": "markdown",
   "metadata": {},
   "source": [
    "Nastavím finální model na evaluaci a udělám predikce"
   ]
  },
  {
   "cell_type": "code",
   "execution_count": 187,
   "metadata": {},
   "outputs": [],
   "source": [
    "final_model.eval()\n",
    "\n",
    "eval_data_tensor = torch.tensor(eval_df.values.reshape(-1, 1, 32, 32), dtype=torch.float).to(device)\n",
    "\n",
    "with torch.no_grad():\n",
    "    predictions = final_model(eval_data_tensor)"
   ]
  },
  {
   "cell_type": "code",
   "execution_count": 188,
   "metadata": {},
   "outputs": [],
   "source": [
    "label = torch.argmax(predictions, dim=1).tolist()"
   ]
  },
  {
   "cell_type": "code",
   "execution_count": 189,
   "metadata": {},
   "outputs": [
    {
     "data": {
      "text/html": [
       "<div>\n",
       "<style scoped>\n",
       "    .dataframe tbody tr th:only-of-type {\n",
       "        vertical-align: middle;\n",
       "    }\n",
       "\n",
       "    .dataframe tbody tr th {\n",
       "        vertical-align: top;\n",
       "    }\n",
       "\n",
       "    .dataframe thead th {\n",
       "        text-align: right;\n",
       "    }\n",
       "</style>\n",
       "<table border=\"1\" class=\"dataframe\">\n",
       "  <thead>\n",
       "    <tr style=\"text-align: right;\">\n",
       "      <th></th>\n",
       "      <th>ID</th>\n",
       "      <th>label</th>\n",
       "    </tr>\n",
       "  </thead>\n",
       "  <tbody>\n",
       "    <tr>\n",
       "      <th>0</th>\n",
       "      <td>0</td>\n",
       "      <td>9</td>\n",
       "    </tr>\n",
       "    <tr>\n",
       "      <th>1</th>\n",
       "      <td>1</td>\n",
       "      <td>4</td>\n",
       "    </tr>\n",
       "    <tr>\n",
       "      <th>2</th>\n",
       "      <td>2</td>\n",
       "      <td>1</td>\n",
       "    </tr>\n",
       "    <tr>\n",
       "      <th>3</th>\n",
       "      <td>3</td>\n",
       "      <td>7</td>\n",
       "    </tr>\n",
       "    <tr>\n",
       "      <th>4</th>\n",
       "      <td>4</td>\n",
       "      <td>1</td>\n",
       "    </tr>\n",
       "    <tr>\n",
       "      <th>5</th>\n",
       "      <td>5</td>\n",
       "      <td>9</td>\n",
       "    </tr>\n",
       "    <tr>\n",
       "      <th>6</th>\n",
       "      <td>6</td>\n",
       "      <td>1</td>\n",
       "    </tr>\n",
       "    <tr>\n",
       "      <th>7</th>\n",
       "      <td>7</td>\n",
       "      <td>6</td>\n",
       "    </tr>\n",
       "    <tr>\n",
       "      <th>8</th>\n",
       "      <td>8</td>\n",
       "      <td>0</td>\n",
       "    </tr>\n",
       "    <tr>\n",
       "      <th>9</th>\n",
       "      <td>9</td>\n",
       "      <td>0</td>\n",
       "    </tr>\n",
       "    <tr>\n",
       "      <th>10</th>\n",
       "      <td>10</td>\n",
       "      <td>8</td>\n",
       "    </tr>\n",
       "    <tr>\n",
       "      <th>11</th>\n",
       "      <td>11</td>\n",
       "      <td>4</td>\n",
       "    </tr>\n",
       "    <tr>\n",
       "      <th>12</th>\n",
       "      <td>12</td>\n",
       "      <td>4</td>\n",
       "    </tr>\n",
       "    <tr>\n",
       "      <th>13</th>\n",
       "      <td>13</td>\n",
       "      <td>3</td>\n",
       "    </tr>\n",
       "    <tr>\n",
       "      <th>14</th>\n",
       "      <td>14</td>\n",
       "      <td>2</td>\n",
       "    </tr>\n",
       "  </tbody>\n",
       "</table>\n",
       "</div>"
      ],
      "text/plain": [
       "    ID  label\n",
       "0    0      9\n",
       "1    1      4\n",
       "2    2      1\n",
       "3    3      7\n",
       "4    4      1\n",
       "5    5      9\n",
       "6    6      1\n",
       "7    7      6\n",
       "8    8      0\n",
       "9    9      0\n",
       "10  10      8\n",
       "11  11      4\n",
       "12  12      4\n",
       "13  13      3\n",
       "14  14      2"
      ]
     },
     "execution_count": 189,
     "metadata": {},
     "output_type": "execute_result"
    }
   ],
   "source": [
    "results_df = pd.DataFrame({'ID': ID, 'label': label})\n",
    "results_df.head(15)"
   ]
  },
  {
   "cell_type": "markdown",
   "metadata": {},
   "source": [
    "Zobrazím několik prvních obrazků s predikovanými labely"
   ]
  },
  {
   "cell_type": "code",
   "execution_count": 190,
   "metadata": {},
   "outputs": [
    {
     "data": {
      "image/png": "[encoded data removed]",
      "text/plain": [
       "<Figure size 800x800 with 16 Axes>"
      ]
     },
     "metadata": {},
     "output_type": "display_data"
    }
   ],
   "source": [
    "fig, axs = plt.subplots(4, 4, figsize=(8,8))\n",
    "axs = axs.flatten()\n",
    "\n",
    "for image_index, ax in enumerate(axs):\n",
    "    image_pixels = eval_df.iloc[image_index].values\n",
    "    # Reshape the pixel values into a 28x28 image\n",
    "    image = image_pixels.reshape(32, 32)\n",
    "    label_image = results_df['label'][image_index]\n",
    "    \n",
    "    ax.imshow(image, cmap='gray', extent=[0, 1, 0, 1])\n",
    "    ax.set_title(f\"Label: {label_image}\")\n",
    "    ax.axis('off')\n",
    "\n",
    "plt.tight_layout()  # Adjust layout to prevent overlapping\n",
    "plt.show()"
   ]
  },
  {
   "cell_type": "markdown",
   "metadata": {},
   "source": [
    "Uložím náš dataset to csv-souboru."
   ]
  },
  {
   "cell_type": "code",
   "execution_count": 191,
   "metadata": {},
   "outputs": [],
   "source": [
    "results_df.to_csv('results.csv', index=False)"
   ]
  },
  {
   "cell_type": "code",
   "execution_count": null,
   "metadata": {},
   "outputs": [],
   "source": []
  }
 ],
 "metadata": {
  "kernelspec": {
   "display_name": "Python 3 (ipykernel)",
   "language": "python",
   "name": "python3"
  },
  "language_info": {
   "codemirror_mode": {
    "name": "ipython",
    "version": 3
   },
   "file_extension": ".py",
   "mimetype": "text/x-python",
   "name": "python",
   "nbconvert_exporter": "python",
   "pygments_lexer": "ipython3",
   "version": "3.10.1"
  }
 },
 "nbformat": 4,
 "nbformat_minor": 4
}
